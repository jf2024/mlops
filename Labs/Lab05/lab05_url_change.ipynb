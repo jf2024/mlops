{
 "cells": [
  {
   "attachments": {},
   "cell_type": "markdown",
   "metadata": {},
   "source": [
    "# Experiment Tracking with MLFlow (Local)\n",
    "\n",
    "In this demo we will see how to use MLFlow for tracking experiments, using a toy data set. In the attached lab (below), you will download a larger dataset and attempt to train the best model that you can.\n",
    "\n",
    "We should first install mlflow, and add it to the requirements.txt file if not done already.\n",
    "\n",
    "`pip install mlflow` or `python3 -m pip install mlflow`.\n",
    "\n",
    "You may also need to `pip install setuptools`.\n",
    "\n",
    "From here, make sure to save this notebook in a specific folder, and ensure you run all command line commands from the same folder."
   ]
  },
  {
   "cell_type": "code",
   "execution_count": 1,
   "metadata": {},
   "outputs": [],
   "source": [
    "import mlflow\n",
    "import pandas as pd\n",
    "from sklearn.tree import DecisionTreeClassifier\n",
    "from sklearn.datasets import load_wine\n",
    "from sklearn.metrics import accuracy_score"
   ]
  },
  {
   "attachments": {},
   "cell_type": "markdown",
   "metadata": {},
   "source": [
    "After loading the libraries, we can first check the mlflow version you have. And, just for fun, let's look at the mlflow UI by running `mlflow ui`. After this, we should do two things:\n",
    "- set the tracking uri\n",
    "- create or set the experiment\n",
    "\n",
    "Setting the tracking uri tells mlflow where to save the results of our experiments. We will first save these locally in a sqlite instance. In a future lab we will set up mlflow to run in GCP.\n",
    "\n",
    "If you've already created an experiment previously that you'd like to use, you can tell mlflow by setting the experiment. You can also use `set_experiment` even if the experiment has not yet been created - mlflow will first check if the experiment exists, and if not, it will create it for you. "
   ]
  },
  {
   "cell_type": "code",
   "execution_count": 2,
   "metadata": {},
   "outputs": [
    {
     "data": {
      "text/plain": [
       "'2.15.1'"
      ]
     },
     "execution_count": 2,
     "metadata": {},
     "output_type": "execute_result"
    }
   ],
   "source": [
    "mlflow.__version__"
   ]
  },
  {
   "attachments": {},
   "cell_type": "markdown",
   "metadata": {},
   "source": [
    "Running the below code will create a sqlite database and an mlruns folder in the current directory."
   ]
  },
  {
   "cell_type": "code",
   "execution_count": 3,
   "metadata": {},
   "outputs": [
    {
     "name": "stderr",
     "output_type": "stream",
     "text": [
      "2025/04/16 22:32:59 INFO mlflow.tracking.fluent: Experiment with name 'demo-experiment' does not exist. Creating a new experiment.\n"
     ]
    },
    {
     "data": {
      "text/plain": [
       "<Experiment: artifact_location='mlflow-artifacts:/1', creation_time=1744867979806, experiment_id='1', last_update_time=1744867979806, lifecycle_stage='active', name='demo-experiment', tags={}>"
      ]
     },
     "execution_count": 3,
     "metadata": {},
     "output_type": "execute_result"
    }
   ],
   "source": [
    "mlflow.set_tracking_uri('https://mlops-service-616366923242.us-west2.run.app') #changed this from lab02\n",
    "mlflow.set_experiment('demo-experiment')"
   ]
  },
  {
   "attachments": {},
   "cell_type": "markdown",
   "metadata": {},
   "source": [
    "From here, we can load the wine data from sklearn and take a look at it. Then let's play around with some models, without using mlflow for now, to get a sense of why mlflow might come in handy."
   ]
  },
  {
   "cell_type": "code",
   "execution_count": 4,
   "metadata": {},
   "outputs": [
    {
     "data": {
      "text/html": [
       "<div>\n",
       "<style scoped>\n",
       "    .dataframe tbody tr th:only-of-type {\n",
       "        vertical-align: middle;\n",
       "    }\n",
       "\n",
       "    .dataframe tbody tr th {\n",
       "        vertical-align: top;\n",
       "    }\n",
       "\n",
       "    .dataframe thead th {\n",
       "        text-align: right;\n",
       "    }\n",
       "</style>\n",
       "<table border=\"1\" class=\"dataframe\">\n",
       "  <thead>\n",
       "    <tr style=\"text-align: right;\">\n",
       "      <th></th>\n",
       "      <th>alcohol</th>\n",
       "      <th>malic_acid</th>\n",
       "      <th>ash</th>\n",
       "      <th>alcalinity_of_ash</th>\n",
       "      <th>magnesium</th>\n",
       "      <th>total_phenols</th>\n",
       "      <th>flavanoids</th>\n",
       "      <th>nonflavanoid_phenols</th>\n",
       "      <th>proanthocyanins</th>\n",
       "      <th>color_intensity</th>\n",
       "      <th>hue</th>\n",
       "      <th>od280/od315_of_diluted_wines</th>\n",
       "      <th>proline</th>\n",
       "    </tr>\n",
       "  </thead>\n",
       "  <tbody>\n",
       "    <tr>\n",
       "      <th>0</th>\n",
       "      <td>14.23</td>\n",
       "      <td>1.71</td>\n",
       "      <td>2.43</td>\n",
       "      <td>15.6</td>\n",
       "      <td>127.0</td>\n",
       "      <td>2.80</td>\n",
       "      <td>3.06</td>\n",
       "      <td>0.28</td>\n",
       "      <td>2.29</td>\n",
       "      <td>5.64</td>\n",
       "      <td>1.04</td>\n",
       "      <td>3.92</td>\n",
       "      <td>1065.0</td>\n",
       "    </tr>\n",
       "    <tr>\n",
       "      <th>1</th>\n",
       "      <td>13.20</td>\n",
       "      <td>1.78</td>\n",
       "      <td>2.14</td>\n",
       "      <td>11.2</td>\n",
       "      <td>100.0</td>\n",
       "      <td>2.65</td>\n",
       "      <td>2.76</td>\n",
       "      <td>0.26</td>\n",
       "      <td>1.28</td>\n",
       "      <td>4.38</td>\n",
       "      <td>1.05</td>\n",
       "      <td>3.40</td>\n",
       "      <td>1050.0</td>\n",
       "    </tr>\n",
       "    <tr>\n",
       "      <th>2</th>\n",
       "      <td>13.16</td>\n",
       "      <td>2.36</td>\n",
       "      <td>2.67</td>\n",
       "      <td>18.6</td>\n",
       "      <td>101.0</td>\n",
       "      <td>2.80</td>\n",
       "      <td>3.24</td>\n",
       "      <td>0.30</td>\n",
       "      <td>2.81</td>\n",
       "      <td>5.68</td>\n",
       "      <td>1.03</td>\n",
       "      <td>3.17</td>\n",
       "      <td>1185.0</td>\n",
       "    </tr>\n",
       "  </tbody>\n",
       "</table>\n",
       "</div>"
      ],
      "text/plain": [
       "   alcohol  malic_acid   ash  alcalinity_of_ash  magnesium  total_phenols  \\\n",
       "0    14.23        1.71  2.43               15.6      127.0           2.80   \n",
       "1    13.20        1.78  2.14               11.2      100.0           2.65   \n",
       "2    13.16        2.36  2.67               18.6      101.0           2.80   \n",
       "\n",
       "   flavanoids  nonflavanoid_phenols  proanthocyanins  color_intensity   hue  \\\n",
       "0        3.06                  0.28             2.29             5.64  1.04   \n",
       "1        2.76                  0.26             1.28             4.38  1.05   \n",
       "2        3.24                  0.30             2.81             5.68  1.03   \n",
       "\n",
       "   od280/od315_of_diluted_wines  proline  \n",
       "0                          3.92   1065.0  \n",
       "1                          3.40   1050.0  \n",
       "2                          3.17   1185.0  "
      ]
     },
     "execution_count": 4,
     "metadata": {},
     "output_type": "execute_result"
    }
   ],
   "source": [
    "wine = load_wine()\n",
    "df_wine = pd.DataFrame(data=wine.data, columns=wine.feature_names)\n",
    "df_wine.head(3)"
   ]
  },
  {
   "cell_type": "code",
   "execution_count": 5,
   "metadata": {},
   "outputs": [
    {
     "data": {
      "text/html": [
       "<style>#sk-container-id-1 {\n",
       "  /* Definition of color scheme common for light and dark mode */\n",
       "  --sklearn-color-text: #000;\n",
       "  --sklearn-color-text-muted: #666;\n",
       "  --sklearn-color-line: gray;\n",
       "  /* Definition of color scheme for unfitted estimators */\n",
       "  --sklearn-color-unfitted-level-0: #fff5e6;\n",
       "  --sklearn-color-unfitted-level-1: #f6e4d2;\n",
       "  --sklearn-color-unfitted-level-2: #ffe0b3;\n",
       "  --sklearn-color-unfitted-level-3: chocolate;\n",
       "  /* Definition of color scheme for fitted estimators */\n",
       "  --sklearn-color-fitted-level-0: #f0f8ff;\n",
       "  --sklearn-color-fitted-level-1: #d4ebff;\n",
       "  --sklearn-color-fitted-level-2: #b3dbfd;\n",
       "  --sklearn-color-fitted-level-3: cornflowerblue;\n",
       "\n",
       "  /* Specific color for light theme */\n",
       "  --sklearn-color-text-on-default-background: var(--sg-text-color, var(--theme-code-foreground, var(--jp-content-font-color1, black)));\n",
       "  --sklearn-color-background: var(--sg-background-color, var(--theme-background, var(--jp-layout-color0, white)));\n",
       "  --sklearn-color-border-box: var(--sg-text-color, var(--theme-code-foreground, var(--jp-content-font-color1, black)));\n",
       "  --sklearn-color-icon: #696969;\n",
       "\n",
       "  @media (prefers-color-scheme: dark) {\n",
       "    /* Redefinition of color scheme for dark theme */\n",
       "    --sklearn-color-text-on-default-background: var(--sg-text-color, var(--theme-code-foreground, var(--jp-content-font-color1, white)));\n",
       "    --sklearn-color-background: var(--sg-background-color, var(--theme-background, var(--jp-layout-color0, #111)));\n",
       "    --sklearn-color-border-box: var(--sg-text-color, var(--theme-code-foreground, var(--jp-content-font-color1, white)));\n",
       "    --sklearn-color-icon: #878787;\n",
       "  }\n",
       "}\n",
       "\n",
       "#sk-container-id-1 {\n",
       "  color: var(--sklearn-color-text);\n",
       "}\n",
       "\n",
       "#sk-container-id-1 pre {\n",
       "  padding: 0;\n",
       "}\n",
       "\n",
       "#sk-container-id-1 input.sk-hidden--visually {\n",
       "  border: 0;\n",
       "  clip: rect(1px 1px 1px 1px);\n",
       "  clip: rect(1px, 1px, 1px, 1px);\n",
       "  height: 1px;\n",
       "  margin: -1px;\n",
       "  overflow: hidden;\n",
       "  padding: 0;\n",
       "  position: absolute;\n",
       "  width: 1px;\n",
       "}\n",
       "\n",
       "#sk-container-id-1 div.sk-dashed-wrapped {\n",
       "  border: 1px dashed var(--sklearn-color-line);\n",
       "  margin: 0 0.4em 0.5em 0.4em;\n",
       "  box-sizing: border-box;\n",
       "  padding-bottom: 0.4em;\n",
       "  background-color: var(--sklearn-color-background);\n",
       "}\n",
       "\n",
       "#sk-container-id-1 div.sk-container {\n",
       "  /* jupyter's `normalize.less` sets `[hidden] { display: none; }`\n",
       "     but bootstrap.min.css set `[hidden] { display: none !important; }`\n",
       "     so we also need the `!important` here to be able to override the\n",
       "     default hidden behavior on the sphinx rendered scikit-learn.org.\n",
       "     See: https://github.com/scikit-learn/scikit-learn/issues/21755 */\n",
       "  display: inline-block !important;\n",
       "  position: relative;\n",
       "}\n",
       "\n",
       "#sk-container-id-1 div.sk-text-repr-fallback {\n",
       "  display: none;\n",
       "}\n",
       "\n",
       "div.sk-parallel-item,\n",
       "div.sk-serial,\n",
       "div.sk-item {\n",
       "  /* draw centered vertical line to link estimators */\n",
       "  background-image: linear-gradient(var(--sklearn-color-text-on-default-background), var(--sklearn-color-text-on-default-background));\n",
       "  background-size: 2px 100%;\n",
       "  background-repeat: no-repeat;\n",
       "  background-position: center center;\n",
       "}\n",
       "\n",
       "/* Parallel-specific style estimator block */\n",
       "\n",
       "#sk-container-id-1 div.sk-parallel-item::after {\n",
       "  content: \"\";\n",
       "  width: 100%;\n",
       "  border-bottom: 2px solid var(--sklearn-color-text-on-default-background);\n",
       "  flex-grow: 1;\n",
       "}\n",
       "\n",
       "#sk-container-id-1 div.sk-parallel {\n",
       "  display: flex;\n",
       "  align-items: stretch;\n",
       "  justify-content: center;\n",
       "  background-color: var(--sklearn-color-background);\n",
       "  position: relative;\n",
       "}\n",
       "\n",
       "#sk-container-id-1 div.sk-parallel-item {\n",
       "  display: flex;\n",
       "  flex-direction: column;\n",
       "}\n",
       "\n",
       "#sk-container-id-1 div.sk-parallel-item:first-child::after {\n",
       "  align-self: flex-end;\n",
       "  width: 50%;\n",
       "}\n",
       "\n",
       "#sk-container-id-1 div.sk-parallel-item:last-child::after {\n",
       "  align-self: flex-start;\n",
       "  width: 50%;\n",
       "}\n",
       "\n",
       "#sk-container-id-1 div.sk-parallel-item:only-child::after {\n",
       "  width: 0;\n",
       "}\n",
       "\n",
       "/* Serial-specific style estimator block */\n",
       "\n",
       "#sk-container-id-1 div.sk-serial {\n",
       "  display: flex;\n",
       "  flex-direction: column;\n",
       "  align-items: center;\n",
       "  background-color: var(--sklearn-color-background);\n",
       "  padding-right: 1em;\n",
       "  padding-left: 1em;\n",
       "}\n",
       "\n",
       "\n",
       "/* Toggleable style: style used for estimator/Pipeline/ColumnTransformer box that is\n",
       "clickable and can be expanded/collapsed.\n",
       "- Pipeline and ColumnTransformer use this feature and define the default style\n",
       "- Estimators will overwrite some part of the style using the `sk-estimator` class\n",
       "*/\n",
       "\n",
       "/* Pipeline and ColumnTransformer style (default) */\n",
       "\n",
       "#sk-container-id-1 div.sk-toggleable {\n",
       "  /* Default theme specific background. It is overwritten whether we have a\n",
       "  specific estimator or a Pipeline/ColumnTransformer */\n",
       "  background-color: var(--sklearn-color-background);\n",
       "}\n",
       "\n",
       "/* Toggleable label */\n",
       "#sk-container-id-1 label.sk-toggleable__label {\n",
       "  cursor: pointer;\n",
       "  display: flex;\n",
       "  width: 100%;\n",
       "  margin-bottom: 0;\n",
       "  padding: 0.5em;\n",
       "  box-sizing: border-box;\n",
       "  text-align: center;\n",
       "  align-items: start;\n",
       "  justify-content: space-between;\n",
       "  gap: 0.5em;\n",
       "}\n",
       "\n",
       "#sk-container-id-1 label.sk-toggleable__label .caption {\n",
       "  font-size: 0.6rem;\n",
       "  font-weight: lighter;\n",
       "  color: var(--sklearn-color-text-muted);\n",
       "}\n",
       "\n",
       "#sk-container-id-1 label.sk-toggleable__label-arrow:before {\n",
       "  /* Arrow on the left of the label */\n",
       "  content: \"▸\";\n",
       "  float: left;\n",
       "  margin-right: 0.25em;\n",
       "  color: var(--sklearn-color-icon);\n",
       "}\n",
       "\n",
       "#sk-container-id-1 label.sk-toggleable__label-arrow:hover:before {\n",
       "  color: var(--sklearn-color-text);\n",
       "}\n",
       "\n",
       "/* Toggleable content - dropdown */\n",
       "\n",
       "#sk-container-id-1 div.sk-toggleable__content {\n",
       "  max-height: 0;\n",
       "  max-width: 0;\n",
       "  overflow: hidden;\n",
       "  text-align: left;\n",
       "  /* unfitted */\n",
       "  background-color: var(--sklearn-color-unfitted-level-0);\n",
       "}\n",
       "\n",
       "#sk-container-id-1 div.sk-toggleable__content.fitted {\n",
       "  /* fitted */\n",
       "  background-color: var(--sklearn-color-fitted-level-0);\n",
       "}\n",
       "\n",
       "#sk-container-id-1 div.sk-toggleable__content pre {\n",
       "  margin: 0.2em;\n",
       "  border-radius: 0.25em;\n",
       "  color: var(--sklearn-color-text);\n",
       "  /* unfitted */\n",
       "  background-color: var(--sklearn-color-unfitted-level-0);\n",
       "}\n",
       "\n",
       "#sk-container-id-1 div.sk-toggleable__content.fitted pre {\n",
       "  /* unfitted */\n",
       "  background-color: var(--sklearn-color-fitted-level-0);\n",
       "}\n",
       "\n",
       "#sk-container-id-1 input.sk-toggleable__control:checked~div.sk-toggleable__content {\n",
       "  /* Expand drop-down */\n",
       "  max-height: 200px;\n",
       "  max-width: 100%;\n",
       "  overflow: auto;\n",
       "}\n",
       "\n",
       "#sk-container-id-1 input.sk-toggleable__control:checked~label.sk-toggleable__label-arrow:before {\n",
       "  content: \"▾\";\n",
       "}\n",
       "\n",
       "/* Pipeline/ColumnTransformer-specific style */\n",
       "\n",
       "#sk-container-id-1 div.sk-label input.sk-toggleable__control:checked~label.sk-toggleable__label {\n",
       "  color: var(--sklearn-color-text);\n",
       "  background-color: var(--sklearn-color-unfitted-level-2);\n",
       "}\n",
       "\n",
       "#sk-container-id-1 div.sk-label.fitted input.sk-toggleable__control:checked~label.sk-toggleable__label {\n",
       "  background-color: var(--sklearn-color-fitted-level-2);\n",
       "}\n",
       "\n",
       "/* Estimator-specific style */\n",
       "\n",
       "/* Colorize estimator box */\n",
       "#sk-container-id-1 div.sk-estimator input.sk-toggleable__control:checked~label.sk-toggleable__label {\n",
       "  /* unfitted */\n",
       "  background-color: var(--sklearn-color-unfitted-level-2);\n",
       "}\n",
       "\n",
       "#sk-container-id-1 div.sk-estimator.fitted input.sk-toggleable__control:checked~label.sk-toggleable__label {\n",
       "  /* fitted */\n",
       "  background-color: var(--sklearn-color-fitted-level-2);\n",
       "}\n",
       "\n",
       "#sk-container-id-1 div.sk-label label.sk-toggleable__label,\n",
       "#sk-container-id-1 div.sk-label label {\n",
       "  /* The background is the default theme color */\n",
       "  color: var(--sklearn-color-text-on-default-background);\n",
       "}\n",
       "\n",
       "/* On hover, darken the color of the background */\n",
       "#sk-container-id-1 div.sk-label:hover label.sk-toggleable__label {\n",
       "  color: var(--sklearn-color-text);\n",
       "  background-color: var(--sklearn-color-unfitted-level-2);\n",
       "}\n",
       "\n",
       "/* Label box, darken color on hover, fitted */\n",
       "#sk-container-id-1 div.sk-label.fitted:hover label.sk-toggleable__label.fitted {\n",
       "  color: var(--sklearn-color-text);\n",
       "  background-color: var(--sklearn-color-fitted-level-2);\n",
       "}\n",
       "\n",
       "/* Estimator label */\n",
       "\n",
       "#sk-container-id-1 div.sk-label label {\n",
       "  font-family: monospace;\n",
       "  font-weight: bold;\n",
       "  display: inline-block;\n",
       "  line-height: 1.2em;\n",
       "}\n",
       "\n",
       "#sk-container-id-1 div.sk-label-container {\n",
       "  text-align: center;\n",
       "}\n",
       "\n",
       "/* Estimator-specific */\n",
       "#sk-container-id-1 div.sk-estimator {\n",
       "  font-family: monospace;\n",
       "  border: 1px dotted var(--sklearn-color-border-box);\n",
       "  border-radius: 0.25em;\n",
       "  box-sizing: border-box;\n",
       "  margin-bottom: 0.5em;\n",
       "  /* unfitted */\n",
       "  background-color: var(--sklearn-color-unfitted-level-0);\n",
       "}\n",
       "\n",
       "#sk-container-id-1 div.sk-estimator.fitted {\n",
       "  /* fitted */\n",
       "  background-color: var(--sklearn-color-fitted-level-0);\n",
       "}\n",
       "\n",
       "/* on hover */\n",
       "#sk-container-id-1 div.sk-estimator:hover {\n",
       "  /* unfitted */\n",
       "  background-color: var(--sklearn-color-unfitted-level-2);\n",
       "}\n",
       "\n",
       "#sk-container-id-1 div.sk-estimator.fitted:hover {\n",
       "  /* fitted */\n",
       "  background-color: var(--sklearn-color-fitted-level-2);\n",
       "}\n",
       "\n",
       "/* Specification for estimator info (e.g. \"i\" and \"?\") */\n",
       "\n",
       "/* Common style for \"i\" and \"?\" */\n",
       "\n",
       ".sk-estimator-doc-link,\n",
       "a:link.sk-estimator-doc-link,\n",
       "a:visited.sk-estimator-doc-link {\n",
       "  float: right;\n",
       "  font-size: smaller;\n",
       "  line-height: 1em;\n",
       "  font-family: monospace;\n",
       "  background-color: var(--sklearn-color-background);\n",
       "  border-radius: 1em;\n",
       "  height: 1em;\n",
       "  width: 1em;\n",
       "  text-decoration: none !important;\n",
       "  margin-left: 0.5em;\n",
       "  text-align: center;\n",
       "  /* unfitted */\n",
       "  border: var(--sklearn-color-unfitted-level-1) 1pt solid;\n",
       "  color: var(--sklearn-color-unfitted-level-1);\n",
       "}\n",
       "\n",
       ".sk-estimator-doc-link.fitted,\n",
       "a:link.sk-estimator-doc-link.fitted,\n",
       "a:visited.sk-estimator-doc-link.fitted {\n",
       "  /* fitted */\n",
       "  border: var(--sklearn-color-fitted-level-1) 1pt solid;\n",
       "  color: var(--sklearn-color-fitted-level-1);\n",
       "}\n",
       "\n",
       "/* On hover */\n",
       "div.sk-estimator:hover .sk-estimator-doc-link:hover,\n",
       ".sk-estimator-doc-link:hover,\n",
       "div.sk-label-container:hover .sk-estimator-doc-link:hover,\n",
       ".sk-estimator-doc-link:hover {\n",
       "  /* unfitted */\n",
       "  background-color: var(--sklearn-color-unfitted-level-3);\n",
       "  color: var(--sklearn-color-background);\n",
       "  text-decoration: none;\n",
       "}\n",
       "\n",
       "div.sk-estimator.fitted:hover .sk-estimator-doc-link.fitted:hover,\n",
       ".sk-estimator-doc-link.fitted:hover,\n",
       "div.sk-label-container:hover .sk-estimator-doc-link.fitted:hover,\n",
       ".sk-estimator-doc-link.fitted:hover {\n",
       "  /* fitted */\n",
       "  background-color: var(--sklearn-color-fitted-level-3);\n",
       "  color: var(--sklearn-color-background);\n",
       "  text-decoration: none;\n",
       "}\n",
       "\n",
       "/* Span, style for the box shown on hovering the info icon */\n",
       ".sk-estimator-doc-link span {\n",
       "  display: none;\n",
       "  z-index: 9999;\n",
       "  position: relative;\n",
       "  font-weight: normal;\n",
       "  right: .2ex;\n",
       "  padding: .5ex;\n",
       "  margin: .5ex;\n",
       "  width: min-content;\n",
       "  min-width: 20ex;\n",
       "  max-width: 50ex;\n",
       "  color: var(--sklearn-color-text);\n",
       "  box-shadow: 2pt 2pt 4pt #999;\n",
       "  /* unfitted */\n",
       "  background: var(--sklearn-color-unfitted-level-0);\n",
       "  border: .5pt solid var(--sklearn-color-unfitted-level-3);\n",
       "}\n",
       "\n",
       ".sk-estimator-doc-link.fitted span {\n",
       "  /* fitted */\n",
       "  background: var(--sklearn-color-fitted-level-0);\n",
       "  border: var(--sklearn-color-fitted-level-3);\n",
       "}\n",
       "\n",
       ".sk-estimator-doc-link:hover span {\n",
       "  display: block;\n",
       "}\n",
       "\n",
       "/* \"?\"-specific style due to the `<a>` HTML tag */\n",
       "\n",
       "#sk-container-id-1 a.estimator_doc_link {\n",
       "  float: right;\n",
       "  font-size: 1rem;\n",
       "  line-height: 1em;\n",
       "  font-family: monospace;\n",
       "  background-color: var(--sklearn-color-background);\n",
       "  border-radius: 1rem;\n",
       "  height: 1rem;\n",
       "  width: 1rem;\n",
       "  text-decoration: none;\n",
       "  /* unfitted */\n",
       "  color: var(--sklearn-color-unfitted-level-1);\n",
       "  border: var(--sklearn-color-unfitted-level-1) 1pt solid;\n",
       "}\n",
       "\n",
       "#sk-container-id-1 a.estimator_doc_link.fitted {\n",
       "  /* fitted */\n",
       "  border: var(--sklearn-color-fitted-level-1) 1pt solid;\n",
       "  color: var(--sklearn-color-fitted-level-1);\n",
       "}\n",
       "\n",
       "/* On hover */\n",
       "#sk-container-id-1 a.estimator_doc_link:hover {\n",
       "  /* unfitted */\n",
       "  background-color: var(--sklearn-color-unfitted-level-3);\n",
       "  color: var(--sklearn-color-background);\n",
       "  text-decoration: none;\n",
       "}\n",
       "\n",
       "#sk-container-id-1 a.estimator_doc_link.fitted:hover {\n",
       "  /* fitted */\n",
       "  background-color: var(--sklearn-color-fitted-level-3);\n",
       "}\n",
       "</style><div id=\"sk-container-id-1\" class=\"sk-top-container\"><div class=\"sk-text-repr-fallback\"><pre>DecisionTreeClassifier(max_depth=4)</pre><b>In a Jupyter environment, please rerun this cell to show the HTML representation or trust the notebook. <br />On GitHub, the HTML representation is unable to render, please try loading this page with nbviewer.org.</b></div><div class=\"sk-container\" hidden><div class=\"sk-item\"><div class=\"sk-estimator fitted sk-toggleable\"><input class=\"sk-toggleable__control sk-hidden--visually\" id=\"sk-estimator-id-1\" type=\"checkbox\" checked><label for=\"sk-estimator-id-1\" class=\"sk-toggleable__label fitted sk-toggleable__label-arrow\"><div><div>DecisionTreeClassifier</div></div><div><a class=\"sk-estimator-doc-link fitted\" rel=\"noreferrer\" target=\"_blank\" href=\"https://scikit-learn.org/1.6/modules/generated/sklearn.tree.DecisionTreeClassifier.html\">?<span>Documentation for DecisionTreeClassifier</span></a><span class=\"sk-estimator-doc-link fitted\">i<span>Fitted</span></span></div></label><div class=\"sk-toggleable__content fitted\"><pre>DecisionTreeClassifier(max_depth=4)</pre></div> </div></div></div></div>"
      ],
      "text/plain": [
       "DecisionTreeClassifier(max_depth=4)"
      ]
     },
     "execution_count": 5,
     "metadata": {},
     "output_type": "execute_result"
    }
   ],
   "source": [
    "y = wine.target\n",
    "X = df_wine\n",
    "dt = DecisionTreeClassifier(max_depth=4)\n",
    "dt.fit(X, y)"
   ]
  },
  {
   "cell_type": "code",
   "execution_count": 6,
   "metadata": {},
   "outputs": [
    {
     "data": {
      "text/html": [
       "<div>\n",
       "<style scoped>\n",
       "    .dataframe tbody tr th:only-of-type {\n",
       "        vertical-align: middle;\n",
       "    }\n",
       "\n",
       "    .dataframe tbody tr th {\n",
       "        vertical-align: top;\n",
       "    }\n",
       "\n",
       "    .dataframe thead th {\n",
       "        text-align: right;\n",
       "    }\n",
       "</style>\n",
       "<table border=\"1\" class=\"dataframe\">\n",
       "  <thead>\n",
       "    <tr style=\"text-align: right;\">\n",
       "      <th></th>\n",
       "      <th>alcohol</th>\n",
       "      <th>malic_acid</th>\n",
       "      <th>ash</th>\n",
       "      <th>alcalinity_of_ash</th>\n",
       "      <th>magnesium</th>\n",
       "      <th>total_phenols</th>\n",
       "      <th>flavanoids</th>\n",
       "      <th>nonflavanoid_phenols</th>\n",
       "      <th>proanthocyanins</th>\n",
       "      <th>color_intensity</th>\n",
       "      <th>hue</th>\n",
       "      <th>od280/od315_of_diluted_wines</th>\n",
       "      <th>proline</th>\n",
       "    </tr>\n",
       "  </thead>\n",
       "  <tbody>\n",
       "    <tr>\n",
       "      <th>0</th>\n",
       "      <td>14.23</td>\n",
       "      <td>1.71</td>\n",
       "      <td>2.43</td>\n",
       "      <td>15.6</td>\n",
       "      <td>127.0</td>\n",
       "      <td>2.80</td>\n",
       "      <td>3.06</td>\n",
       "      <td>0.28</td>\n",
       "      <td>2.29</td>\n",
       "      <td>5.64</td>\n",
       "      <td>1.04</td>\n",
       "      <td>3.92</td>\n",
       "      <td>1065.0</td>\n",
       "    </tr>\n",
       "    <tr>\n",
       "      <th>1</th>\n",
       "      <td>13.20</td>\n",
       "      <td>1.78</td>\n",
       "      <td>2.14</td>\n",
       "      <td>11.2</td>\n",
       "      <td>100.0</td>\n",
       "      <td>2.65</td>\n",
       "      <td>2.76</td>\n",
       "      <td>0.26</td>\n",
       "      <td>1.28</td>\n",
       "      <td>4.38</td>\n",
       "      <td>1.05</td>\n",
       "      <td>3.40</td>\n",
       "      <td>1050.0</td>\n",
       "    </tr>\n",
       "    <tr>\n",
       "      <th>2</th>\n",
       "      <td>13.16</td>\n",
       "      <td>2.36</td>\n",
       "      <td>2.67</td>\n",
       "      <td>18.6</td>\n",
       "      <td>101.0</td>\n",
       "      <td>2.80</td>\n",
       "      <td>3.24</td>\n",
       "      <td>0.30</td>\n",
       "      <td>2.81</td>\n",
       "      <td>5.68</td>\n",
       "      <td>1.03</td>\n",
       "      <td>3.17</td>\n",
       "      <td>1185.0</td>\n",
       "    </tr>\n",
       "    <tr>\n",
       "      <th>3</th>\n",
       "      <td>14.37</td>\n",
       "      <td>1.95</td>\n",
       "      <td>2.50</td>\n",
       "      <td>16.8</td>\n",
       "      <td>113.0</td>\n",
       "      <td>3.85</td>\n",
       "      <td>3.49</td>\n",
       "      <td>0.24</td>\n",
       "      <td>2.18</td>\n",
       "      <td>7.80</td>\n",
       "      <td>0.86</td>\n",
       "      <td>3.45</td>\n",
       "      <td>1480.0</td>\n",
       "    </tr>\n",
       "    <tr>\n",
       "      <th>4</th>\n",
       "      <td>13.24</td>\n",
       "      <td>2.59</td>\n",
       "      <td>2.87</td>\n",
       "      <td>21.0</td>\n",
       "      <td>118.0</td>\n",
       "      <td>2.80</td>\n",
       "      <td>2.69</td>\n",
       "      <td>0.39</td>\n",
       "      <td>1.82</td>\n",
       "      <td>4.32</td>\n",
       "      <td>1.04</td>\n",
       "      <td>2.93</td>\n",
       "      <td>735.0</td>\n",
       "    </tr>\n",
       "    <tr>\n",
       "      <th>...</th>\n",
       "      <td>...</td>\n",
       "      <td>...</td>\n",
       "      <td>...</td>\n",
       "      <td>...</td>\n",
       "      <td>...</td>\n",
       "      <td>...</td>\n",
       "      <td>...</td>\n",
       "      <td>...</td>\n",
       "      <td>...</td>\n",
       "      <td>...</td>\n",
       "      <td>...</td>\n",
       "      <td>...</td>\n",
       "      <td>...</td>\n",
       "    </tr>\n",
       "    <tr>\n",
       "      <th>173</th>\n",
       "      <td>13.71</td>\n",
       "      <td>5.65</td>\n",
       "      <td>2.45</td>\n",
       "      <td>20.5</td>\n",
       "      <td>95.0</td>\n",
       "      <td>1.68</td>\n",
       "      <td>0.61</td>\n",
       "      <td>0.52</td>\n",
       "      <td>1.06</td>\n",
       "      <td>7.70</td>\n",
       "      <td>0.64</td>\n",
       "      <td>1.74</td>\n",
       "      <td>740.0</td>\n",
       "    </tr>\n",
       "    <tr>\n",
       "      <th>174</th>\n",
       "      <td>13.40</td>\n",
       "      <td>3.91</td>\n",
       "      <td>2.48</td>\n",
       "      <td>23.0</td>\n",
       "      <td>102.0</td>\n",
       "      <td>1.80</td>\n",
       "      <td>0.75</td>\n",
       "      <td>0.43</td>\n",
       "      <td>1.41</td>\n",
       "      <td>7.30</td>\n",
       "      <td>0.70</td>\n",
       "      <td>1.56</td>\n",
       "      <td>750.0</td>\n",
       "    </tr>\n",
       "    <tr>\n",
       "      <th>175</th>\n",
       "      <td>13.27</td>\n",
       "      <td>4.28</td>\n",
       "      <td>2.26</td>\n",
       "      <td>20.0</td>\n",
       "      <td>120.0</td>\n",
       "      <td>1.59</td>\n",
       "      <td>0.69</td>\n",
       "      <td>0.43</td>\n",
       "      <td>1.35</td>\n",
       "      <td>10.20</td>\n",
       "      <td>0.59</td>\n",
       "      <td>1.56</td>\n",
       "      <td>835.0</td>\n",
       "    </tr>\n",
       "    <tr>\n",
       "      <th>176</th>\n",
       "      <td>13.17</td>\n",
       "      <td>2.59</td>\n",
       "      <td>2.37</td>\n",
       "      <td>20.0</td>\n",
       "      <td>120.0</td>\n",
       "      <td>1.65</td>\n",
       "      <td>0.68</td>\n",
       "      <td>0.53</td>\n",
       "      <td>1.46</td>\n",
       "      <td>9.30</td>\n",
       "      <td>0.60</td>\n",
       "      <td>1.62</td>\n",
       "      <td>840.0</td>\n",
       "    </tr>\n",
       "    <tr>\n",
       "      <th>177</th>\n",
       "      <td>14.13</td>\n",
       "      <td>4.10</td>\n",
       "      <td>2.74</td>\n",
       "      <td>24.5</td>\n",
       "      <td>96.0</td>\n",
       "      <td>2.05</td>\n",
       "      <td>0.76</td>\n",
       "      <td>0.56</td>\n",
       "      <td>1.35</td>\n",
       "      <td>9.20</td>\n",
       "      <td>0.61</td>\n",
       "      <td>1.60</td>\n",
       "      <td>560.0</td>\n",
       "    </tr>\n",
       "  </tbody>\n",
       "</table>\n",
       "<p>178 rows × 13 columns</p>\n",
       "</div>"
      ],
      "text/plain": [
       "     alcohol  malic_acid   ash  alcalinity_of_ash  magnesium  total_phenols  \\\n",
       "0      14.23        1.71  2.43               15.6      127.0           2.80   \n",
       "1      13.20        1.78  2.14               11.2      100.0           2.65   \n",
       "2      13.16        2.36  2.67               18.6      101.0           2.80   \n",
       "3      14.37        1.95  2.50               16.8      113.0           3.85   \n",
       "4      13.24        2.59  2.87               21.0      118.0           2.80   \n",
       "..       ...         ...   ...                ...        ...            ...   \n",
       "173    13.71        5.65  2.45               20.5       95.0           1.68   \n",
       "174    13.40        3.91  2.48               23.0      102.0           1.80   \n",
       "175    13.27        4.28  2.26               20.0      120.0           1.59   \n",
       "176    13.17        2.59  2.37               20.0      120.0           1.65   \n",
       "177    14.13        4.10  2.74               24.5       96.0           2.05   \n",
       "\n",
       "     flavanoids  nonflavanoid_phenols  proanthocyanins  color_intensity   hue  \\\n",
       "0          3.06                  0.28             2.29             5.64  1.04   \n",
       "1          2.76                  0.26             1.28             4.38  1.05   \n",
       "2          3.24                  0.30             2.81             5.68  1.03   \n",
       "3          3.49                  0.24             2.18             7.80  0.86   \n",
       "4          2.69                  0.39             1.82             4.32  1.04   \n",
       "..          ...                   ...              ...              ...   ...   \n",
       "173        0.61                  0.52             1.06             7.70  0.64   \n",
       "174        0.75                  0.43             1.41             7.30  0.70   \n",
       "175        0.69                  0.43             1.35            10.20  0.59   \n",
       "176        0.68                  0.53             1.46             9.30  0.60   \n",
       "177        0.76                  0.56             1.35             9.20  0.61   \n",
       "\n",
       "     od280/od315_of_diluted_wines  proline  \n",
       "0                            3.92   1065.0  \n",
       "1                            3.40   1050.0  \n",
       "2                            3.17   1185.0  \n",
       "3                            3.45   1480.0  \n",
       "4                            2.93    735.0  \n",
       "..                            ...      ...  \n",
       "173                          1.74    740.0  \n",
       "174                          1.56    750.0  \n",
       "175                          1.56    835.0  \n",
       "176                          1.62    840.0  \n",
       "177                          1.60    560.0  \n",
       "\n",
       "[178 rows x 13 columns]"
      ]
     },
     "execution_count": 6,
     "metadata": {},
     "output_type": "execute_result"
    }
   ],
   "source": [
    "X"
   ]
  },
  {
   "cell_type": "code",
   "execution_count": 7,
   "metadata": {},
   "outputs": [
    {
     "data": {
      "text/plain": [
       "array([0, 0, 0, 0, 0, 0, 0, 0, 0, 0, 0, 0, 0, 0, 0, 0, 0, 0, 0, 0, 0, 0,\n",
       "       0, 0, 0, 0, 0, 0, 0, 0, 0, 0, 0, 0, 0, 0, 0, 0, 0, 0, 0, 0, 0, 0,\n",
       "       0, 0, 0, 0, 0, 0, 0, 0, 0, 0, 0, 0, 0, 0, 0, 1, 1, 1, 1, 1, 1, 1,\n",
       "       1, 1, 1, 1, 1, 1, 1, 1, 1, 1, 1, 1, 1, 1, 1, 1, 1, 1, 1, 1, 1, 1,\n",
       "       1, 1, 1, 1, 1, 1, 1, 1, 1, 1, 1, 1, 1, 1, 1, 1, 1, 1, 1, 1, 1, 1,\n",
       "       1, 1, 1, 1, 1, 1, 1, 1, 1, 1, 1, 1, 1, 1, 1, 1, 1, 1, 1, 1, 2, 2,\n",
       "       2, 2, 2, 2, 2, 2, 2, 2, 2, 2, 2, 2, 2, 2, 2, 2, 2, 2, 2, 2, 2, 2,\n",
       "       2, 2, 2, 2, 2, 2, 2, 2, 2, 2, 2, 2, 2, 2, 2, 2, 2, 2, 2, 2, 2, 2,\n",
       "       2, 2])"
      ]
     },
     "execution_count": 7,
     "metadata": {},
     "output_type": "execute_result"
    }
   ],
   "source": [
    "y"
   ]
  },
  {
   "cell_type": "code",
   "execution_count": 8,
   "metadata": {},
   "outputs": [
    {
     "data": {
      "text/plain": [
       "0.9887640449438202"
      ]
     },
     "execution_count": 8,
     "metadata": {},
     "output_type": "execute_result"
    }
   ],
   "source": [
    "accuracy_score(y, dt.predict(df_wine))"
   ]
  },
  {
   "attachments": {},
   "cell_type": "markdown",
   "metadata": {},
   "source": [
    "## Train a Model Using MLFLow\n",
    "\n",
    "In this section, let's train a simple decision tree model, where we will now adjust the maximum depth (`max_depth`) of the tree, and save the results of each run of the experiment using mlflow. To do so, we need to tell mlflow to start recording. We do this with `start_run`. \n",
    "\n",
    "The things we might want to record in this simple case are:\n",
    "- the value of `max_depth`\n",
    "- the corresponding accuracy of the model\n",
    "\n",
    "We can also tag each run to make it easier to identify them later.\n",
    "\n",
    "After running the below code, be sure to check the mlflow UI by running the following in the terminal from the same directory as where you saved this notebook:\n",
    "\n",
    "`mlflow ui` note that just running this you will not see any of your experiments. You must specify the uri (the place where all of your results are being stored)\n",
    "\n",
    "`mlflow ui --backend-store-uri sqlite:///mlflow.db`"
   ]
  },
  {
   "cell_type": "code",
   "execution_count": 9,
   "metadata": {},
   "outputs": [
    {
     "name": "stderr",
     "output_type": "stream",
     "text": [
      "2025/04/16 22:33:21 INFO mlflow.tracking._tracking_service.client: 🏃 View run upset-fowl-816 at: https://mlops-service-616366923242.us-west2.run.app/#/experiments/1/runs/48d737c0f61b4a0b87e9131acf665d9a.\n",
      "2025/04/16 22:33:21 INFO mlflow.tracking._tracking_service.client: 🧪 View experiment at: https://mlops-service-616366923242.us-west2.run.app/#/experiments/1.\n"
     ]
    }
   ],
   "source": [
    "with mlflow.start_run():\n",
    "    # log parameters and log metrics\n",
    "    # parameters: hyperparameters\n",
    "    # metrics: model performance metrics\n",
    "\n",
    "    mlflow.set_tags({\"Model\":\"decision-tree\", \"Train Data\": \"all-data\"})\n",
    "\n",
    "    tree_depth = 5\n",
    "    dt = DecisionTreeClassifier(max_depth=tree_depth)\n",
    "    dt.fit(X, y)\n",
    "    acc = accuracy_score(y, dt.predict(df_wine))\n",
    "\n",
    "    mlflow.log_param(\"max_depth\", tree_depth)\n",
    "    mlflow.log_metric(\"accuracy\", acc)\n",
    "\n",
    "mlflow.end_run()"
   ]
  },
  {
   "attachments": {},
   "cell_type": "markdown",
   "metadata": {},
   "source": [
    "Let's do it again, but this time we'll use a random forest, which has some other hyperparameters we can tune, which makes keeping track of things a little more complex without a tool like mlflow."
   ]
  },
  {
   "cell_type": "code",
   "execution_count": 10,
   "metadata": {},
   "outputs": [
    {
     "name": "stderr",
     "output_type": "stream",
     "text": [
      "2025/04/16 22:33:26 INFO mlflow.tracking._tracking_service.client: 🏃 View run awesome-asp-301 at: https://mlops-service-616366923242.us-west2.run.app/#/experiments/1/runs/a597df1fe16440dd82ee6f229f0a9cb0.\n",
      "2025/04/16 22:33:26 INFO mlflow.tracking._tracking_service.client: 🧪 View experiment at: https://mlops-service-616366923242.us-west2.run.app/#/experiments/1.\n"
     ]
    }
   ],
   "source": [
    "from sklearn.ensemble import RandomForestClassifier\n",
    "\n",
    "with mlflow.start_run():\n",
    "    mlflow.set_tags({\"Model\":\"random-forest\", \"Train Data\": \"all-data\"})\n",
    "\n",
    "    ntree = 1000\n",
    "    mtry = 4\n",
    "\n",
    "    mlflow.log_params({'n_estimators':ntree, 'max_features':mtry})\n",
    "\n",
    "    rf = RandomForestClassifier(n_estimators = ntree, max_features = mtry, oob_score = True)\n",
    "    rf.fit(X,y)\n",
    "    acc = rf.oob_score_\n",
    "    #acc = accuracy_score(y, rf.predict(X))\n",
    "    mlflow.log_metric('accuracy', acc)\n",
    "\n",
    "mlflow.end_run()"
   ]
  },
  {
   "attachments": {},
   "cell_type": "markdown",
   "metadata": {},
   "source": [
    "Typically, in a real-world scenario, you wouldn't change your parameter values manually and re-run your code, you would either use a loop to loop through different parameter values, or you'd use a built-in method for doing cross-validation, of which there are a few. First, let's use a simple loop to run the experiment multiple times, and save the results of each run."
   ]
  },
  {
   "cell_type": "code",
   "execution_count": 11,
   "metadata": {},
   "outputs": [
    {
     "name": "stderr",
     "output_type": "stream",
     "text": [
      "2025/04/16 22:33:35 INFO mlflow.tracking._tracking_service.client: 🏃 View run enchanting-dove-332 at: https://mlops-service-616366923242.us-west2.run.app/#/experiments/1/runs/7acbf3851c9149f2b1401b93a978f44c.\n",
      "2025/04/16 22:33:35 INFO mlflow.tracking._tracking_service.client: 🧪 View experiment at: https://mlops-service-616366923242.us-west2.run.app/#/experiments/1.\n",
      "2025/04/16 22:33:35 INFO mlflow.tracking._tracking_service.client: 🏃 View run valuable-crane-688 at: https://mlops-service-616366923242.us-west2.run.app/#/experiments/1/runs/e0889b0fa078487f91d8c10edc5d89a0.\n",
      "2025/04/16 22:33:35 INFO mlflow.tracking._tracking_service.client: 🧪 View experiment at: https://mlops-service-616366923242.us-west2.run.app/#/experiments/1.\n",
      "2025/04/16 22:33:36 INFO mlflow.tracking._tracking_service.client: 🏃 View run nimble-foal-558 at: https://mlops-service-616366923242.us-west2.run.app/#/experiments/1/runs/8290e125ce77430ab11ef621d8ea6e53.\n",
      "2025/04/16 22:33:36 INFO mlflow.tracking._tracking_service.client: 🧪 View experiment at: https://mlops-service-616366923242.us-west2.run.app/#/experiments/1.\n",
      "2025/04/16 22:33:36 INFO mlflow.tracking._tracking_service.client: 🏃 View run bold-lark-909 at: https://mlops-service-616366923242.us-west2.run.app/#/experiments/1/runs/1d7f3a1733a0461f81b43b5e8bd19fd8.\n",
      "2025/04/16 22:33:36 INFO mlflow.tracking._tracking_service.client: 🧪 View experiment at: https://mlops-service-616366923242.us-west2.run.app/#/experiments/1.\n",
      "2025/04/16 22:33:36 INFO mlflow.tracking._tracking_service.client: 🏃 View run valuable-lark-65 at: https://mlops-service-616366923242.us-west2.run.app/#/experiments/1/runs/6a9441d860964fc19bfd320787123f48.\n",
      "2025/04/16 22:33:36 INFO mlflow.tracking._tracking_service.client: 🧪 View experiment at: https://mlops-service-616366923242.us-west2.run.app/#/experiments/1.\n",
      "2025/04/16 22:33:37 INFO mlflow.tracking._tracking_service.client: 🏃 View run illustrious-mink-404 at: https://mlops-service-616366923242.us-west2.run.app/#/experiments/1/runs/fdadd9bfc8434df09ea2b96444c8196a.\n",
      "2025/04/16 22:33:37 INFO mlflow.tracking._tracking_service.client: 🧪 View experiment at: https://mlops-service-616366923242.us-west2.run.app/#/experiments/1.\n",
      "2025/04/16 22:33:37 INFO mlflow.tracking._tracking_service.client: 🏃 View run intrigued-finch-147 at: https://mlops-service-616366923242.us-west2.run.app/#/experiments/1/runs/ef8f7a211d03447896bb5cf957a06691.\n",
      "2025/04/16 22:33:37 INFO mlflow.tracking._tracking_service.client: 🧪 View experiment at: https://mlops-service-616366923242.us-west2.run.app/#/experiments/1.\n",
      "2025/04/16 22:33:38 INFO mlflow.tracking._tracking_service.client: 🏃 View run nebulous-auk-174 at: https://mlops-service-616366923242.us-west2.run.app/#/experiments/1/runs/a4188d18c7234996b1f0a2841baedf7e.\n",
      "2025/04/16 22:33:38 INFO mlflow.tracking._tracking_service.client: 🧪 View experiment at: https://mlops-service-616366923242.us-west2.run.app/#/experiments/1.\n",
      "2025/04/16 22:33:38 INFO mlflow.tracking._tracking_service.client: 🏃 View run bright-cat-686 at: https://mlops-service-616366923242.us-west2.run.app/#/experiments/1/runs/457d19bb30f74e89bd8692e39ae7aad2.\n",
      "2025/04/16 22:33:38 INFO mlflow.tracking._tracking_service.client: 🧪 View experiment at: https://mlops-service-616366923242.us-west2.run.app/#/experiments/1.\n",
      "2025/04/16 22:33:39 INFO mlflow.tracking._tracking_service.client: 🏃 View run luxuriant-croc-702 at: https://mlops-service-616366923242.us-west2.run.app/#/experiments/1/runs/b6f8b669c1b941b3aefd5725d6fcabeb.\n",
      "2025/04/16 22:33:39 INFO mlflow.tracking._tracking_service.client: 🧪 View experiment at: https://mlops-service-616366923242.us-west2.run.app/#/experiments/1.\n",
      "2025/04/16 22:33:39 INFO mlflow.tracking._tracking_service.client: 🏃 View run mercurial-roo-71 at: https://mlops-service-616366923242.us-west2.run.app/#/experiments/1/runs/6abebbd0ce8b41af8b9735316b7af57d.\n",
      "2025/04/16 22:33:39 INFO mlflow.tracking._tracking_service.client: 🧪 View experiment at: https://mlops-service-616366923242.us-west2.run.app/#/experiments/1.\n",
      "2025/04/16 22:33:39 INFO mlflow.tracking._tracking_service.client: 🏃 View run honorable-kit-44 at: https://mlops-service-616366923242.us-west2.run.app/#/experiments/1/runs/cbee85d84e194b79936dd8a3993f353e.\n",
      "2025/04/16 22:33:39 INFO mlflow.tracking._tracking_service.client: 🧪 View experiment at: https://mlops-service-616366923242.us-west2.run.app/#/experiments/1.\n",
      "2025/04/16 22:33:40 INFO mlflow.tracking._tracking_service.client: 🏃 View run secretive-colt-970 at: https://mlops-service-616366923242.us-west2.run.app/#/experiments/1/runs/e36318d8667349a1a8b3786adcd3fe69.\n",
      "2025/04/16 22:33:40 INFO mlflow.tracking._tracking_service.client: 🧪 View experiment at: https://mlops-service-616366923242.us-west2.run.app/#/experiments/1.\n",
      "2025/04/16 22:33:40 INFO mlflow.tracking._tracking_service.client: 🏃 View run wise-bass-240 at: https://mlops-service-616366923242.us-west2.run.app/#/experiments/1/runs/e388c0ec7c3b4df59af625f15380af37.\n",
      "2025/04/16 22:33:40 INFO mlflow.tracking._tracking_service.client: 🧪 View experiment at: https://mlops-service-616366923242.us-west2.run.app/#/experiments/1.\n",
      "2025/04/16 22:33:41 INFO mlflow.tracking._tracking_service.client: 🏃 View run angry-lark-385 at: https://mlops-service-616366923242.us-west2.run.app/#/experiments/1/runs/eea7593b431f49378a9e25967db45c97.\n",
      "2025/04/16 22:33:41 INFO mlflow.tracking._tracking_service.client: 🧪 View experiment at: https://mlops-service-616366923242.us-west2.run.app/#/experiments/1.\n"
     ]
    }
   ],
   "source": [
    "ntrees = [20,40,60,80,100]\n",
    "mtrys = [3,4,5]\n",
    "for i in ntrees:\n",
    "    for j in mtrys:\n",
    "        with mlflow.start_run():\n",
    "            mlflow.set_tags({\"Model\":\"random-forest\", \"Train Data\": \"all-data\"})\n",
    "\n",
    "            mlflow.log_params({'n_estimators':i, 'max_features':j})\n",
    "\n",
    "            rf = RandomForestClassifier(n_estimators = i, max_features = j, oob_score = True)\n",
    "            rf.fit(X,y)\n",
    "            acc = rf.oob_score_\n",
    "            #acc = accuracy_score(y, rf.predict(X))\n",
    "            mlflow.log_metric('accuracy', acc)\n",
    "        mlflow.end_run()"
   ]
  },
  {
   "cell_type": "markdown",
   "metadata": {},
   "source": []
  },
  {
   "attachments": {},
   "cell_type": "markdown",
   "metadata": {},
   "source": [
    "## Training a Model with mlflow and hyperopt\n",
    "\n",
    "One way of tuning your model is to use the `hyperopt` library. `hyperopt` is a library that does hyperparameter tuning, and does so in a way that makes it easy for mlflow to keep track of the results. \n",
    "\n",
    "First, install the libraries you don't have, and then load them below. We do not use `hyperopt` much in the class, so if you don't want to add it to your requirements.txt file, you don't have to.\n",
    "\n",
    "For this exercise, we'll split the data into training and validation, and then we'll train decision trees and random forests and use `hyperopt` to do the hyperparameter tuning and find the best model for us."
   ]
  },
  {
   "cell_type": "code",
   "execution_count": 12,
   "metadata": {},
   "outputs": [],
   "source": [
    "from hyperopt import fmin, tpe, hp, STATUS_OK, Trials\n",
    "from sklearn.model_selection import cross_val_score, train_test_split\n",
    "\n",
    "X_train, X_test, y_train, y_test = train_test_split(X, y, test_size=0.2, shuffle=True)"
   ]
  },
  {
   "attachments": {},
   "cell_type": "markdown",
   "metadata": {},
   "source": [
    "From the above we will use `cross_val_score` for our metric, `fmin` is used by `hyperopt` to do the tuning, `tpe` (Tree of Parzen Estimators) is the algorithm used to search the hyperparameter space,  `hp` has methods we need to use for defining our search space, `STATUS_OK` is a status message that each run completed, and `Trials` keeps track of each run."
   ]
  },
  {
   "cell_type": "code",
   "execution_count": 13,
   "metadata": {},
   "outputs": [],
   "source": [
    "def objective(params):\n",
    "    with mlflow.start_run():\n",
    "        classifier_type = params['type']\n",
    "        del params['type']\n",
    "        if classifier_type == 'dt':\n",
    "            clf = DecisionTreeClassifier(**params)\n",
    "        elif classifier_type == 'rf':\n",
    "            clf = RandomForestClassifier(**params)        \n",
    "        else:\n",
    "            return 0\n",
    "        acc = cross_val_score(clf, X, y).mean()\n",
    "\n",
    "        mlflow.set_tag(\"Model\", classifier_type)\n",
    "        mlflow.log_params(params)\n",
    "        mlflow.log_metric(\"accuracy\", acc)\n",
    "        mlflow.end_run()\n",
    "        return {'loss': -acc, 'status': STATUS_OK}\n",
    "\n",
    "search_space = hp.choice('classifier_type', [\n",
    "    {\n",
    "        'type': 'dt',\n",
    "        'criterion': hp.choice('dtree_criterion', ['gini', 'entropy']),\n",
    "        'max_depth': hp.choice('dtree_max_depth', [None, hp.randint('dtree_max_depth_int', 1,10)]),\n",
    "        'min_samples_split': hp.randint('dtree_min_samples_split', 2,10)\n",
    "    },\n",
    "    {\n",
    "        'type': 'rf',\n",
    "        'n_estimators': hp.randint('rf_n_estimators', 20, 500),\n",
    "        'max_features': hp.randint('rf_max_features', 2,9),\n",
    "        'criterion': hp.choice('criterion', ['gini', 'entropy'])\n",
    "    },\n",
    "])\n",
    "\n",
    "algo = tpe.suggest\n",
    "trials = Trials()"
   ]
  },
  {
   "cell_type": "code",
   "execution_count": 14,
   "metadata": {},
   "outputs": [
    {
     "name": "stdout",
     "output_type": "stream",
     "text": [
      "  0%|          | 0/32 [00:00<?, ?trial/s, best loss=?]"
     ]
    },
    {
     "name": "stderr",
     "output_type": "stream",
     "text": [
      "2025/04/16 22:34:02 INFO mlflow.tracking._tracking_service.client: 🏃 View run brawny-pig-772 at: https://mlops-service-616366923242.us-west2.run.app/#/experiments/1/runs/0b9bcb9b4650468c84040d1e0e30d8a0.\n",
      "\n",
      "2025/04/16 22:34:02 INFO mlflow.tracking._tracking_service.client: 🧪 View experiment at: https://mlops-service-616366923242.us-west2.run.app/#/experiments/1.\n",
      "\n"
     ]
    },
    {
     "name": "stdout",
     "output_type": "stream",
     "text": [
      "  3%|▎         | 1/32 [00:00<00:12,  2.58trial/s, best loss: -0.9157142857142858]"
     ]
    },
    {
     "name": "stderr",
     "output_type": "stream",
     "text": [
      "2025/04/16 22:34:02 INFO mlflow.tracking._tracking_service.client: 🏃 View run bittersweet-wasp-576 at: https://mlops-service-616366923242.us-west2.run.app/#/experiments/1/runs/5e7d035dac614b09aac5d33abb518f59.\n",
      "\n",
      "2025/04/16 22:34:02 INFO mlflow.tracking._tracking_service.client: 🧪 View experiment at: https://mlops-service-616366923242.us-west2.run.app/#/experiments/1.\n",
      "\n"
     ]
    },
    {
     "name": "stdout",
     "output_type": "stream",
     "text": [
      "  6%|▋         | 2/32 [00:00<00:10,  2.85trial/s, best loss: -0.9157142857142858]"
     ]
    },
    {
     "name": "stderr",
     "output_type": "stream",
     "text": [
      "2025/04/16 22:34:03 INFO mlflow.tracking._tracking_service.client: 🏃 View run abrasive-boar-295 at: https://mlops-service-616366923242.us-west2.run.app/#/experiments/1/runs/f428151b5f1f453f9815d0f9aad28ecf.\n",
      "\n",
      "2025/04/16 22:34:03 INFO mlflow.tracking._tracking_service.client: 🧪 View experiment at: https://mlops-service-616366923242.us-west2.run.app/#/experiments/1.\n",
      "\n"
     ]
    },
    {
     "name": "stdout",
     "output_type": "stream",
     "text": [
      "  9%|▉         | 3/32 [00:01<00:09,  2.93trial/s, best loss: -0.9157142857142858]"
     ]
    },
    {
     "name": "stderr",
     "output_type": "stream",
     "text": [
      "2025/04/16 22:34:03 INFO mlflow.tracking._tracking_service.client: 🏃 View run flawless-snipe-58 at: https://mlops-service-616366923242.us-west2.run.app/#/experiments/1/runs/cb105dc3584b4ce484c2e226d9a893cd.\n",
      "\n",
      "2025/04/16 22:34:03 INFO mlflow.tracking._tracking_service.client: 🧪 View experiment at: https://mlops-service-616366923242.us-west2.run.app/#/experiments/1.\n",
      "\n"
     ]
    },
    {
     "name": "stdout",
     "output_type": "stream",
     "text": [
      " 12%|█▎        | 4/32 [00:01<00:09,  2.98trial/s, best loss: -0.9157142857142858]"
     ]
    },
    {
     "name": "stderr",
     "output_type": "stream",
     "text": [
      "2025/04/16 22:34:03 INFO mlflow.tracking._tracking_service.client: 🏃 View run thoughtful-hen-380 at: https://mlops-service-616366923242.us-west2.run.app/#/experiments/1/runs/30a3fb575dcb4cb8a6ee32c2e5f441a0.\n",
      "\n",
      "2025/04/16 22:34:03 INFO mlflow.tracking._tracking_service.client: 🧪 View experiment at: https://mlops-service-616366923242.us-west2.run.app/#/experiments/1.\n",
      "\n"
     ]
    },
    {
     "name": "stdout",
     "output_type": "stream",
     "text": [
      " 16%|█▌        | 5/32 [00:01<00:09,  2.96trial/s, best loss: -0.9157142857142858]"
     ]
    },
    {
     "name": "stderr",
     "output_type": "stream",
     "text": [
      "2025/04/16 22:34:04 INFO mlflow.tracking._tracking_service.client: 🏃 View run illustrious-worm-439 at: https://mlops-service-616366923242.us-west2.run.app/#/experiments/1/runs/3818ff0f3d2b4654a4814b2ad87fa695.\n",
      "\n",
      "2025/04/16 22:34:04 INFO mlflow.tracking._tracking_service.client: 🧪 View experiment at: https://mlops-service-616366923242.us-west2.run.app/#/experiments/1.\n",
      "\n"
     ]
    },
    {
     "name": "stdout",
     "output_type": "stream",
     "text": [
      " 19%|█▉        | 6/32 [00:02<00:08,  2.93trial/s, best loss: -0.9157142857142858]"
     ]
    },
    {
     "name": "stderr",
     "output_type": "stream",
     "text": [
      "2025/04/16 22:34:05 INFO mlflow.tracking._tracking_service.client: 🏃 View run intelligent-ant-437 at: https://mlops-service-616366923242.us-west2.run.app/#/experiments/1/runs/c6547cee8ca84722a634c1ceda54b5b7.\n",
      "\n",
      "2025/04/16 22:34:05 INFO mlflow.tracking._tracking_service.client: 🧪 View experiment at: https://mlops-service-616366923242.us-west2.run.app/#/experiments/1.\n",
      "\n"
     ]
    },
    {
     "name": "stdout",
     "output_type": "stream",
     "text": [
      " 22%|██▏       | 7/32 [00:02<00:12,  1.97trial/s, best loss: -0.9720634920634922]"
     ]
    },
    {
     "name": "stderr",
     "output_type": "stream",
     "text": [
      "2025/04/16 22:34:06 INFO mlflow.tracking._tracking_service.client: 🏃 View run bouncy-crow-718 at: https://mlops-service-616366923242.us-west2.run.app/#/experiments/1/runs/4789d6dccbc2412389f76100748a8d67.\n",
      "\n",
      "2025/04/16 22:34:06 INFO mlflow.tracking._tracking_service.client: 🧪 View experiment at: https://mlops-service-616366923242.us-west2.run.app/#/experiments/1.\n",
      "\n"
     ]
    },
    {
     "name": "stdout",
     "output_type": "stream",
     "text": [
      " 25%|██▌       | 8/32 [00:03<00:16,  1.45trial/s, best loss: -0.9720634920634922]"
     ]
    },
    {
     "name": "stderr",
     "output_type": "stream",
     "text": [
      "2025/04/16 22:34:06 INFO mlflow.tracking._tracking_service.client: 🏃 View run upset-robin-744 at: https://mlops-service-616366923242.us-west2.run.app/#/experiments/1/runs/812d1b8ad16444cca001c2b14348b552.\n",
      "\n",
      "2025/04/16 22:34:06 INFO mlflow.tracking._tracking_service.client: 🧪 View experiment at: https://mlops-service-616366923242.us-west2.run.app/#/experiments/1.\n",
      "\n"
     ]
    },
    {
     "name": "stdout",
     "output_type": "stream",
     "text": [
      " 28%|██▊       | 9/32 [00:04<00:16,  1.41trial/s, best loss: -0.9888888888888889]"
     ]
    },
    {
     "name": "stderr",
     "output_type": "stream",
     "text": [
      "2025/04/16 22:34:07 INFO mlflow.tracking._tracking_service.client: 🏃 View run ambitious-fly-307 at: https://mlops-service-616366923242.us-west2.run.app/#/experiments/1/runs/dc41be84b8224db580914ab0aaaeb925.\n",
      "\n",
      "2025/04/16 22:34:07 INFO mlflow.tracking._tracking_service.client: 🧪 View experiment at: https://mlops-service-616366923242.us-west2.run.app/#/experiments/1.\n",
      "\n"
     ]
    },
    {
     "name": "stdout",
     "output_type": "stream",
     "text": [
      " 31%|███▏      | 10/32 [00:05<00:13,  1.67trial/s, best loss: -0.9888888888888889]"
     ]
    },
    {
     "name": "stderr",
     "output_type": "stream",
     "text": [
      "2025/04/16 22:34:09 INFO mlflow.tracking._tracking_service.client: 🏃 View run mysterious-sow-198 at: https://mlops-service-616366923242.us-west2.run.app/#/experiments/1/runs/b20afecce11a4f95821c001c9f1f3258.\n",
      "\n",
      "2025/04/16 22:34:09 INFO mlflow.tracking._tracking_service.client: 🧪 View experiment at: https://mlops-service-616366923242.us-west2.run.app/#/experiments/1.\n",
      "\n"
     ]
    },
    {
     "name": "stdout",
     "output_type": "stream",
     "text": [
      " 34%|███▍      | 11/32 [00:07<00:22,  1.07s/trial, best loss: -0.9888888888888889]"
     ]
    },
    {
     "name": "stderr",
     "output_type": "stream",
     "text": [
      "2025/04/16 22:34:09 INFO mlflow.tracking._tracking_service.client: 🏃 View run delightful-yak-822 at: https://mlops-service-616366923242.us-west2.run.app/#/experiments/1/runs/0673270aca5c4690b5c4c28b879c1e19.\n",
      "\n",
      "2025/04/16 22:34:09 INFO mlflow.tracking._tracking_service.client: 🧪 View experiment at: https://mlops-service-616366923242.us-west2.run.app/#/experiments/1.\n",
      "\n"
     ]
    },
    {
     "name": "stdout",
     "output_type": "stream",
     "text": [
      " 38%|███▊      | 12/32 [00:07<00:16,  1.18trial/s, best loss: -0.9888888888888889]"
     ]
    },
    {
     "name": "stderr",
     "output_type": "stream",
     "text": [
      "2025/04/16 22:34:10 INFO mlflow.tracking._tracking_service.client: 🏃 View run crawling-bear-129 at: https://mlops-service-616366923242.us-west2.run.app/#/experiments/1/runs/a06e77ec951d4daa89dcad0bf8143578.\n",
      "\n",
      "2025/04/16 22:34:10 INFO mlflow.tracking._tracking_service.client: 🧪 View experiment at: https://mlops-service-616366923242.us-west2.run.app/#/experiments/1.\n",
      "\n"
     ]
    },
    {
     "name": "stdout",
     "output_type": "stream",
     "text": [
      " 41%|████      | 13/32 [00:07<00:13,  1.45trial/s, best loss: -0.9888888888888889]"
     ]
    },
    {
     "name": "stderr",
     "output_type": "stream",
     "text": [
      "2025/04/16 22:34:13 INFO mlflow.tracking._tracking_service.client: 🏃 View run nervous-gnu-552 at: https://mlops-service-616366923242.us-west2.run.app/#/experiments/1/runs/87aee2d9601e407c813965a795e48702.\n",
      "\n",
      "2025/04/16 22:34:13 INFO mlflow.tracking._tracking_service.client: 🧪 View experiment at: https://mlops-service-616366923242.us-west2.run.app/#/experiments/1.\n",
      "\n"
     ]
    },
    {
     "name": "stdout",
     "output_type": "stream",
     "text": [
      " 44%|████▍     | 14/32 [00:11<00:28,  1.59s/trial, best loss: -0.9888888888888889]"
     ]
    },
    {
     "name": "stderr",
     "output_type": "stream",
     "text": [
      "2025/04/16 22:34:14 INFO mlflow.tracking._tracking_service.client: 🏃 View run dapper-carp-950 at: https://mlops-service-616366923242.us-west2.run.app/#/experiments/1/runs/a057e550fbbb4253ba5e734312052cfd.\n",
      "\n",
      "2025/04/16 22:34:14 INFO mlflow.tracking._tracking_service.client: 🧪 View experiment at: https://mlops-service-616366923242.us-west2.run.app/#/experiments/1.\n",
      "\n"
     ]
    },
    {
     "name": "stdout",
     "output_type": "stream",
     "text": [
      " 47%|████▋     | 15/32 [00:11<00:20,  1.21s/trial, best loss: -0.9888888888888889]"
     ]
    },
    {
     "name": "stderr",
     "output_type": "stream",
     "text": [
      "2025/04/16 22:34:14 INFO mlflow.tracking._tracking_service.client: 🏃 View run clumsy-rook-933 at: https://mlops-service-616366923242.us-west2.run.app/#/experiments/1/runs/24a29af7da9a468d9c0ba049dc0c955c.\n",
      "\n",
      "2025/04/16 22:34:14 INFO mlflow.tracking._tracking_service.client: 🧪 View experiment at: https://mlops-service-616366923242.us-west2.run.app/#/experiments/1.\n",
      "\n"
     ]
    },
    {
     "name": "stdout",
     "output_type": "stream",
     "text": [
      " 50%|█████     | 16/32 [00:12<00:15,  1.03trial/s, best loss: -0.9888888888888889]"
     ]
    },
    {
     "name": "stderr",
     "output_type": "stream",
     "text": [
      "2025/04/16 22:34:14 INFO mlflow.tracking._tracking_service.client: 🏃 View run learned-crane-102 at: https://mlops-service-616366923242.us-west2.run.app/#/experiments/1/runs/afe438e36a3840fcbc942b83e0b846ba.\n",
      "\n",
      "2025/04/16 22:34:14 INFO mlflow.tracking._tracking_service.client: 🧪 View experiment at: https://mlops-service-616366923242.us-west2.run.app/#/experiments/1.\n",
      "\n"
     ]
    },
    {
     "name": "stdout",
     "output_type": "stream",
     "text": [
      " 53%|█████▎    | 17/32 [00:12<00:11,  1.29trial/s, best loss: -0.9888888888888889]"
     ]
    },
    {
     "name": "stderr",
     "output_type": "stream",
     "text": [
      "2025/04/16 22:34:17 INFO mlflow.tracking._tracking_service.client: 🏃 View run unruly-chimp-240 at: https://mlops-service-616366923242.us-west2.run.app/#/experiments/1/runs/cc9062f78e8046179339b4e333228ac7.\n",
      "\n",
      "2025/04/16 22:34:17 INFO mlflow.tracking._tracking_service.client: 🧪 View experiment at: https://mlops-service-616366923242.us-west2.run.app/#/experiments/1.\n",
      "\n"
     ]
    },
    {
     "name": "stdout",
     "output_type": "stream",
     "text": [
      " 56%|█████▋    | 18/32 [00:15<00:18,  1.31s/trial, best loss: -0.9888888888888889]"
     ]
    },
    {
     "name": "stderr",
     "output_type": "stream",
     "text": [
      "2025/04/16 22:34:17 INFO mlflow.tracking._tracking_service.client: 🏃 View run resilient-sheep-605 at: https://mlops-service-616366923242.us-west2.run.app/#/experiments/1/runs/af6f5b8462e14cf8bfb2d6f48155ba05.\n",
      "\n",
      "2025/04/16 22:34:17 INFO mlflow.tracking._tracking_service.client: 🧪 View experiment at: https://mlops-service-616366923242.us-west2.run.app/#/experiments/1.\n",
      "\n"
     ]
    },
    {
     "name": "stdout",
     "output_type": "stream",
     "text": [
      " 59%|█████▉    | 19/32 [00:15<00:13,  1.03s/trial, best loss: -0.9888888888888889]"
     ]
    },
    {
     "name": "stderr",
     "output_type": "stream",
     "text": [
      "2025/04/16 22:34:19 INFO mlflow.tracking._tracking_service.client: 🏃 View run rogue-worm-749 at: https://mlops-service-616366923242.us-west2.run.app/#/experiments/1/runs/d6d26c6da7814571b6362b2eb43ba576.\n",
      "\n",
      "2025/04/16 22:34:19 INFO mlflow.tracking._tracking_service.client: 🧪 View experiment at: https://mlops-service-616366923242.us-west2.run.app/#/experiments/1.\n",
      "\n"
     ]
    },
    {
     "name": "stdout",
     "output_type": "stream",
     "text": [
      " 62%|██████▎   | 20/32 [00:17<00:15,  1.33s/trial, best loss: -0.9888888888888889]"
     ]
    },
    {
     "name": "stderr",
     "output_type": "stream",
     "text": [
      "2025/04/16 22:34:21 INFO mlflow.tracking._tracking_service.client: 🏃 View run spiffy-cow-241 at: https://mlops-service-616366923242.us-west2.run.app/#/experiments/1/runs/e412858275344242b6ac6393b74c364b.\n",
      "\n",
      "2025/04/16 22:34:21 INFO mlflow.tracking._tracking_service.client: 🧪 View experiment at: https://mlops-service-616366923242.us-west2.run.app/#/experiments/1.\n",
      "\n"
     ]
    },
    {
     "name": "stdout",
     "output_type": "stream",
     "text": [
      " 66%|██████▌   | 21/32 [00:19<00:16,  1.52s/trial, best loss: -0.9888888888888889]"
     ]
    },
    {
     "name": "stderr",
     "output_type": "stream",
     "text": [
      "2025/04/16 22:34:23 INFO mlflow.tracking._tracking_service.client: 🏃 View run fearless-bee-117 at: https://mlops-service-616366923242.us-west2.run.app/#/experiments/1/runs/0c177d9de34a44d49fe8c926a2cbed2c.\n",
      "\n",
      "2025/04/16 22:34:23 INFO mlflow.tracking._tracking_service.client: 🧪 View experiment at: https://mlops-service-616366923242.us-west2.run.app/#/experiments/1.\n",
      "\n"
     ]
    },
    {
     "name": "stdout",
     "output_type": "stream",
     "text": [
      " 69%|██████▉   | 22/32 [00:21<00:16,  1.62s/trial, best loss: -0.9888888888888889]"
     ]
    },
    {
     "name": "stderr",
     "output_type": "stream",
     "text": [
      "2025/04/16 22:34:25 INFO mlflow.tracking._tracking_service.client: 🏃 View run clumsy-goose-409 at: https://mlops-service-616366923242.us-west2.run.app/#/experiments/1/runs/de39a1051ec74fadb4504ebe2e8dd376.\n",
      "\n",
      "2025/04/16 22:34:25 INFO mlflow.tracking._tracking_service.client: 🧪 View experiment at: https://mlops-service-616366923242.us-west2.run.app/#/experiments/1.\n",
      "\n"
     ]
    },
    {
     "name": "stdout",
     "output_type": "stream",
     "text": [
      " 72%|███████▏  | 23/32 [00:23<00:14,  1.66s/trial, best loss: -0.9888888888888889]"
     ]
    },
    {
     "name": "stderr",
     "output_type": "stream",
     "text": [
      "2025/04/16 22:34:26 INFO mlflow.tracking._tracking_service.client: 🏃 View run unique-bird-149 at: https://mlops-service-616366923242.us-west2.run.app/#/experiments/1/runs/8318f8f90b5e4054b10ab734589be7a9.\n",
      "\n",
      "2025/04/16 22:34:26 INFO mlflow.tracking._tracking_service.client: 🧪 View experiment at: https://mlops-service-616366923242.us-west2.run.app/#/experiments/1.\n",
      "\n"
     ]
    },
    {
     "name": "stdout",
     "output_type": "stream",
     "text": [
      " 75%|███████▌  | 24/32 [00:24<00:12,  1.52s/trial, best loss: -0.9888888888888889]"
     ]
    },
    {
     "name": "stderr",
     "output_type": "stream",
     "text": [
      "2025/04/16 22:34:28 INFO mlflow.tracking._tracking_service.client: 🏃 View run stylish-cod-959 at: https://mlops-service-616366923242.us-west2.run.app/#/experiments/1/runs/11ed20f8c941404bb71f5fef751ad1e3.\n",
      "\n",
      "2025/04/16 22:34:28 INFO mlflow.tracking._tracking_service.client: 🧪 View experiment at: https://mlops-service-616366923242.us-west2.run.app/#/experiments/1.\n",
      "\n"
     ]
    },
    {
     "name": "stdout",
     "output_type": "stream",
     "text": [
      " 78%|███████▊  | 25/32 [00:26<00:11,  1.62s/trial, best loss: -0.9888888888888889]"
     ]
    },
    {
     "name": "stderr",
     "output_type": "stream",
     "text": [
      "2025/04/16 22:34:31 INFO mlflow.tracking._tracking_service.client: 🏃 View run upbeat-squid-220 at: https://mlops-service-616366923242.us-west2.run.app/#/experiments/1/runs/2818c93607b645f2935700e163a9c598.\n",
      "\n",
      "2025/04/16 22:34:31 INFO mlflow.tracking._tracking_service.client: 🧪 View experiment at: https://mlops-service-616366923242.us-west2.run.app/#/experiments/1.\n",
      "\n"
     ]
    },
    {
     "name": "stdout",
     "output_type": "stream",
     "text": [
      " 81%|████████▏ | 26/32 [00:28<00:11,  1.91s/trial, best loss: -0.9888888888888889]"
     ]
    },
    {
     "name": "stderr",
     "output_type": "stream",
     "text": [
      "2025/04/16 22:34:32 INFO mlflow.tracking._tracking_service.client: 🏃 View run delightful-snipe-22 at: https://mlops-service-616366923242.us-west2.run.app/#/experiments/1/runs/f3b0c41fa12545b0bda5af6c87d184cc.\n",
      "\n",
      "2025/04/16 22:34:32 INFO mlflow.tracking._tracking_service.client: 🧪 View experiment at: https://mlops-service-616366923242.us-west2.run.app/#/experiments/1.\n",
      "\n"
     ]
    },
    {
     "name": "stdout",
     "output_type": "stream",
     "text": [
      " 84%|████████▍ | 27/32 [00:30<00:08,  1.73s/trial, best loss: -0.9888888888888889]"
     ]
    },
    {
     "name": "stderr",
     "output_type": "stream",
     "text": [
      "2025/04/16 22:34:34 INFO mlflow.tracking._tracking_service.client: 🏃 View run sneaky-pig-493 at: https://mlops-service-616366923242.us-west2.run.app/#/experiments/1/runs/5628adf3bd3e4c02b291d80ff9f612c4.\n",
      "\n",
      "2025/04/16 22:34:34 INFO mlflow.tracking._tracking_service.client: 🧪 View experiment at: https://mlops-service-616366923242.us-west2.run.app/#/experiments/1.\n",
      "\n"
     ]
    },
    {
     "name": "stdout",
     "output_type": "stream",
     "text": [
      " 88%|████████▊ | 28/32 [00:32<00:07,  1.85s/trial, best loss: -0.9888888888888889]"
     ]
    },
    {
     "name": "stderr",
     "output_type": "stream",
     "text": [
      "2025/04/16 22:34:35 INFO mlflow.tracking._tracking_service.client: 🏃 View run caring-pig-723 at: https://mlops-service-616366923242.us-west2.run.app/#/experiments/1/runs/b219ea4f121f456e8e682ded41edb954.\n",
      "\n",
      "2025/04/16 22:34:35 INFO mlflow.tracking._tracking_service.client: 🧪 View experiment at: https://mlops-service-616366923242.us-west2.run.app/#/experiments/1.\n",
      "\n"
     ]
    },
    {
     "name": "stdout",
     "output_type": "stream",
     "text": [
      " 91%|█████████ | 29/32 [00:33<00:04,  1.64s/trial, best loss: -0.9888888888888889]"
     ]
    },
    {
     "name": "stderr",
     "output_type": "stream",
     "text": [
      "2025/04/16 22:34:37 INFO mlflow.tracking._tracking_service.client: 🏃 View run intrigued-sponge-312 at: https://mlops-service-616366923242.us-west2.run.app/#/experiments/1/runs/3b848a7377ae46f19d5ecfeed87cd10b.\n",
      "\n",
      "2025/04/16 22:34:37 INFO mlflow.tracking._tracking_service.client: 🧪 View experiment at: https://mlops-service-616366923242.us-west2.run.app/#/experiments/1.\n",
      "\n"
     ]
    },
    {
     "name": "stdout",
     "output_type": "stream",
     "text": [
      " 94%|█████████▍| 30/32 [00:34<00:03,  1.64s/trial, best loss: -0.9888888888888889]"
     ]
    },
    {
     "name": "stderr",
     "output_type": "stream",
     "text": [
      "2025/04/16 22:34:37 INFO mlflow.tracking._tracking_service.client: 🏃 View run fortunate-wolf-786 at: https://mlops-service-616366923242.us-west2.run.app/#/experiments/1/runs/0f24735ea9b4499ab1478f1edbccf2a9.\n",
      "\n",
      "2025/04/16 22:34:37 INFO mlflow.tracking._tracking_service.client: 🧪 View experiment at: https://mlops-service-616366923242.us-west2.run.app/#/experiments/1.\n",
      "\n"
     ]
    },
    {
     "name": "stdout",
     "output_type": "stream",
     "text": [
      " 97%|█████████▋| 31/32 [00:35<00:01,  1.29s/trial, best loss: -0.9888888888888889]"
     ]
    },
    {
     "name": "stderr",
     "output_type": "stream",
     "text": [
      "2025/04/16 22:34:38 INFO mlflow.tracking._tracking_service.client: 🏃 View run rogue-dog-657 at: https://mlops-service-616366923242.us-west2.run.app/#/experiments/1/runs/1b00d512a5544258b5fd75f187a9cc0f.\n",
      "\n",
      "2025/04/16 22:34:38 INFO mlflow.tracking._tracking_service.client: 🧪 View experiment at: https://mlops-service-616366923242.us-west2.run.app/#/experiments/1.\n",
      "\n"
     ]
    },
    {
     "name": "stdout",
     "output_type": "stream",
     "text": [
      "100%|██████████| 32/32 [00:36<00:00,  1.13s/trial, best loss: -0.9888888888888889]\n"
     ]
    }
   ],
   "source": [
    "best_result = fmin(\n",
    "        fn=objective, \n",
    "        space=search_space,\n",
    "        algo=algo,\n",
    "        max_evals=32,\n",
    "        trials=trials)"
   ]
  },
  {
   "cell_type": "code",
   "execution_count": 15,
   "metadata": {},
   "outputs": [
    {
     "data": {
      "text/plain": [
       "{'classifier_type': 1,\n",
       " 'criterion': 0,\n",
       " 'rf_max_features': 2,\n",
       " 'rf_n_estimators': 110}"
      ]
     },
     "execution_count": 15,
     "metadata": {},
     "output_type": "execute_result"
    }
   ],
   "source": [
    "best_result"
   ]
  },
  {
   "attachments": {},
   "cell_type": "markdown",
   "metadata": {},
   "source": [
    "### Using Autologging\n",
    "\n",
    "Rather than manually logging parameters and metrics, mlflow has an autolog feature, which is compatible with a subset of python libraries, such as sklearn. Autologging makes it easy to log all of the important stuff, without having to manually write lines of code to log the parameters. However, sometimes you will want to have finer control over what gets logged, and should instead skip autologging."
   ]
  },
  {
   "cell_type": "code",
   "execution_count": 16,
   "metadata": {},
   "outputs": [
    {
     "name": "stderr",
     "output_type": "stream",
     "text": [
      "2025/04/16 22:34:51 WARNING mlflow.utils.autologging_utils: You are using an unsupported version of sklearn. If you encounter errors during autologging, try upgrading / downgrading sklearn to a supported version, or try upgrading MLflow.\n",
      "2025/04/16 22:34:59 INFO mlflow.tracking._tracking_service.client: 🏃 View run omniscient-squid-567 at: https://mlops-service-616366923242.us-west2.run.app/#/experiments/1/runs/eae7483c66b94dd28a6b34d88f5023bc.\n",
      "2025/04/16 22:34:59 INFO mlflow.tracking._tracking_service.client: 🧪 View experiment at: https://mlops-service-616366923242.us-west2.run.app/#/experiments/1.\n"
     ]
    }
   ],
   "source": [
    "with mlflow.start_run():\n",
    "    mlflow.sklearn.autolog()\n",
    "    tree_depth = 5\n",
    "    dt = DecisionTreeClassifier(max_depth=tree_depth)\n",
    "    dt.fit(X_train, y_train)\n",
    "    mlflow.sklearn.autolog(disable=True)\n",
    "mlflow.end_run()"
   ]
  },
  {
   "attachments": {},
   "cell_type": "markdown",
   "metadata": {},
   "source": [
    "# Artifact Tracking and Model Registry (Local)\n",
    "\n",
    "In this section we will save some artifacts from our model as we go through the model development process. There are a few things that might be worth saving, such as datasets, plots, and the final model itself that might go into production later.\n",
    "\n",
    "## Data\n",
    "\n",
    "First, let's see how we can store our important datasets, in a compressed format, for use for later, for example, in case we get a new request about our model and need to run some analyses (such as \"what is the distribution of this feature, but only for this specific subset of data?\" or \"how did the model do on these particular observations from your validation set?\")."
   ]
  },
  {
   "cell_type": "code",
   "execution_count": 17,
   "metadata": {},
   "outputs": [],
   "source": [
    "import os \n",
    "\n",
    "os.makedirs('save_data', exist_ok = True)\n",
    "\n",
    "X_train.to_parquet('save_data/x_train.parquet')\n",
    "\n",
    "mlflow.log_artifact('save_data/x_train.parquet')"
   ]
  },
  {
   "cell_type": "code",
   "execution_count": 18,
   "metadata": {},
   "outputs": [],
   "source": [
    "X_test.to_parquet('save_data/x_test.parquet')\n",
    "\n",
    "mlflow.log_artifacts('save_data/')"
   ]
  },
  {
   "attachments": {
    "mlflow1.png": {
     "image/png": "[encoded data removed]"
    }
   },
   "cell_type": "markdown",
   "metadata": {},
   "source": [
    "You can now go to the mlflow UI, click on the latest run, and select the Artifacts tab. You should see something similar to this:\n",
    "![mlflow1.png](attachment:mlflow1.png)"
   ]
  },
  {
   "cell_type": "markdown",
   "metadata": {},
   "source": [
    "- i deleted that save_data folder just so i dont have to push it separately as well lol, reference for future me if i run this notebook again"
   ]
  },
  {
   "attachments": {},
   "cell_type": "markdown",
   "metadata": {},
   "source": [
    "## Images\n",
    "\n",
    "As part of the model dev process you may end up creating visualizations that can be useful for analysis, or for reporting. You can use mlflow to log the important ones and ignore the rest. After creating the below figure, save into a folder called images, and then you can log whatever is in the `images` folder as an artifact."
   ]
  },
  {
   "cell_type": "code",
   "execution_count": 19,
   "metadata": {},
   "outputs": [
    {
     "data": {
      "text/plain": [
       "array([[<Axes: ylabel='Density'>, <Axes: ylabel='Density'>,\n",
       "        <Axes: ylabel='Density'>, <Axes: ylabel='Density'>],\n",
       "       [<Axes: ylabel='Density'>, <Axes: ylabel='Density'>,\n",
       "        <Axes: ylabel='Density'>, <Axes: ylabel='Density'>],\n",
       "       [<Axes: ylabel='Density'>, <Axes: ylabel='Density'>,\n",
       "        <Axes: ylabel='Density'>, <Axes: ylabel='Density'>],\n",
       "       [<Axes: ylabel='Density'>, <Axes: ylabel='Density'>,\n",
       "        <Axes: ylabel='Density'>, <Axes: ylabel='Density'>]], dtype=object)"
      ]
     },
     "execution_count": 19,
     "metadata": {},
     "output_type": "execute_result"
    },
    {
     "data": {
      "image/png": "[encoded data removed]",
      "text/plain": [
       "<Figure size 2000x1000 with 16 Axes>"
      ]
     },
     "metadata": {},
     "output_type": "display_data"
    }
   ],
   "source": [
    "%matplotlib inline\n",
    "os.makedirs('images', exist_ok = True)\n",
    "X_train.plot.density(subplots = True, figsize = (20,10), layout = (4,4), sharey = False, sharex = False)"
   ]
  },
  {
   "cell_type": "code",
   "execution_count": 20,
   "metadata": {},
   "outputs": [
    {
     "name": "stderr",
     "output_type": "stream",
     "text": [
      "2025/04/16 22:35:35 INFO mlflow.tracking._tracking_service.client: 🏃 View run stylish-whale-147 at: https://mlops-service-616366923242.us-west2.run.app/#/experiments/1/runs/9512361a1a0b4c0ba9b533b74a75f53f.\n",
      "2025/04/16 22:35:35 INFO mlflow.tracking._tracking_service.client: 🧪 View experiment at: https://mlops-service-616366923242.us-west2.run.app/#/experiments/1.\n"
     ]
    }
   ],
   "source": [
    "mlflow.log_artifacts('images')\n",
    "mlflow.end_run()"
   ]
  },
  {
   "attachments": {},
   "cell_type": "markdown",
   "metadata": {},
   "source": [
    "Notice how all of the artifacts were saved in the same run of the experiment. We could have added an `mlflow.end_run()` in between our `log_artifacts` lines to separate runs if we wanted to."
   ]
  },
  {
   "attachments": {},
   "cell_type": "markdown",
   "metadata": {},
   "source": [
    "## Model Management and Model Registry\n",
    "\n",
    "As you are developing your models you may want to save certain versions of the model, or maybe even all of them, so that you don't have to go back and retrain them later. We can do this in mlflow by logging the models, not as artifacts, but as models, using `log_model`. \n",
    "\n",
    "In this section we'll log a couple of models to see how mlflow handles model management. Above, we used `hyperopt` to train a bunch of models at once. Let's do this again, and log some of the models that we train.\n",
    "\n",
    "### Logging as an Artifact\n",
    "\n",
    "First we can try logging a model as an artifact. To do this, we must first save the model itself, which we can do by using the `pickle` library. We then log the model as an artifact like we did with data and images. "
   ]
  },
  {
   "cell_type": "code",
   "execution_count": 21,
   "metadata": {},
   "outputs": [],
   "source": [
    "import pickle\n",
    "\n",
    "os.makedirs('../models', exist_ok = True)\n",
    "\n",
    "dt = DecisionTreeClassifier()\n",
    "dt.fit(X_train, y_train)\n",
    "\n",
    "with open('../models/model.pkl','wb') as f:\n",
    "    pickle.dump(dt,f)\n",
    "\n",
    "# First we'll log the model as an artifact\n",
    "mlflow.log_artifact('../models/model.pkl', artifact_path='my_models')"
   ]
  },
  {
   "attachments": {},
   "cell_type": "markdown",
   "metadata": {},
   "source": [
    "### Logging as a Model\n",
    "\n",
    "Logging the model as an artifact only logs the pickle file (the serialized version of the model). It's not really very useful, especially since models contain so much metadata that might be critical to know for deploying the model later. mlflow has a built-in way of logging models specifically, so let's see how to use this, and how it's different from logging models as an artifact."
   ]
  },
  {
   "cell_type": "code",
   "execution_count": 22,
   "metadata": {},
   "outputs": [
    {
     "name": "stderr",
     "output_type": "stream",
     "text": [
      "2025/04/16 22:35:58 WARNING mlflow.models.model: Input example should be provided to infer model signature if the model signature is not provided when logging the model.\n",
      "2025/04/16 22:35:58 INFO mlflow.tracking._tracking_service.client: 🏃 View run unequaled-moose-79 at: https://mlops-service-616366923242.us-west2.run.app/#/experiments/1/runs/7437dab3195445beae8a0c6099ff0904.\n",
      "2025/04/16 22:35:58 INFO mlflow.tracking._tracking_service.client: 🧪 View experiment at: https://mlops-service-616366923242.us-west2.run.app/#/experiments/1.\n"
     ]
    }
   ],
   "source": [
    "# Let's do it again, but this time we will log the model using log_model\n",
    "mlflow.sklearn.log_model(dt, artifact_path = 'better_models')\n",
    "mlflow.end_run()"
   ]
  },
  {
   "attachments": {
    "mlflow2.png": {
     "image/png": "[encoded data removed]"
    }
   },
   "cell_type": "markdown",
   "metadata": {},
   "source": [
    "Ok, so if you go to the mlflow UI at this point you can see the difference in `log_artifact`, which simply logs the pickle file, and `log_model`, which also gives you information about the environment, required packages, and model flavor.\n",
    "\n",
    "![mlflow2.png](attachment:mlflow2.png)\n",
    "\n",
    "Let's do this one more time, but this time let's use `hyperopt` and log all of the trained models separately. Let's do this in a new experiment called 'demo-experiment2'. "
   ]
  },
  {
   "cell_type": "code",
   "execution_count": 23,
   "metadata": {},
   "outputs": [
    {
     "name": "stderr",
     "output_type": "stream",
     "text": [
      "2025/04/16 22:37:14 INFO mlflow.tracking.fluent: Experiment with name 'demo-experiment2' does not exist. Creating a new experiment.\n"
     ]
    },
    {
     "name": "stdout",
     "output_type": "stream",
     "text": [
      "  0%|          | 0/32 [00:00<?, ?trial/s, best loss=?]"
     ]
    },
    {
     "name": "stderr",
     "output_type": "stream",
     "text": [
      "2025/04/16 22:37:20 WARNING mlflow.models.model: Input example should be provided to infer model signature if the model signature is not provided when logging the model.\n",
      "\n",
      "2025/04/16 22:37:20 INFO mlflow.tracking._tracking_service.client: 🏃 View run unique-cod-407 at: https://mlops-service-616366923242.us-west2.run.app/#/experiments/2/runs/1ddd84c8840544728044154d2c73bff2.\n",
      "\n",
      "2025/04/16 22:37:20 INFO mlflow.tracking._tracking_service.client: 🧪 View experiment at: https://mlops-service-616366923242.us-west2.run.app/#/experiments/2.\n",
      "\n"
     ]
    },
    {
     "name": "stdout",
     "output_type": "stream",
     "text": [
      "  3%|▎         | 1/32 [00:05<03:01,  5.87s/trial, best loss: -0.9498412698412698]"
     ]
    },
    {
     "name": "stderr",
     "output_type": "stream",
     "text": [
      "2025/04/16 22:37:25 WARNING mlflow.models.model: Input example should be provided to infer model signature if the model signature is not provided when logging the model.\n",
      "\n",
      "2025/04/16 22:37:25 INFO mlflow.tracking._tracking_service.client: 🏃 View run angry-croc-848 at: https://mlops-service-616366923242.us-west2.run.app/#/experiments/2/runs/fca9f333ed4e4af6b38a6d7f366a9bd5.\n",
      "\n",
      "2025/04/16 22:37:25 INFO mlflow.tracking._tracking_service.client: 🧪 View experiment at: https://mlops-service-616366923242.us-west2.run.app/#/experiments/2.\n",
      "\n"
     ]
    },
    {
     "name": "stdout",
     "output_type": "stream",
     "text": [
      "  6%|▋         | 2/32 [00:10<02:39,  5.33s/trial, best loss: -0.9498412698412698]"
     ]
    },
    {
     "name": "stderr",
     "output_type": "stream",
     "text": [
      "2025/04/16 22:37:30 WARNING mlflow.models.model: Input example should be provided to infer model signature if the model signature is not provided when logging the model.\n",
      "\n",
      "2025/04/16 22:37:31 INFO mlflow.tracking._tracking_service.client: 🏃 View run sneaky-crab-845 at: https://mlops-service-616366923242.us-west2.run.app/#/experiments/2/runs/8e6039ec560542d8ac9f79367b7e0a11.\n",
      "\n",
      "2025/04/16 22:37:31 INFO mlflow.tracking._tracking_service.client: 🧪 View experiment at: https://mlops-service-616366923242.us-west2.run.app/#/experiments/2.\n",
      "\n"
     ]
    },
    {
     "name": "stdout",
     "output_type": "stream",
     "text": [
      "  9%|▉         | 3/32 [00:16<02:42,  5.61s/trial, best loss: -0.972063492063492] "
     ]
    },
    {
     "name": "stderr",
     "output_type": "stream",
     "text": [
      "2025/04/16 22:37:35 WARNING mlflow.models.model: Input example should be provided to infer model signature if the model signature is not provided when logging the model.\n",
      "\n",
      "2025/04/16 22:37:35 INFO mlflow.tracking._tracking_service.client: 🏃 View run enthused-shoat-735 at: https://mlops-service-616366923242.us-west2.run.app/#/experiments/2/runs/ec8db91af69e4d2294d35737bffd75fb.\n",
      "\n",
      "2025/04/16 22:37:36 INFO mlflow.tracking._tracking_service.client: 🧪 View experiment at: https://mlops-service-616366923242.us-west2.run.app/#/experiments/2.\n",
      "\n"
     ]
    },
    {
     "name": "stdout",
     "output_type": "stream",
     "text": [
      " 12%|█▎        | 4/32 [00:21<02:29,  5.35s/trial, best loss: -0.972063492063492]"
     ]
    },
    {
     "name": "stderr",
     "output_type": "stream",
     "text": [
      "2025/04/16 22:37:41 WARNING mlflow.models.model: Input example should be provided to infer model signature if the model signature is not provided when logging the model.\n",
      "\n",
      "2025/04/16 22:37:41 INFO mlflow.tracking._tracking_service.client: 🏃 View run efficient-toad-707 at: https://mlops-service-616366923242.us-west2.run.app/#/experiments/2/runs/bfcad235589e4dad97c6b82288d0a6ae.\n",
      "\n",
      "2025/04/16 22:37:41 INFO mlflow.tracking._tracking_service.client: 🧪 View experiment at: https://mlops-service-616366923242.us-west2.run.app/#/experiments/2.\n",
      "\n"
     ]
    },
    {
     "name": "stdout",
     "output_type": "stream",
     "text": [
      " 16%|█▌        | 5/32 [00:26<02:23,  5.30s/trial, best loss: -0.972063492063492]"
     ]
    },
    {
     "name": "stderr",
     "output_type": "stream",
     "text": [
      "2025/04/16 22:37:45 WARNING mlflow.models.model: Input example should be provided to infer model signature if the model signature is not provided when logging the model.\n",
      "\n",
      "2025/04/16 22:37:45 INFO mlflow.tracking._tracking_service.client: 🏃 View run nimble-midge-728 at: https://mlops-service-616366923242.us-west2.run.app/#/experiments/2/runs/5342f5bb4a4a4fb8ad3bd7062c22df6d.\n",
      "\n",
      "2025/04/16 22:37:45 INFO mlflow.tracking._tracking_service.client: 🧪 View experiment at: https://mlops-service-616366923242.us-west2.run.app/#/experiments/2.\n",
      "\n"
     ]
    },
    {
     "name": "stdout",
     "output_type": "stream",
     "text": [
      " 19%|█▉        | 6/32 [00:31<02:12,  5.10s/trial, best loss: -0.972063492063492]"
     ]
    },
    {
     "name": "stderr",
     "output_type": "stream",
     "text": [
      "2025/04/16 22:37:50 WARNING mlflow.models.model: Input example should be provided to infer model signature if the model signature is not provided when logging the model.\n",
      "\n",
      "2025/04/16 22:37:50 INFO mlflow.tracking._tracking_service.client: 🏃 View run enthused-steed-93 at: https://mlops-service-616366923242.us-west2.run.app/#/experiments/2/runs/06b4d315951147869bb951ad60afa230.\n",
      "\n",
      "2025/04/16 22:37:50 INFO mlflow.tracking._tracking_service.client: 🧪 View experiment at: https://mlops-service-616366923242.us-west2.run.app/#/experiments/2.\n",
      "\n"
     ]
    },
    {
     "name": "stdout",
     "output_type": "stream",
     "text": [
      " 22%|██▏       | 7/32 [00:35<01:59,  4.80s/trial, best loss: -0.972063492063492]"
     ]
    },
    {
     "name": "stderr",
     "output_type": "stream",
     "text": [
      "2025/04/16 22:37:55 WARNING mlflow.models.model: Input example should be provided to infer model signature if the model signature is not provided when logging the model.\n",
      "\n",
      "2025/04/16 22:37:55 INFO mlflow.tracking._tracking_service.client: 🏃 View run illustrious-mare-650 at: https://mlops-service-616366923242.us-west2.run.app/#/experiments/2/runs/0035cfb7d3a64009968d69aafeca651b.\n",
      "\n",
      "2025/04/16 22:37:55 INFO mlflow.tracking._tracking_service.client: 🧪 View experiment at: https://mlops-service-616366923242.us-west2.run.app/#/experiments/2.\n",
      "\n"
     ]
    },
    {
     "name": "stdout",
     "output_type": "stream",
     "text": [
      " 25%|██▌       | 8/32 [00:41<01:58,  4.93s/trial, best loss: -0.972063492063492]"
     ]
    },
    {
     "name": "stderr",
     "output_type": "stream",
     "text": [
      "2025/04/16 22:37:59 WARNING mlflow.models.model: Input example should be provided to infer model signature if the model signature is not provided when logging the model.\n",
      "\n",
      "2025/04/16 22:37:59 INFO mlflow.tracking._tracking_service.client: 🏃 View run agreeable-bug-988 at: https://mlops-service-616366923242.us-west2.run.app/#/experiments/2/runs/dde162783ab84f2f9bf242d90f1a5a0e.\n",
      "\n",
      "2025/04/16 22:37:59 INFO mlflow.tracking._tracking_service.client: 🧪 View experiment at: https://mlops-service-616366923242.us-west2.run.app/#/experiments/2.\n",
      "\n"
     ]
    },
    {
     "name": "stdout",
     "output_type": "stream",
     "text": [
      " 28%|██▊       | 9/32 [00:44<01:45,  4.61s/trial, best loss: -0.972063492063492]"
     ]
    },
    {
     "name": "stderr",
     "output_type": "stream",
     "text": [
      "2025/04/16 22:38:02 WARNING mlflow.models.model: Input example should be provided to infer model signature if the model signature is not provided when logging the model.\n",
      "\n",
      "2025/04/16 22:38:02 INFO mlflow.tracking._tracking_service.client: 🏃 View run nebulous-calf-497 at: https://mlops-service-616366923242.us-west2.run.app/#/experiments/2/runs/742d7962efd342a6875853dc742a6c73.\n",
      "\n",
      "2025/04/16 22:38:02 INFO mlflow.tracking._tracking_service.client: 🧪 View experiment at: https://mlops-service-616366923242.us-west2.run.app/#/experiments/2.\n",
      "\n"
     ]
    },
    {
     "name": "stdout",
     "output_type": "stream",
     "text": [
      " 31%|███▏      | 10/32 [00:48<01:33,  4.27s/trial, best loss: -0.972063492063492]"
     ]
    },
    {
     "name": "stderr",
     "output_type": "stream",
     "text": [
      "2025/04/16 22:38:07 WARNING mlflow.models.model: Input example should be provided to infer model signature if the model signature is not provided when logging the model.\n",
      "\n",
      "2025/04/16 22:38:07 INFO mlflow.tracking._tracking_service.client: 🏃 View run secretive-asp-435 at: https://mlops-service-616366923242.us-west2.run.app/#/experiments/2/runs/7ca4d4c0d64243d6b6851f7f31f22e58.\n",
      "\n",
      "2025/04/16 22:38:07 INFO mlflow.tracking._tracking_service.client: 🧪 View experiment at: https://mlops-service-616366923242.us-west2.run.app/#/experiments/2.\n",
      "\n"
     ]
    },
    {
     "name": "stdout",
     "output_type": "stream",
     "text": [
      " 34%|███▍      | 11/32 [00:53<01:31,  4.37s/trial, best loss: -0.9720634920634922]"
     ]
    },
    {
     "name": "stderr",
     "output_type": "stream",
     "text": [
      "2025/04/16 22:38:13 WARNING mlflow.models.model: Input example should be provided to infer model signature if the model signature is not provided when logging the model.\n",
      "\n",
      "2025/04/16 22:38:13 INFO mlflow.tracking._tracking_service.client: 🏃 View run resilient-colt-277 at: https://mlops-service-616366923242.us-west2.run.app/#/experiments/2/runs/5fb66b9c38fa4fefbb7fd4d99d5168d7.\n",
      "\n",
      "2025/04/16 22:38:13 INFO mlflow.tracking._tracking_service.client: 🧪 View experiment at: https://mlops-service-616366923242.us-west2.run.app/#/experiments/2.\n",
      "\n"
     ]
    },
    {
     "name": "stdout",
     "output_type": "stream",
     "text": [
      " 38%|███▊      | 12/32 [00:58<01:36,  4.85s/trial, best loss: -0.9720634920634922]"
     ]
    },
    {
     "name": "stderr",
     "output_type": "stream",
     "text": [
      "2025/04/16 22:38:18 WARNING mlflow.models.model: Input example should be provided to infer model signature if the model signature is not provided when logging the model.\n",
      "\n",
      "2025/04/16 22:38:18 INFO mlflow.tracking._tracking_service.client: 🏃 View run agreeable-ox-35 at: https://mlops-service-616366923242.us-west2.run.app/#/experiments/2/runs/e7d469e33d6e4f058653153ffea04858.\n",
      "\n",
      "2025/04/16 22:38:18 INFO mlflow.tracking._tracking_service.client: 🧪 View experiment at: https://mlops-service-616366923242.us-west2.run.app/#/experiments/2.\n",
      "\n"
     ]
    },
    {
     "name": "stdout",
     "output_type": "stream",
     "text": [
      " 41%|████      | 13/32 [01:04<01:36,  5.09s/trial, best loss: -0.9720634920634922]"
     ]
    },
    {
     "name": "stderr",
     "output_type": "stream",
     "text": [
      "2025/04/16 22:38:23 WARNING mlflow.models.model: Input example should be provided to infer model signature if the model signature is not provided when logging the model.\n",
      "\n",
      "2025/04/16 22:38:23 INFO mlflow.tracking._tracking_service.client: 🏃 View run loud-rook-884 at: https://mlops-service-616366923242.us-west2.run.app/#/experiments/2/runs/35f3c69ba23e41a4ae0c8d42f19ce894.\n",
      "\n",
      "2025/04/16 22:38:23 INFO mlflow.tracking._tracking_service.client: 🧪 View experiment at: https://mlops-service-616366923242.us-west2.run.app/#/experiments/2.\n",
      "\n"
     ]
    },
    {
     "name": "stdout",
     "output_type": "stream",
     "text": [
      " 44%|████▍     | 14/32 [01:09<01:29,  4.96s/trial, best loss: -0.9720634920634922]"
     ]
    },
    {
     "name": "stderr",
     "output_type": "stream",
     "text": [
      "2025/04/16 22:38:27 WARNING mlflow.models.model: Input example should be provided to infer model signature if the model signature is not provided when logging the model.\n",
      "\n",
      "2025/04/16 22:38:27 INFO mlflow.tracking._tracking_service.client: 🏃 View run respected-hawk-588 at: https://mlops-service-616366923242.us-west2.run.app/#/experiments/2/runs/73f6ce9e8ea747fe9614b46a7ed5a29f.\n",
      "\n",
      "2025/04/16 22:38:27 INFO mlflow.tracking._tracking_service.client: 🧪 View experiment at: https://mlops-service-616366923242.us-west2.run.app/#/experiments/2.\n",
      "\n"
     ]
    },
    {
     "name": "stdout",
     "output_type": "stream",
     "text": [
      " 47%|████▋     | 15/32 [01:13<01:20,  4.72s/trial, best loss: -0.9720634920634922]"
     ]
    },
    {
     "name": "stderr",
     "output_type": "stream",
     "text": [
      "2025/04/16 22:38:31 WARNING mlflow.models.model: Input example should be provided to infer model signature if the model signature is not provided when logging the model.\n",
      "\n",
      "2025/04/16 22:38:31 INFO mlflow.tracking._tracking_service.client: 🏃 View run crawling-zebra-58 at: https://mlops-service-616366923242.us-west2.run.app/#/experiments/2/runs/52bd9629a99646bf9660699395973469.\n",
      "\n",
      "2025/04/16 22:38:31 INFO mlflow.tracking._tracking_service.client: 🧪 View experiment at: https://mlops-service-616366923242.us-west2.run.app/#/experiments/2.\n",
      "\n"
     ]
    },
    {
     "name": "stdout",
     "output_type": "stream",
     "text": [
      " 50%|█████     | 16/32 [01:17<01:10,  4.41s/trial, best loss: -0.9720634920634922]"
     ]
    },
    {
     "name": "stderr",
     "output_type": "stream",
     "text": [
      "2025/04/16 22:38:35 WARNING mlflow.models.model: Input example should be provided to infer model signature if the model signature is not provided when logging the model.\n",
      "\n",
      "2025/04/16 22:38:35 INFO mlflow.tracking._tracking_service.client: 🏃 View run unleashed-carp-112 at: https://mlops-service-616366923242.us-west2.run.app/#/experiments/2/runs/f5dcafa28f0a48e9b76c058c2dcd9023.\n",
      "\n",
      "2025/04/16 22:38:35 INFO mlflow.tracking._tracking_service.client: 🧪 View experiment at: https://mlops-service-616366923242.us-west2.run.app/#/experiments/2.\n",
      "\n"
     ]
    },
    {
     "name": "stdout",
     "output_type": "stream",
     "text": [
      " 53%|█████▎    | 17/32 [01:21<01:04,  4.28s/trial, best loss: -0.9720634920634922]"
     ]
    },
    {
     "name": "stderr",
     "output_type": "stream",
     "text": [
      "2025/04/16 22:38:39 WARNING mlflow.models.model: Input example should be provided to infer model signature if the model signature is not provided when logging the model.\n",
      "\n",
      "2025/04/16 22:38:39 INFO mlflow.tracking._tracking_service.client: 🏃 View run worried-midge-366 at: https://mlops-service-616366923242.us-west2.run.app/#/experiments/2/runs/b45ad6b8c8534f06986dadead1b6ed75.\n",
      "\n",
      "2025/04/16 22:38:39 INFO mlflow.tracking._tracking_service.client: 🧪 View experiment at: https://mlops-service-616366923242.us-west2.run.app/#/experiments/2.\n",
      "\n"
     ]
    },
    {
     "name": "stdout",
     "output_type": "stream",
     "text": [
      " 56%|█████▋    | 18/32 [01:25<00:58,  4.17s/trial, best loss: -0.9720634920634922]"
     ]
    },
    {
     "name": "stderr",
     "output_type": "stream",
     "text": [
      "2025/04/16 22:38:42 WARNING mlflow.models.model: Input example should be provided to infer model signature if the model signature is not provided when logging the model.\n",
      "\n",
      "2025/04/16 22:38:42 INFO mlflow.tracking._tracking_service.client: 🏃 View run polite-koi-718 at: https://mlops-service-616366923242.us-west2.run.app/#/experiments/2/runs/282296e3a8b948cf85985b76e0ffd957.\n",
      "\n",
      "2025/04/16 22:38:42 INFO mlflow.tracking._tracking_service.client: 🧪 View experiment at: https://mlops-service-616366923242.us-west2.run.app/#/experiments/2.\n",
      "\n"
     ]
    },
    {
     "name": "stdout",
     "output_type": "stream",
     "text": [
      " 59%|█████▉    | 19/32 [01:28<00:52,  4.01s/trial, best loss: -0.9720634920634922]"
     ]
    },
    {
     "name": "stderr",
     "output_type": "stream",
     "text": [
      "2025/04/16 22:38:46 WARNING mlflow.models.model: Input example should be provided to infer model signature if the model signature is not provided when logging the model.\n",
      "\n",
      "2025/04/16 22:38:46 INFO mlflow.tracking._tracking_service.client: 🏃 View run amusing-doe-177 at: https://mlops-service-616366923242.us-west2.run.app/#/experiments/2/runs/f1bbf1722ea6468fb4e3ba9b136c449f.\n",
      "\n",
      "2025/04/16 22:38:46 INFO mlflow.tracking._tracking_service.client: 🧪 View experiment at: https://mlops-service-616366923242.us-west2.run.app/#/experiments/2.\n",
      "\n"
     ]
    },
    {
     "name": "stdout",
     "output_type": "stream",
     "text": [
      " 62%|██████▎   | 20/32 [01:32<00:46,  3.91s/trial, best loss: -0.9720634920634922]"
     ]
    },
    {
     "name": "stderr",
     "output_type": "stream",
     "text": [
      "2025/04/16 22:38:50 WARNING mlflow.models.model: Input example should be provided to infer model signature if the model signature is not provided when logging the model.\n",
      "\n",
      "2025/04/16 22:38:50 INFO mlflow.tracking._tracking_service.client: 🏃 View run fortunate-finch-570 at: https://mlops-service-616366923242.us-west2.run.app/#/experiments/2/runs/7d0e4e74c7e34fd58f0e41d008e81138.\n",
      "\n",
      "2025/04/16 22:38:50 INFO mlflow.tracking._tracking_service.client: 🧪 View experiment at: https://mlops-service-616366923242.us-west2.run.app/#/experiments/2.\n",
      "\n"
     ]
    },
    {
     "name": "stdout",
     "output_type": "stream",
     "text": [
      " 66%|██████▌   | 21/32 [01:36<00:43,  3.98s/trial, best loss: -0.9888888888888889]"
     ]
    },
    {
     "name": "stderr",
     "output_type": "stream",
     "text": [
      "2025/04/16 22:38:55 WARNING mlflow.models.model: Input example should be provided to infer model signature if the model signature is not provided when logging the model.\n",
      "\n",
      "2025/04/16 22:38:55 INFO mlflow.tracking._tracking_service.client: 🏃 View run indecisive-steed-254 at: https://mlops-service-616366923242.us-west2.run.app/#/experiments/2/runs/8184a55ad7364afeab2164818a729915.\n",
      "\n",
      "2025/04/16 22:38:55 INFO mlflow.tracking._tracking_service.client: 🧪 View experiment at: https://mlops-service-616366923242.us-west2.run.app/#/experiments/2.\n",
      "\n"
     ]
    },
    {
     "name": "stdout",
     "output_type": "stream",
     "text": [
      " 69%|██████▉   | 22/32 [01:41<00:41,  4.18s/trial, best loss: -0.9888888888888889]"
     ]
    },
    {
     "name": "stderr",
     "output_type": "stream",
     "text": [
      "2025/04/16 22:38:59 WARNING mlflow.models.model: Input example should be provided to infer model signature if the model signature is not provided when logging the model.\n",
      "\n",
      "2025/04/16 22:38:59 INFO mlflow.tracking._tracking_service.client: 🏃 View run exultant-dog-240 at: https://mlops-service-616366923242.us-west2.run.app/#/experiments/2/runs/b1cbee50a70d463589f3cba6b2381655.\n",
      "\n",
      "2025/04/16 22:38:59 INFO mlflow.tracking._tracking_service.client: 🧪 View experiment at: https://mlops-service-616366923242.us-west2.run.app/#/experiments/2.\n",
      "\n"
     ]
    },
    {
     "name": "stdout",
     "output_type": "stream",
     "text": [
      " 72%|███████▏  | 23/32 [01:45<00:37,  4.15s/trial, best loss: -0.9888888888888889]"
     ]
    },
    {
     "name": "stderr",
     "output_type": "stream",
     "text": [
      "2025/04/16 22:39:04 WARNING mlflow.models.model: Input example should be provided to infer model signature if the model signature is not provided when logging the model.\n",
      "\n",
      "2025/04/16 22:39:04 INFO mlflow.tracking._tracking_service.client: 🏃 View run flawless-finch-186 at: https://mlops-service-616366923242.us-west2.run.app/#/experiments/2/runs/84831bed04624f28b4bc1aceeb94afb5.\n",
      "\n",
      "2025/04/16 22:39:04 INFO mlflow.tracking._tracking_service.client: 🧪 View experiment at: https://mlops-service-616366923242.us-west2.run.app/#/experiments/2.\n",
      "\n"
     ]
    },
    {
     "name": "stdout",
     "output_type": "stream",
     "text": [
      " 75%|███████▌  | 24/32 [01:49<00:34,  4.34s/trial, best loss: -0.9888888888888889]"
     ]
    },
    {
     "name": "stderr",
     "output_type": "stream",
     "text": [
      "2025/04/16 22:39:08 WARNING mlflow.models.model: Input example should be provided to infer model signature if the model signature is not provided when logging the model.\n",
      "\n",
      "2025/04/16 22:39:09 INFO mlflow.tracking._tracking_service.client: 🏃 View run honorable-carp-884 at: https://mlops-service-616366923242.us-west2.run.app/#/experiments/2/runs/8db7a7ef284a47d0aef062afbaecabee.\n",
      "\n",
      "2025/04/16 22:39:09 INFO mlflow.tracking._tracking_service.client: 🧪 View experiment at: https://mlops-service-616366923242.us-west2.run.app/#/experiments/2.\n",
      "\n"
     ]
    },
    {
     "name": "stdout",
     "output_type": "stream",
     "text": [
      " 78%|███████▊  | 25/32 [01:54<00:31,  4.50s/trial, best loss: -0.9888888888888889]"
     ]
    },
    {
     "name": "stderr",
     "output_type": "stream",
     "text": [
      "2025/04/16 22:39:14 WARNING mlflow.models.model: Input example should be provided to infer model signature if the model signature is not provided when logging the model.\n",
      "\n",
      "2025/04/16 22:39:14 INFO mlflow.tracking._tracking_service.client: 🏃 View run suave-fly-292 at: https://mlops-service-616366923242.us-west2.run.app/#/experiments/2/runs/27efd5f09b8e4c07a645529d67627f60.\n",
      "\n",
      "2025/04/16 22:39:14 INFO mlflow.tracking._tracking_service.client: 🧪 View experiment at: https://mlops-service-616366923242.us-west2.run.app/#/experiments/2.\n",
      "\n"
     ]
    },
    {
     "name": "stdout",
     "output_type": "stream",
     "text": [
      " 81%|████████▏ | 26/32 [02:00<00:28,  4.73s/trial, best loss: -0.9888888888888889]"
     ]
    },
    {
     "name": "stderr",
     "output_type": "stream",
     "text": [
      "2025/04/16 22:39:18 WARNING mlflow.models.model: Input example should be provided to infer model signature if the model signature is not provided when logging the model.\n",
      "\n",
      "2025/04/16 22:39:18 INFO mlflow.tracking._tracking_service.client: 🏃 View run charming-conch-275 at: https://mlops-service-616366923242.us-west2.run.app/#/experiments/2/runs/8424e673ef1941709f75f59cf4290ac4.\n",
      "\n",
      "2025/04/16 22:39:18 INFO mlflow.tracking._tracking_service.client: 🧪 View experiment at: https://mlops-service-616366923242.us-west2.run.app/#/experiments/2.\n",
      "\n"
     ]
    },
    {
     "name": "stdout",
     "output_type": "stream",
     "text": [
      " 84%|████████▍ | 27/32 [02:04<00:23,  4.63s/trial, best loss: -0.9888888888888889]"
     ]
    },
    {
     "name": "stderr",
     "output_type": "stream",
     "text": [
      "2025/04/16 22:39:22 WARNING mlflow.models.model: Input example should be provided to infer model signature if the model signature is not provided when logging the model.\n",
      "\n",
      "2025/04/16 22:39:22 INFO mlflow.tracking._tracking_service.client: 🏃 View run languid-elk-433 at: https://mlops-service-616366923242.us-west2.run.app/#/experiments/2/runs/7e4d40942ffa4f0ca0d09a93c1fb8315.\n",
      "\n",
      "2025/04/16 22:39:22 INFO mlflow.tracking._tracking_service.client: 🧪 View experiment at: https://mlops-service-616366923242.us-west2.run.app/#/experiments/2.\n",
      "\n"
     ]
    },
    {
     "name": "stdout",
     "output_type": "stream",
     "text": [
      " 88%|████████▊ | 28/32 [02:08<00:17,  4.37s/trial, best loss: -0.9888888888888889]"
     ]
    },
    {
     "name": "stderr",
     "output_type": "stream",
     "text": [
      "2025/04/16 22:39:28 WARNING mlflow.models.model: Input example should be provided to infer model signature if the model signature is not provided when logging the model.\n",
      "\n",
      "2025/04/16 22:39:28 INFO mlflow.tracking._tracking_service.client: 🏃 View run wistful-pug-672 at: https://mlops-service-616366923242.us-west2.run.app/#/experiments/2/runs/76d12fbbe20c4171befe871d48c71ab7.\n",
      "\n",
      "2025/04/16 22:39:28 INFO mlflow.tracking._tracking_service.client: 🧪 View experiment at: https://mlops-service-616366923242.us-west2.run.app/#/experiments/2.\n",
      "\n"
     ]
    },
    {
     "name": "stdout",
     "output_type": "stream",
     "text": [
      " 91%|█████████ | 29/32 [02:14<00:14,  4.82s/trial, best loss: -0.9888888888888889]"
     ]
    },
    {
     "name": "stderr",
     "output_type": "stream",
     "text": [
      "2025/04/16 22:39:33 WARNING mlflow.models.model: Input example should be provided to infer model signature if the model signature is not provided when logging the model.\n",
      "\n",
      "2025/04/16 22:39:34 INFO mlflow.tracking._tracking_service.client: 🏃 View run skittish-gnat-969 at: https://mlops-service-616366923242.us-west2.run.app/#/experiments/2/runs/cff124ed9a034cd18a01efd54d37d30b.\n",
      "\n",
      "2025/04/16 22:39:34 INFO mlflow.tracking._tracking_service.client: 🧪 View experiment at: https://mlops-service-616366923242.us-west2.run.app/#/experiments/2.\n",
      "\n"
     ]
    },
    {
     "name": "stdout",
     "output_type": "stream",
     "text": [
      " 94%|█████████▍| 30/32 [02:19<00:10,  5.06s/trial, best loss: -0.9888888888888889]"
     ]
    },
    {
     "name": "stderr",
     "output_type": "stream",
     "text": [
      "2025/04/16 22:39:38 WARNING mlflow.models.model: Input example should be provided to infer model signature if the model signature is not provided when logging the model.\n",
      "\n",
      "2025/04/16 22:39:39 INFO mlflow.tracking._tracking_service.client: 🏃 View run bedecked-cow-79 at: https://mlops-service-616366923242.us-west2.run.app/#/experiments/2/runs/30093d2fc0954aa6b284cbba804fae1c.\n",
      "\n",
      "2025/04/16 22:39:39 INFO mlflow.tracking._tracking_service.client: 🧪 View experiment at: https://mlops-service-616366923242.us-west2.run.app/#/experiments/2.\n",
      "\n"
     ]
    },
    {
     "name": "stdout",
     "output_type": "stream",
     "text": [
      " 97%|█████████▋| 31/32 [02:24<00:05,  5.04s/trial, best loss: -0.9888888888888889]"
     ]
    },
    {
     "name": "stderr",
     "output_type": "stream",
     "text": [
      "2025/04/16 22:39:44 WARNING mlflow.models.model: Input example should be provided to infer model signature if the model signature is not provided when logging the model.\n",
      "\n",
      "2025/04/16 22:39:44 INFO mlflow.tracking._tracking_service.client: 🏃 View run capable-worm-216 at: https://mlops-service-616366923242.us-west2.run.app/#/experiments/2/runs/48f9153bb58041969321561bc0059ca4.\n",
      "\n",
      "2025/04/16 22:39:44 INFO mlflow.tracking._tracking_service.client: 🧪 View experiment at: https://mlops-service-616366923242.us-west2.run.app/#/experiments/2.\n",
      "\n"
     ]
    },
    {
     "name": "stdout",
     "output_type": "stream",
     "text": [
      "100%|██████████| 32/32 [02:30<00:00,  4.69s/trial, best loss: -0.9888888888888889]\n"
     ]
    }
   ],
   "source": [
    "mlflow.set_experiment('demo-experiment2')\n",
    "def objective(params):\n",
    "    with mlflow.start_run():\n",
    "        classifier_type = params['type']\n",
    "        del params['type']\n",
    "        if classifier_type == 'dt':\n",
    "            clf = DecisionTreeClassifier(**params)\n",
    "        elif classifier_type == 'rf':\n",
    "            clf = RandomForestClassifier(**params)        \n",
    "        else:\n",
    "            return 0\n",
    "        acc = cross_val_score(clf, X, y).mean()\n",
    "\n",
    "        mlflow.set_tag(\"Model\", classifier_type)\n",
    "        mlflow.log_params(params)\n",
    "        mlflow.log_metric(\"accuracy\", acc)\n",
    "        mlflow.sklearn.log_model(clf, artifact_path = 'better_models')\n",
    "        mlflow.end_run()\n",
    "        return {'loss': -acc, 'status': STATUS_OK}\n",
    "search_space = hp.choice('classifier_type', [\n",
    "    {\n",
    "        'type': 'dt',\n",
    "        'criterion': hp.choice('dtree_criterion', ['gini', 'entropy']),\n",
    "        'max_depth': hp.choice('dtree_max_depth', [None, hp.randint('dtree_max_depth_int', 1,10)]),\n",
    "        'min_samples_split': hp.randint('dtree_min_samples_split', 2,10)\n",
    "    },\n",
    "    {\n",
    "        'type': 'rf',\n",
    "        'n_estimators': hp.randint('rf_n_estimators', 20, 500),\n",
    "        'max_features': hp.randint('rf_max_features', 2,9),\n",
    "        'criterion': hp.choice('criterion', ['gini', 'entropy'])\n",
    "    },\n",
    "])\n",
    "\n",
    "algo = tpe.suggest\n",
    "trials = Trials()\n",
    "best_result = fmin(\n",
    "        fn=objective, \n",
    "        space=search_space,\n",
    "        algo=algo,\n",
    "        max_evals=32,\n",
    "        trials=trials)"
   ]
  },
  {
   "attachments": {},
   "cell_type": "markdown",
   "metadata": {},
   "source": [
    "### Loading Models\n",
    "\n",
    "Now that models have been logged, you can load specific models back into python for predicting and further analysis. There are two main ways to do this. The mlflow UI actually gives you some instructions, with code that you copy and paste."
   ]
  },
  {
   "cell_type": "code",
   "execution_count": 24,
   "metadata": {},
   "outputs": [
    {
     "name": "stderr",
     "output_type": "stream",
     "text": [
      "/opt/homebrew/anaconda3/envs/mlops/lib/python3.12/site-packages/tqdm/auto.py:21: TqdmWarning: IProgress not found. Please update jupyter and ipywidgets. See https://ipywidgets.readthedocs.io/en/stable/user_install.html\n",
      "  from .autonotebook import tqdm as notebook_tqdm\n",
      "Downloading artifacts: 100%|██████████| 5/5 [00:00<00:00,  7.55it/s]\n"
     ]
    },
    {
     "data": {
      "text/plain": [
       "mlflow.pyfunc.loaded_model:\n",
       "  artifact_path: better_models\n",
       "  flavor: mlflow.sklearn\n",
       "  run_id: 8db7a7ef284a47d0aef062afbaecabee"
      ]
     },
     "execution_count": 24,
     "metadata": {},
     "output_type": "execute_result"
    }
   ],
   "source": [
    "logged_model = 'runs:/8db7a7ef284a47d0aef062afbaecabee/better_models' #replace with one of your models\n",
    "# Load model as a PyFuncModel.\n",
    "loaded_model = mlflow.pyfunc.load_model(logged_model)\n",
    "loaded_model"
   ]
  },
  {
   "cell_type": "markdown",
   "metadata": {},
   "source": [
    "- also deleted models folder that was created afterwards"
   ]
  },
  {
   "cell_type": "code",
   "execution_count": 25,
   "metadata": {},
   "outputs": [
    {
     "name": "stderr",
     "output_type": "stream",
     "text": [
      "Downloading artifacts: 100%|██████████| 5/5 [00:00<00:00,  8.03it/s]\n"
     ]
    },
    {
     "data": {
      "text/html": [
       "<style>#sk-container-id-3 {\n",
       "  /* Definition of color scheme common for light and dark mode */\n",
       "  --sklearn-color-text: #000;\n",
       "  --sklearn-color-text-muted: #666;\n",
       "  --sklearn-color-line: gray;\n",
       "  /* Definition of color scheme for unfitted estimators */\n",
       "  --sklearn-color-unfitted-level-0: #fff5e6;\n",
       "  --sklearn-color-unfitted-level-1: #f6e4d2;\n",
       "  --sklearn-color-unfitted-level-2: #ffe0b3;\n",
       "  --sklearn-color-unfitted-level-3: chocolate;\n",
       "  /* Definition of color scheme for fitted estimators */\n",
       "  --sklearn-color-fitted-level-0: #f0f8ff;\n",
       "  --sklearn-color-fitted-level-1: #d4ebff;\n",
       "  --sklearn-color-fitted-level-2: #b3dbfd;\n",
       "  --sklearn-color-fitted-level-3: cornflowerblue;\n",
       "\n",
       "  /* Specific color for light theme */\n",
       "  --sklearn-color-text-on-default-background: var(--sg-text-color, var(--theme-code-foreground, var(--jp-content-font-color1, black)));\n",
       "  --sklearn-color-background: var(--sg-background-color, var(--theme-background, var(--jp-layout-color0, white)));\n",
       "  --sklearn-color-border-box: var(--sg-text-color, var(--theme-code-foreground, var(--jp-content-font-color1, black)));\n",
       "  --sklearn-color-icon: #696969;\n",
       "\n",
       "  @media (prefers-color-scheme: dark) {\n",
       "    /* Redefinition of color scheme for dark theme */\n",
       "    --sklearn-color-text-on-default-background: var(--sg-text-color, var(--theme-code-foreground, var(--jp-content-font-color1, white)));\n",
       "    --sklearn-color-background: var(--sg-background-color, var(--theme-background, var(--jp-layout-color0, #111)));\n",
       "    --sklearn-color-border-box: var(--sg-text-color, var(--theme-code-foreground, var(--jp-content-font-color1, white)));\n",
       "    --sklearn-color-icon: #878787;\n",
       "  }\n",
       "}\n",
       "\n",
       "#sk-container-id-3 {\n",
       "  color: var(--sklearn-color-text);\n",
       "}\n",
       "\n",
       "#sk-container-id-3 pre {\n",
       "  padding: 0;\n",
       "}\n",
       "\n",
       "#sk-container-id-3 input.sk-hidden--visually {\n",
       "  border: 0;\n",
       "  clip: rect(1px 1px 1px 1px);\n",
       "  clip: rect(1px, 1px, 1px, 1px);\n",
       "  height: 1px;\n",
       "  margin: -1px;\n",
       "  overflow: hidden;\n",
       "  padding: 0;\n",
       "  position: absolute;\n",
       "  width: 1px;\n",
       "}\n",
       "\n",
       "#sk-container-id-3 div.sk-dashed-wrapped {\n",
       "  border: 1px dashed var(--sklearn-color-line);\n",
       "  margin: 0 0.4em 0.5em 0.4em;\n",
       "  box-sizing: border-box;\n",
       "  padding-bottom: 0.4em;\n",
       "  background-color: var(--sklearn-color-background);\n",
       "}\n",
       "\n",
       "#sk-container-id-3 div.sk-container {\n",
       "  /* jupyter's `normalize.less` sets `[hidden] { display: none; }`\n",
       "     but bootstrap.min.css set `[hidden] { display: none !important; }`\n",
       "     so we also need the `!important` here to be able to override the\n",
       "     default hidden behavior on the sphinx rendered scikit-learn.org.\n",
       "     See: https://github.com/scikit-learn/scikit-learn/issues/21755 */\n",
       "  display: inline-block !important;\n",
       "  position: relative;\n",
       "}\n",
       "\n",
       "#sk-container-id-3 div.sk-text-repr-fallback {\n",
       "  display: none;\n",
       "}\n",
       "\n",
       "div.sk-parallel-item,\n",
       "div.sk-serial,\n",
       "div.sk-item {\n",
       "  /* draw centered vertical line to link estimators */\n",
       "  background-image: linear-gradient(var(--sklearn-color-text-on-default-background), var(--sklearn-color-text-on-default-background));\n",
       "  background-size: 2px 100%;\n",
       "  background-repeat: no-repeat;\n",
       "  background-position: center center;\n",
       "}\n",
       "\n",
       "/* Parallel-specific style estimator block */\n",
       "\n",
       "#sk-container-id-3 div.sk-parallel-item::after {\n",
       "  content: \"\";\n",
       "  width: 100%;\n",
       "  border-bottom: 2px solid var(--sklearn-color-text-on-default-background);\n",
       "  flex-grow: 1;\n",
       "}\n",
       "\n",
       "#sk-container-id-3 div.sk-parallel {\n",
       "  display: flex;\n",
       "  align-items: stretch;\n",
       "  justify-content: center;\n",
       "  background-color: var(--sklearn-color-background);\n",
       "  position: relative;\n",
       "}\n",
       "\n",
       "#sk-container-id-3 div.sk-parallel-item {\n",
       "  display: flex;\n",
       "  flex-direction: column;\n",
       "}\n",
       "\n",
       "#sk-container-id-3 div.sk-parallel-item:first-child::after {\n",
       "  align-self: flex-end;\n",
       "  width: 50%;\n",
       "}\n",
       "\n",
       "#sk-container-id-3 div.sk-parallel-item:last-child::after {\n",
       "  align-self: flex-start;\n",
       "  width: 50%;\n",
       "}\n",
       "\n",
       "#sk-container-id-3 div.sk-parallel-item:only-child::after {\n",
       "  width: 0;\n",
       "}\n",
       "\n",
       "/* Serial-specific style estimator block */\n",
       "\n",
       "#sk-container-id-3 div.sk-serial {\n",
       "  display: flex;\n",
       "  flex-direction: column;\n",
       "  align-items: center;\n",
       "  background-color: var(--sklearn-color-background);\n",
       "  padding-right: 1em;\n",
       "  padding-left: 1em;\n",
       "}\n",
       "\n",
       "\n",
       "/* Toggleable style: style used for estimator/Pipeline/ColumnTransformer box that is\n",
       "clickable and can be expanded/collapsed.\n",
       "- Pipeline and ColumnTransformer use this feature and define the default style\n",
       "- Estimators will overwrite some part of the style using the `sk-estimator` class\n",
       "*/\n",
       "\n",
       "/* Pipeline and ColumnTransformer style (default) */\n",
       "\n",
       "#sk-container-id-3 div.sk-toggleable {\n",
       "  /* Default theme specific background. It is overwritten whether we have a\n",
       "  specific estimator or a Pipeline/ColumnTransformer */\n",
       "  background-color: var(--sklearn-color-background);\n",
       "}\n",
       "\n",
       "/* Toggleable label */\n",
       "#sk-container-id-3 label.sk-toggleable__label {\n",
       "  cursor: pointer;\n",
       "  display: flex;\n",
       "  width: 100%;\n",
       "  margin-bottom: 0;\n",
       "  padding: 0.5em;\n",
       "  box-sizing: border-box;\n",
       "  text-align: center;\n",
       "  align-items: start;\n",
       "  justify-content: space-between;\n",
       "  gap: 0.5em;\n",
       "}\n",
       "\n",
       "#sk-container-id-3 label.sk-toggleable__label .caption {\n",
       "  font-size: 0.6rem;\n",
       "  font-weight: lighter;\n",
       "  color: var(--sklearn-color-text-muted);\n",
       "}\n",
       "\n",
       "#sk-container-id-3 label.sk-toggleable__label-arrow:before {\n",
       "  /* Arrow on the left of the label */\n",
       "  content: \"▸\";\n",
       "  float: left;\n",
       "  margin-right: 0.25em;\n",
       "  color: var(--sklearn-color-icon);\n",
       "}\n",
       "\n",
       "#sk-container-id-3 label.sk-toggleable__label-arrow:hover:before {\n",
       "  color: var(--sklearn-color-text);\n",
       "}\n",
       "\n",
       "/* Toggleable content - dropdown */\n",
       "\n",
       "#sk-container-id-3 div.sk-toggleable__content {\n",
       "  max-height: 0;\n",
       "  max-width: 0;\n",
       "  overflow: hidden;\n",
       "  text-align: left;\n",
       "  /* unfitted */\n",
       "  background-color: var(--sklearn-color-unfitted-level-0);\n",
       "}\n",
       "\n",
       "#sk-container-id-3 div.sk-toggleable__content.fitted {\n",
       "  /* fitted */\n",
       "  background-color: var(--sklearn-color-fitted-level-0);\n",
       "}\n",
       "\n",
       "#sk-container-id-3 div.sk-toggleable__content pre {\n",
       "  margin: 0.2em;\n",
       "  border-radius: 0.25em;\n",
       "  color: var(--sklearn-color-text);\n",
       "  /* unfitted */\n",
       "  background-color: var(--sklearn-color-unfitted-level-0);\n",
       "}\n",
       "\n",
       "#sk-container-id-3 div.sk-toggleable__content.fitted pre {\n",
       "  /* unfitted */\n",
       "  background-color: var(--sklearn-color-fitted-level-0);\n",
       "}\n",
       "\n",
       "#sk-container-id-3 input.sk-toggleable__control:checked~div.sk-toggleable__content {\n",
       "  /* Expand drop-down */\n",
       "  max-height: 200px;\n",
       "  max-width: 100%;\n",
       "  overflow: auto;\n",
       "}\n",
       "\n",
       "#sk-container-id-3 input.sk-toggleable__control:checked~label.sk-toggleable__label-arrow:before {\n",
       "  content: \"▾\";\n",
       "}\n",
       "\n",
       "/* Pipeline/ColumnTransformer-specific style */\n",
       "\n",
       "#sk-container-id-3 div.sk-label input.sk-toggleable__control:checked~label.sk-toggleable__label {\n",
       "  color: var(--sklearn-color-text);\n",
       "  background-color: var(--sklearn-color-unfitted-level-2);\n",
       "}\n",
       "\n",
       "#sk-container-id-3 div.sk-label.fitted input.sk-toggleable__control:checked~label.sk-toggleable__label {\n",
       "  background-color: var(--sklearn-color-fitted-level-2);\n",
       "}\n",
       "\n",
       "/* Estimator-specific style */\n",
       "\n",
       "/* Colorize estimator box */\n",
       "#sk-container-id-3 div.sk-estimator input.sk-toggleable__control:checked~label.sk-toggleable__label {\n",
       "  /* unfitted */\n",
       "  background-color: var(--sklearn-color-unfitted-level-2);\n",
       "}\n",
       "\n",
       "#sk-container-id-3 div.sk-estimator.fitted input.sk-toggleable__control:checked~label.sk-toggleable__label {\n",
       "  /* fitted */\n",
       "  background-color: var(--sklearn-color-fitted-level-2);\n",
       "}\n",
       "\n",
       "#sk-container-id-3 div.sk-label label.sk-toggleable__label,\n",
       "#sk-container-id-3 div.sk-label label {\n",
       "  /* The background is the default theme color */\n",
       "  color: var(--sklearn-color-text-on-default-background);\n",
       "}\n",
       "\n",
       "/* On hover, darken the color of the background */\n",
       "#sk-container-id-3 div.sk-label:hover label.sk-toggleable__label {\n",
       "  color: var(--sklearn-color-text);\n",
       "  background-color: var(--sklearn-color-unfitted-level-2);\n",
       "}\n",
       "\n",
       "/* Label box, darken color on hover, fitted */\n",
       "#sk-container-id-3 div.sk-label.fitted:hover label.sk-toggleable__label.fitted {\n",
       "  color: var(--sklearn-color-text);\n",
       "  background-color: var(--sklearn-color-fitted-level-2);\n",
       "}\n",
       "\n",
       "/* Estimator label */\n",
       "\n",
       "#sk-container-id-3 div.sk-label label {\n",
       "  font-family: monospace;\n",
       "  font-weight: bold;\n",
       "  display: inline-block;\n",
       "  line-height: 1.2em;\n",
       "}\n",
       "\n",
       "#sk-container-id-3 div.sk-label-container {\n",
       "  text-align: center;\n",
       "}\n",
       "\n",
       "/* Estimator-specific */\n",
       "#sk-container-id-3 div.sk-estimator {\n",
       "  font-family: monospace;\n",
       "  border: 1px dotted var(--sklearn-color-border-box);\n",
       "  border-radius: 0.25em;\n",
       "  box-sizing: border-box;\n",
       "  margin-bottom: 0.5em;\n",
       "  /* unfitted */\n",
       "  background-color: var(--sklearn-color-unfitted-level-0);\n",
       "}\n",
       "\n",
       "#sk-container-id-3 div.sk-estimator.fitted {\n",
       "  /* fitted */\n",
       "  background-color: var(--sklearn-color-fitted-level-0);\n",
       "}\n",
       "\n",
       "/* on hover */\n",
       "#sk-container-id-3 div.sk-estimator:hover {\n",
       "  /* unfitted */\n",
       "  background-color: var(--sklearn-color-unfitted-level-2);\n",
       "}\n",
       "\n",
       "#sk-container-id-3 div.sk-estimator.fitted:hover {\n",
       "  /* fitted */\n",
       "  background-color: var(--sklearn-color-fitted-level-2);\n",
       "}\n",
       "\n",
       "/* Specification for estimator info (e.g. \"i\" and \"?\") */\n",
       "\n",
       "/* Common style for \"i\" and \"?\" */\n",
       "\n",
       ".sk-estimator-doc-link,\n",
       "a:link.sk-estimator-doc-link,\n",
       "a:visited.sk-estimator-doc-link {\n",
       "  float: right;\n",
       "  font-size: smaller;\n",
       "  line-height: 1em;\n",
       "  font-family: monospace;\n",
       "  background-color: var(--sklearn-color-background);\n",
       "  border-radius: 1em;\n",
       "  height: 1em;\n",
       "  width: 1em;\n",
       "  text-decoration: none !important;\n",
       "  margin-left: 0.5em;\n",
       "  text-align: center;\n",
       "  /* unfitted */\n",
       "  border: var(--sklearn-color-unfitted-level-1) 1pt solid;\n",
       "  color: var(--sklearn-color-unfitted-level-1);\n",
       "}\n",
       "\n",
       ".sk-estimator-doc-link.fitted,\n",
       "a:link.sk-estimator-doc-link.fitted,\n",
       "a:visited.sk-estimator-doc-link.fitted {\n",
       "  /* fitted */\n",
       "  border: var(--sklearn-color-fitted-level-1) 1pt solid;\n",
       "  color: var(--sklearn-color-fitted-level-1);\n",
       "}\n",
       "\n",
       "/* On hover */\n",
       "div.sk-estimator:hover .sk-estimator-doc-link:hover,\n",
       ".sk-estimator-doc-link:hover,\n",
       "div.sk-label-container:hover .sk-estimator-doc-link:hover,\n",
       ".sk-estimator-doc-link:hover {\n",
       "  /* unfitted */\n",
       "  background-color: var(--sklearn-color-unfitted-level-3);\n",
       "  color: var(--sklearn-color-background);\n",
       "  text-decoration: none;\n",
       "}\n",
       "\n",
       "div.sk-estimator.fitted:hover .sk-estimator-doc-link.fitted:hover,\n",
       ".sk-estimator-doc-link.fitted:hover,\n",
       "div.sk-label-container:hover .sk-estimator-doc-link.fitted:hover,\n",
       ".sk-estimator-doc-link.fitted:hover {\n",
       "  /* fitted */\n",
       "  background-color: var(--sklearn-color-fitted-level-3);\n",
       "  color: var(--sklearn-color-background);\n",
       "  text-decoration: none;\n",
       "}\n",
       "\n",
       "/* Span, style for the box shown on hovering the info icon */\n",
       ".sk-estimator-doc-link span {\n",
       "  display: none;\n",
       "  z-index: 9999;\n",
       "  position: relative;\n",
       "  font-weight: normal;\n",
       "  right: .2ex;\n",
       "  padding: .5ex;\n",
       "  margin: .5ex;\n",
       "  width: min-content;\n",
       "  min-width: 20ex;\n",
       "  max-width: 50ex;\n",
       "  color: var(--sklearn-color-text);\n",
       "  box-shadow: 2pt 2pt 4pt #999;\n",
       "  /* unfitted */\n",
       "  background: var(--sklearn-color-unfitted-level-0);\n",
       "  border: .5pt solid var(--sklearn-color-unfitted-level-3);\n",
       "}\n",
       "\n",
       ".sk-estimator-doc-link.fitted span {\n",
       "  /* fitted */\n",
       "  background: var(--sklearn-color-fitted-level-0);\n",
       "  border: var(--sklearn-color-fitted-level-3);\n",
       "}\n",
       "\n",
       ".sk-estimator-doc-link:hover span {\n",
       "  display: block;\n",
       "}\n",
       "\n",
       "/* \"?\"-specific style due to the `<a>` HTML tag */\n",
       "\n",
       "#sk-container-id-3 a.estimator_doc_link {\n",
       "  float: right;\n",
       "  font-size: 1rem;\n",
       "  line-height: 1em;\n",
       "  font-family: monospace;\n",
       "  background-color: var(--sklearn-color-background);\n",
       "  border-radius: 1rem;\n",
       "  height: 1rem;\n",
       "  width: 1rem;\n",
       "  text-decoration: none;\n",
       "  /* unfitted */\n",
       "  color: var(--sklearn-color-unfitted-level-1);\n",
       "  border: var(--sklearn-color-unfitted-level-1) 1pt solid;\n",
       "}\n",
       "\n",
       "#sk-container-id-3 a.estimator_doc_link.fitted {\n",
       "  /* fitted */\n",
       "  border: var(--sklearn-color-fitted-level-1) 1pt solid;\n",
       "  color: var(--sklearn-color-fitted-level-1);\n",
       "}\n",
       "\n",
       "/* On hover */\n",
       "#sk-container-id-3 a.estimator_doc_link:hover {\n",
       "  /* unfitted */\n",
       "  background-color: var(--sklearn-color-unfitted-level-3);\n",
       "  color: var(--sklearn-color-background);\n",
       "  text-decoration: none;\n",
       "}\n",
       "\n",
       "#sk-container-id-3 a.estimator_doc_link.fitted:hover {\n",
       "  /* fitted */\n",
       "  background-color: var(--sklearn-color-fitted-level-3);\n",
       "}\n",
       "</style><div id=\"sk-container-id-3\" class=\"sk-top-container\"><div class=\"sk-text-repr-fallback\"><pre>RandomForestClassifier(max_features=2, n_estimators=232)</pre><b>In a Jupyter environment, please rerun this cell to show the HTML representation or trust the notebook. <br />On GitHub, the HTML representation is unable to render, please try loading this page with nbviewer.org.</b></div><div class=\"sk-container\" hidden><div class=\"sk-item\"><div class=\"sk-estimator  sk-toggleable\"><input class=\"sk-toggleable__control sk-hidden--visually\" id=\"sk-estimator-id-3\" type=\"checkbox\" checked><label for=\"sk-estimator-id-3\" class=\"sk-toggleable__label  sk-toggleable__label-arrow\"><div><div>RandomForestClassifier</div></div><div><a class=\"sk-estimator-doc-link \" rel=\"noreferrer\" target=\"_blank\" href=\"https://scikit-learn.org/1.6/modules/generated/sklearn.ensemble.RandomForestClassifier.html\">?<span>Documentation for RandomForestClassifier</span></a><span class=\"sk-estimator-doc-link \">i<span>Not fitted</span></span></div></label><div class=\"sk-toggleable__content \"><pre>RandomForestClassifier(max_features=2, n_estimators=232)</pre></div> </div></div></div></div>"
      ],
      "text/plain": [
       "RandomForestClassifier(max_features=2, n_estimators=232)"
      ]
     },
     "execution_count": 25,
     "metadata": {},
     "output_type": "execute_result"
    }
   ],
   "source": [
    "sklearn_model = mlflow.sklearn.load_model(logged_model)\n",
    "sklearn_model"
   ]
  },
  {
   "cell_type": "code",
   "execution_count": 26,
   "metadata": {},
   "outputs": [
    {
     "data": {
      "text/plain": [
       "array([0, 0, 2, 0, 0])"
      ]
     },
     "execution_count": 26,
     "metadata": {},
     "output_type": "execute_result"
    }
   ],
   "source": [
    "sklearn_model.fit(X_train, y_train)\n",
    "preds = sklearn_model.predict(X_test)\n",
    "preds[:5]"
   ]
  },
  {
   "attachments": {},
   "cell_type": "markdown",
   "metadata": {},
   "source": [
    "### Model Registry\n",
    "\n",
    "Typically, you will **register** your *chosen* model, the model you plan to put into production. But, sometimes, after you've chosen and registered a model, you may need to replace that model with a new version. For example, the model may have gone into production and started to degrade in performance, and so the model needed to be retrained. Or, you go to deploy your model and notice an error or bug, and now have to go back and retrain it.\n",
    "\n",
    "In this section let's see how we take our logged models and register them in the model registry, which then can get picked up by the production process, or engineer, for deployment. First, I'll demonstrate how this is done within the UI, but then below I'll show how we can use the python API to do the same thing."
   ]
  },
  {
   "cell_type": "code",
   "execution_count": 27,
   "metadata": {},
   "outputs": [
    {
     "name": "stderr",
     "output_type": "stream",
     "text": [
      "Successfully registered model 'wine_model_from_nb'.\n",
      "2025/04/16 22:42:01 INFO mlflow.store.model_registry.abstract_store: Waiting up to 300 seconds for model version to finish creation. Model name: wine_model_from_nb, version 1\n",
      "Created version '1' of model 'wine_model_from_nb'.\n"
     ]
    },
    {
     "data": {
      "text/plain": [
       "<ModelVersion: aliases=[], creation_timestamp=1744868521098, current_stage='None', description='', last_updated_timestamp=1744868521098, name='wine_model_from_nb', run_id='8db7a7ef284a47d0aef062afbaecabee', run_link='', source='mlflow-artifacts:/2/8db7a7ef284a47d0aef062afbaecabee/artifacts/artifacts/better_models', status='READY', status_message='', tags={}, user_id='', version='1'>"
      ]
     },
     "execution_count": 27,
     "metadata": {},
     "output_type": "execute_result"
    }
   ],
   "source": [
    "runid = '8db7a7ef284a47d0aef062afbaecabee'\n",
    "mod_path = f'runs:/{runid}/artifacts/better_models'\n",
    "mlflow.register_model(model_uri = mod_path, name = 'wine_model_from_nb')"
   ]
  },
  {
   "attachments": {},
   "cell_type": "markdown",
   "metadata": {},
   "source": [
    "## Common Issues\n",
    "\n",
    "- Nothing is appearing in the MLFlow UI: make sure you start the UI from the directory where your notebook is running.  \n",
    "- I installed a library, but I'm getting an error loading it: be sure you installed it in the same environment as where your notebook is running.  \n",
    "- MLFlow doesn't seem to be working at all, I'm just getting errors all over the place: this might be a versioning issue.  \n",
    "- The UI broke, I can't get back to it: `sudo lsof -i :5000 | awk '{print $2}' | tail -n +2 | xargs kill`\n"
   ]
  },
  {
   "attachments": {},
   "cell_type": "markdown",
   "metadata": {},
   "source": [
    "\n",
    "# Experiment Tracking and Model Registry Lab\n",
    "\n",
    "## Overview\n",
    "\n",
    "In this lab you will each download a new dataset and attempt to train a good model, and use mlflow to keep track of all of your experiments, log your metrics, artifacts and models, and then register a final set of models for \"deployment\", though we won't actually deploy them anywhere yet.\n",
    "\n",
    "## Goal\n",
    "\n",
    "Your goal is **not** to become a master at MLFlow - this is not a course on learning all of the ins and outs of MLFlow. Instead, your goal is to understand when and why it is important to track your model development process (tracking experiments, artifacts and models) and to get into the habit of doing so, and then learn at least the basics of how MLFlow helps you do this so that you can then compare with other tools that are available.\n",
    "\n",
    "## Data\n",
    "\n",
    "You can choose your own dataset to use here. It will be helpful to choose a dataset that is already fairly clean and easy to work with. You can even use a dataset that you've used in a previous course. We will do a lot of labs where we do different things with datasets, so if you can find one that is interesting enough for modeling, it should work for most of the rest of the course. \n",
    "\n",
    "There are tons of places where you can find open public datasets. Choose something that interests you, but don't overthink it.\n",
    "\n",
    "[Kaggle Datasets](https://www.kaggle.com/datasets)  \n",
    "[HuggingFace Datasets](https://huggingface.co/docs/datasets/index)  \n",
    "[Dagshub Datasets](https://dagshub.com/datasets/)  \n",
    "[UCI](https://archive.ics.uci.edu/ml/datasets.php)  \n",
    "[Open Data on AWS](https://registry.opendata.aws/)  \n",
    "[Yelp](https://www.yelp.com/dataset)  \n",
    "[MovieLens](https://grouplens.org/datasets/movielens/)  \n",
    "And so many more...\n",
    "\n",
    "## Instructions\n",
    "\n",
    "Once you have selected a set of data, create a brand new experiment in MLFlow and begin exploring your data. Do some EDA, clean up, and learn about your data. You do not need to begin tracking anything yet, but you can if you want to (e.g. you can log different versions of your data as you clean it up and do any feature engineering). Do not spend a ton of time on this part. Your goal isn't really to build a great model, so don't spend hours on feature engineering and missing data imputation and things like that.\n",
    "\n",
    "Once your data is clean, begin training models and tracking your experiments. If you intend to use this same dataset for your final project, then start thinking about what your model might look like when you actually deploy it. For example, when you engineer new features, be sure to save the code that does this, as you will need this in the future. If your final model has 1000 complex features, you might have a difficult time deploying it later on. If your final model takes 15 minutes to train, or takes a long time to score a new batch of data, you may want to think about training a less complex model.\n",
    "\n",
    "Now, when tracking your experiments, at a *minimum*, you should:\n",
    "\n",
    "1. Try at least 3 different ML algorithms (e.g. linear regression, decision tree, random forest, etc.).\n",
    "2. Do hyperparameter tuning for **each** algorithm.\n",
    "3. Do some very basic feature selection, and repeat the above steps with these reduced sets of features.\n",
    "4. Identify the top 3 best models and note these down for later.\n",
    "6. Choose the **final** \"best\" model that you would deploy or use on future data, stage it (in MLFlow), and run it on the test set to get a final measure of performance. Don't forget to log the test set metric.\n",
    "7. Be sure you logged the exact training, validation, and testing datasets for the 3 best models, as well as hyperparameter values, and the values of your metrics.  \n",
    "8. Push your code to Github. No need to track the mlruns folder, the images folder, any datasets, or the sqlite database in git.\n",
    "\n",
    "### Turning It In\n",
    "\n",
    "In the MLFlow UI, next to the refresh button you should see three vertical dots. Click the dots and then download your experiments as a csv file. Open the csv file in Excel and highlight the rows for your top 3 models from step 4, highlight the run where you applied your best model to the test set, and then save as an excel file. Take a snapshot of the Models page in the MLFLow UI showing the model you staged in step 6 above. Submit the excel file and the snapshot to Canvas."
   ]
  },
  {
   "cell_type": "markdown",
   "metadata": {},
   "source": [
    "### Load Data"
   ]
  },
  {
   "cell_type": "code",
   "execution_count": 30,
   "metadata": {},
   "outputs": [
    {
     "data": {
      "text/html": [
       "<div>\n",
       "<style scoped>\n",
       "    .dataframe tbody tr th:only-of-type {\n",
       "        vertical-align: middle;\n",
       "    }\n",
       "\n",
       "    .dataframe tbody tr th {\n",
       "        vertical-align: top;\n",
       "    }\n",
       "\n",
       "    .dataframe thead th {\n",
       "        text-align: right;\n",
       "    }\n",
       "</style>\n",
       "<table border=\"1\" class=\"dataframe\">\n",
       "  <thead>\n",
       "    <tr style=\"text-align: right;\">\n",
       "      <th></th>\n",
       "      <th>Country</th>\n",
       "      <th>Year</th>\n",
       "      <th>Happiness_Score</th>\n",
       "      <th>GDP_per_Capita</th>\n",
       "      <th>Social_Support</th>\n",
       "      <th>Healthy_Life_Expectancy</th>\n",
       "      <th>Freedom</th>\n",
       "      <th>Generosity</th>\n",
       "      <th>Corruption_Perception</th>\n",
       "      <th>Unemployment_Rate</th>\n",
       "      <th>...</th>\n",
       "      <th>Public_Trust</th>\n",
       "      <th>Mental_Health_Index</th>\n",
       "      <th>Income_Inequality</th>\n",
       "      <th>Public_Health_Expenditure</th>\n",
       "      <th>Climate_Index</th>\n",
       "      <th>Work_Life_Balance</th>\n",
       "      <th>Internet_Access</th>\n",
       "      <th>Crime_Rate</th>\n",
       "      <th>Political_Stability</th>\n",
       "      <th>Employment_Rate</th>\n",
       "    </tr>\n",
       "  </thead>\n",
       "  <tbody>\n",
       "    <tr>\n",
       "      <th>0</th>\n",
       "      <td>China</td>\n",
       "      <td>2022</td>\n",
       "      <td>4.39</td>\n",
       "      <td>44984.68</td>\n",
       "      <td>0.53</td>\n",
       "      <td>71.11</td>\n",
       "      <td>0.41</td>\n",
       "      <td>-0.05</td>\n",
       "      <td>0.83</td>\n",
       "      <td>14.98</td>\n",
       "      <td>...</td>\n",
       "      <td>0.34</td>\n",
       "      <td>76.44</td>\n",
       "      <td>46.06</td>\n",
       "      <td>8.92</td>\n",
       "      <td>62.75</td>\n",
       "      <td>8.59</td>\n",
       "      <td>74.40</td>\n",
       "      <td>70.30</td>\n",
       "      <td>0.29</td>\n",
       "      <td>61.38</td>\n",
       "    </tr>\n",
       "    <tr>\n",
       "      <th>1</th>\n",
       "      <td>UK</td>\n",
       "      <td>2015</td>\n",
       "      <td>5.49</td>\n",
       "      <td>30814.59</td>\n",
       "      <td>0.93</td>\n",
       "      <td>63.14</td>\n",
       "      <td>0.89</td>\n",
       "      <td>0.04</td>\n",
       "      <td>0.84</td>\n",
       "      <td>19.46</td>\n",
       "      <td>...</td>\n",
       "      <td>0.72</td>\n",
       "      <td>53.38</td>\n",
       "      <td>46.43</td>\n",
       "      <td>4.43</td>\n",
       "      <td>53.11</td>\n",
       "      <td>8.76</td>\n",
       "      <td>91.74</td>\n",
       "      <td>73.32</td>\n",
       "      <td>0.76</td>\n",
       "      <td>80.18</td>\n",
       "    </tr>\n",
       "    <tr>\n",
       "      <th>2</th>\n",
       "      <td>Brazil</td>\n",
       "      <td>2009</td>\n",
       "      <td>4.65</td>\n",
       "      <td>39214.84</td>\n",
       "      <td>0.03</td>\n",
       "      <td>62.36</td>\n",
       "      <td>0.01</td>\n",
       "      <td>0.16</td>\n",
       "      <td>0.59</td>\n",
       "      <td>16.68</td>\n",
       "      <td>...</td>\n",
       "      <td>0.23</td>\n",
       "      <td>82.40</td>\n",
       "      <td>31.03</td>\n",
       "      <td>3.78</td>\n",
       "      <td>33.30</td>\n",
       "      <td>6.06</td>\n",
       "      <td>71.80</td>\n",
       "      <td>28.99</td>\n",
       "      <td>0.94</td>\n",
       "      <td>72.65</td>\n",
       "    </tr>\n",
       "    <tr>\n",
       "      <th>3</th>\n",
       "      <td>France</td>\n",
       "      <td>2019</td>\n",
       "      <td>5.20</td>\n",
       "      <td>30655.75</td>\n",
       "      <td>0.77</td>\n",
       "      <td>78.94</td>\n",
       "      <td>0.98</td>\n",
       "      <td>0.25</td>\n",
       "      <td>0.63</td>\n",
       "      <td>2.64</td>\n",
       "      <td>...</td>\n",
       "      <td>0.68</td>\n",
       "      <td>46.87</td>\n",
       "      <td>57.65</td>\n",
       "      <td>4.43</td>\n",
       "      <td>90.59</td>\n",
       "      <td>6.36</td>\n",
       "      <td>86.16</td>\n",
       "      <td>45.76</td>\n",
       "      <td>0.48</td>\n",
       "      <td>55.14</td>\n",
       "    </tr>\n",
       "    <tr>\n",
       "      <th>4</th>\n",
       "      <td>China</td>\n",
       "      <td>2022</td>\n",
       "      <td>7.28</td>\n",
       "      <td>30016.87</td>\n",
       "      <td>0.05</td>\n",
       "      <td>50.33</td>\n",
       "      <td>0.62</td>\n",
       "      <td>0.18</td>\n",
       "      <td>0.92</td>\n",
       "      <td>7.70</td>\n",
       "      <td>...</td>\n",
       "      <td>0.50</td>\n",
       "      <td>60.38</td>\n",
       "      <td>28.54</td>\n",
       "      <td>7.66</td>\n",
       "      <td>59.33</td>\n",
       "      <td>3.00</td>\n",
       "      <td>71.10</td>\n",
       "      <td>65.67</td>\n",
       "      <td>0.12</td>\n",
       "      <td>51.55</td>\n",
       "    </tr>\n",
       "    <tr>\n",
       "      <th>...</th>\n",
       "      <td>...</td>\n",
       "      <td>...</td>\n",
       "      <td>...</td>\n",
       "      <td>...</td>\n",
       "      <td>...</td>\n",
       "      <td>...</td>\n",
       "      <td>...</td>\n",
       "      <td>...</td>\n",
       "      <td>...</td>\n",
       "      <td>...</td>\n",
       "      <td>...</td>\n",
       "      <td>...</td>\n",
       "      <td>...</td>\n",
       "      <td>...</td>\n",
       "      <td>...</td>\n",
       "      <td>...</td>\n",
       "      <td>...</td>\n",
       "      <td>...</td>\n",
       "      <td>...</td>\n",
       "      <td>...</td>\n",
       "      <td>...</td>\n",
       "    </tr>\n",
       "    <tr>\n",
       "      <th>3995</th>\n",
       "      <td>South Africa</td>\n",
       "      <td>2005</td>\n",
       "      <td>7.43</td>\n",
       "      <td>1504.73</td>\n",
       "      <td>0.17</td>\n",
       "      <td>50.20</td>\n",
       "      <td>0.99</td>\n",
       "      <td>0.27</td>\n",
       "      <td>0.69</td>\n",
       "      <td>2.16</td>\n",
       "      <td>...</td>\n",
       "      <td>0.96</td>\n",
       "      <td>83.55</td>\n",
       "      <td>25.65</td>\n",
       "      <td>6.69</td>\n",
       "      <td>66.67</td>\n",
       "      <td>8.18</td>\n",
       "      <td>91.14</td>\n",
       "      <td>28.88</td>\n",
       "      <td>0.07</td>\n",
       "      <td>85.95</td>\n",
       "    </tr>\n",
       "    <tr>\n",
       "      <th>3996</th>\n",
       "      <td>India</td>\n",
       "      <td>2018</td>\n",
       "      <td>5.71</td>\n",
       "      <td>50182.85</td>\n",
       "      <td>0.96</td>\n",
       "      <td>67.67</td>\n",
       "      <td>0.84</td>\n",
       "      <td>0.43</td>\n",
       "      <td>0.88</td>\n",
       "      <td>7.19</td>\n",
       "      <td>...</td>\n",
       "      <td>0.70</td>\n",
       "      <td>89.03</td>\n",
       "      <td>41.70</td>\n",
       "      <td>9.57</td>\n",
       "      <td>82.84</td>\n",
       "      <td>8.42</td>\n",
       "      <td>83.05</td>\n",
       "      <td>55.50</td>\n",
       "      <td>0.74</td>\n",
       "      <td>91.96</td>\n",
       "    </tr>\n",
       "    <tr>\n",
       "      <th>3997</th>\n",
       "      <td>South Africa</td>\n",
       "      <td>2021</td>\n",
       "      <td>6.23</td>\n",
       "      <td>6158.53</td>\n",
       "      <td>0.22</td>\n",
       "      <td>67.08</td>\n",
       "      <td>0.42</td>\n",
       "      <td>0.19</td>\n",
       "      <td>0.10</td>\n",
       "      <td>2.25</td>\n",
       "      <td>...</td>\n",
       "      <td>0.59</td>\n",
       "      <td>67.74</td>\n",
       "      <td>24.58</td>\n",
       "      <td>8.02</td>\n",
       "      <td>81.29</td>\n",
       "      <td>6.97</td>\n",
       "      <td>72.08</td>\n",
       "      <td>61.16</td>\n",
       "      <td>0.29</td>\n",
       "      <td>89.19</td>\n",
       "    </tr>\n",
       "    <tr>\n",
       "      <th>3998</th>\n",
       "      <td>Brazil</td>\n",
       "      <td>2014</td>\n",
       "      <td>5.73</td>\n",
       "      <td>38214.54</td>\n",
       "      <td>0.46</td>\n",
       "      <td>55.72</td>\n",
       "      <td>0.74</td>\n",
       "      <td>0.28</td>\n",
       "      <td>0.46</td>\n",
       "      <td>8.74</td>\n",
       "      <td>...</td>\n",
       "      <td>0.21</td>\n",
       "      <td>62.73</td>\n",
       "      <td>56.21</td>\n",
       "      <td>5.60</td>\n",
       "      <td>30.44</td>\n",
       "      <td>4.67</td>\n",
       "      <td>87.21</td>\n",
       "      <td>49.50</td>\n",
       "      <td>0.11</td>\n",
       "      <td>85.44</td>\n",
       "    </tr>\n",
       "    <tr>\n",
       "      <th>3999</th>\n",
       "      <td>UK</td>\n",
       "      <td>2016</td>\n",
       "      <td>3.26</td>\n",
       "      <td>30740.42</td>\n",
       "      <td>0.11</td>\n",
       "      <td>67.31</td>\n",
       "      <td>0.67</td>\n",
       "      <td>0.23</td>\n",
       "      <td>0.23</td>\n",
       "      <td>3.13</td>\n",
       "      <td>...</td>\n",
       "      <td>0.15</td>\n",
       "      <td>77.93</td>\n",
       "      <td>29.20</td>\n",
       "      <td>8.23</td>\n",
       "      <td>49.73</td>\n",
       "      <td>4.30</td>\n",
       "      <td>92.22</td>\n",
       "      <td>56.39</td>\n",
       "      <td>0.10</td>\n",
       "      <td>51.85</td>\n",
       "    </tr>\n",
       "  </tbody>\n",
       "</table>\n",
       "<p>4000 rows × 24 columns</p>\n",
       "</div>"
      ],
      "text/plain": [
       "           Country  Year  Happiness_Score  GDP_per_Capita  Social_Support  \\\n",
       "0            China  2022             4.39        44984.68            0.53   \n",
       "1               UK  2015             5.49        30814.59            0.93   \n",
       "2           Brazil  2009             4.65        39214.84            0.03   \n",
       "3           France  2019             5.20        30655.75            0.77   \n",
       "4            China  2022             7.28        30016.87            0.05   \n",
       "...            ...   ...              ...             ...             ...   \n",
       "3995  South Africa  2005             7.43         1504.73            0.17   \n",
       "3996         India  2018             5.71        50182.85            0.96   \n",
       "3997  South Africa  2021             6.23         6158.53            0.22   \n",
       "3998        Brazil  2014             5.73        38214.54            0.46   \n",
       "3999            UK  2016             3.26        30740.42            0.11   \n",
       "\n",
       "      Healthy_Life_Expectancy  Freedom  Generosity  Corruption_Perception  \\\n",
       "0                       71.11     0.41       -0.05                   0.83   \n",
       "1                       63.14     0.89        0.04                   0.84   \n",
       "2                       62.36     0.01        0.16                   0.59   \n",
       "3                       78.94     0.98        0.25                   0.63   \n",
       "4                       50.33     0.62        0.18                   0.92   \n",
       "...                       ...      ...         ...                    ...   \n",
       "3995                    50.20     0.99        0.27                   0.69   \n",
       "3996                    67.67     0.84        0.43                   0.88   \n",
       "3997                    67.08     0.42        0.19                   0.10   \n",
       "3998                    55.72     0.74        0.28                   0.46   \n",
       "3999                    67.31     0.67        0.23                   0.23   \n",
       "\n",
       "      Unemployment_Rate  ...  Public_Trust  Mental_Health_Index  \\\n",
       "0                 14.98  ...          0.34                76.44   \n",
       "1                 19.46  ...          0.72                53.38   \n",
       "2                 16.68  ...          0.23                82.40   \n",
       "3                  2.64  ...          0.68                46.87   \n",
       "4                  7.70  ...          0.50                60.38   \n",
       "...                 ...  ...           ...                  ...   \n",
       "3995               2.16  ...          0.96                83.55   \n",
       "3996               7.19  ...          0.70                89.03   \n",
       "3997               2.25  ...          0.59                67.74   \n",
       "3998               8.74  ...          0.21                62.73   \n",
       "3999               3.13  ...          0.15                77.93   \n",
       "\n",
       "      Income_Inequality  Public_Health_Expenditure  Climate_Index  \\\n",
       "0                 46.06                       8.92          62.75   \n",
       "1                 46.43                       4.43          53.11   \n",
       "2                 31.03                       3.78          33.30   \n",
       "3                 57.65                       4.43          90.59   \n",
       "4                 28.54                       7.66          59.33   \n",
       "...                 ...                        ...            ...   \n",
       "3995              25.65                       6.69          66.67   \n",
       "3996              41.70                       9.57          82.84   \n",
       "3997              24.58                       8.02          81.29   \n",
       "3998              56.21                       5.60          30.44   \n",
       "3999              29.20                       8.23          49.73   \n",
       "\n",
       "      Work_Life_Balance  Internet_Access  Crime_Rate  Political_Stability  \\\n",
       "0                  8.59            74.40       70.30                 0.29   \n",
       "1                  8.76            91.74       73.32                 0.76   \n",
       "2                  6.06            71.80       28.99                 0.94   \n",
       "3                  6.36            86.16       45.76                 0.48   \n",
       "4                  3.00            71.10       65.67                 0.12   \n",
       "...                 ...              ...         ...                  ...   \n",
       "3995               8.18            91.14       28.88                 0.07   \n",
       "3996               8.42            83.05       55.50                 0.74   \n",
       "3997               6.97            72.08       61.16                 0.29   \n",
       "3998               4.67            87.21       49.50                 0.11   \n",
       "3999               4.30            92.22       56.39                 0.10   \n",
       "\n",
       "      Employment_Rate  \n",
       "0               61.38  \n",
       "1               80.18  \n",
       "2               72.65  \n",
       "3               55.14  \n",
       "4               51.55  \n",
       "...               ...  \n",
       "3995            85.95  \n",
       "3996            91.96  \n",
       "3997            89.19  \n",
       "3998            85.44  \n",
       "3999            51.85  \n",
       "\n",
       "[4000 rows x 24 columns]"
      ]
     },
     "execution_count": 30,
     "metadata": {},
     "output_type": "execute_result"
    }
   ],
   "source": [
    "happy = pd.read_csv(\"../../data/world_happy_report.csv\")\n",
    "happy"
   ]
  },
  {
   "cell_type": "markdown",
   "metadata": {},
   "source": [
    "### Check for missing values"
   ]
  },
  {
   "cell_type": "code",
   "execution_count": 31,
   "metadata": {},
   "outputs": [
    {
     "data": {
      "text/plain": [
       "Country                      0\n",
       "Year                         0\n",
       "Happiness_Score              0\n",
       "GDP_per_Capita               0\n",
       "Social_Support               0\n",
       "Healthy_Life_Expectancy      0\n",
       "Freedom                      0\n",
       "Generosity                   0\n",
       "Corruption_Perception        0\n",
       "Unemployment_Rate            0\n",
       "Education_Index              0\n",
       "Population                   0\n",
       "Urbanization_Rate            0\n",
       "Life_Satisfaction            0\n",
       "Public_Trust                 0\n",
       "Mental_Health_Index          0\n",
       "Income_Inequality            0\n",
       "Public_Health_Expenditure    0\n",
       "Climate_Index                0\n",
       "Work_Life_Balance            0\n",
       "Internet_Access              0\n",
       "Crime_Rate                   0\n",
       "Political_Stability          0\n",
       "Employment_Rate              0\n",
       "dtype: int64"
      ]
     },
     "execution_count": 31,
     "metadata": {},
     "output_type": "execute_result"
    }
   ],
   "source": [
    "happy.isnull().sum()"
   ]
  },
  {
   "cell_type": "markdown",
   "metadata": {},
   "source": [
    "### Quick EDA"
   ]
  },
  {
   "cell_type": "code",
   "execution_count": 32,
   "metadata": {},
   "outputs": [],
   "source": [
    "import matplotlib.pyplot as plt\n",
    "import seaborn as sns\n",
    "import numpy as np\n",
    "from sklearn.model_selection import train_test_split, RandomizedSearchCV\n",
    "from sklearn.metrics import mean_squared_error, r2_score\n",
    "from sklearn.ensemble import RandomForestRegressor\n",
    "from sklearn.tree import DecisionTreeRegressor\n",
    "from sklearn.linear_model import Ridge"
   ]
  },
  {
   "cell_type": "code",
   "execution_count": 33,
   "metadata": {},
   "outputs": [
    {
     "data": {
      "image/png": "[encoded data removed]",
      "text/plain": [
       "<Figure size 800x600 with 1 Axes>"
      ]
     },
     "metadata": {},
     "output_type": "display_data"
    }
   ],
   "source": [
    "plt.figure(figsize=(8, 6))\n",
    "sns.histplot(happy['Happiness_Score'], bins=20, kde=True, color='skyblue')\n",
    "plt.title('Distribution of Happiness Score')\n",
    "plt.xlabel('Happiness Score')\n",
    "plt.ylabel('Frequency')\n",
    "plt.show()"
   ]
  },
  {
   "cell_type": "code",
   "execution_count": 34,
   "metadata": {},
   "outputs": [
    {
     "name": "stderr",
     "output_type": "stream",
     "text": [
      "/var/folders/4j/qc5rchd124l5cjd8p3gd4pl00000gn/T/ipykernel_74502/1798208056.py:2: FutureWarning: \n",
      "\n",
      "Passing `palette` without assigning `hue` is deprecated and will be removed in v0.14.0. Assign the `x` variable to `hue` and set `legend=False` for the same effect.\n",
      "\n",
      "  sns.boxplot(data=happy, x='Country', y='Happiness_Score', palette='viridis')\n"
     ]
    },
    {
     "data": {
      "image/png": "[encoded data removed]",
      "text/plain": [
       "<Figure size 1000x600 with 1 Axes>"
      ]
     },
     "metadata": {},
     "output_type": "display_data"
    }
   ],
   "source": [
    "plt.figure(figsize=(10, 6))\n",
    "sns.boxplot(data=happy, x='Country', y='Happiness_Score', palette='viridis')\n",
    "plt.title('Happiness Score by Country')\n",
    "plt.xticks(rotation=45)\n",
    "plt.show()"
   ]
  },
  {
   "cell_type": "code",
   "execution_count": 35,
   "metadata": {},
   "outputs": [
    {
     "data": {
      "text/html": [
       "<div>\n",
       "<style scoped>\n",
       "    .dataframe tbody tr th:only-of-type {\n",
       "        vertical-align: middle;\n",
       "    }\n",
       "\n",
       "    .dataframe tbody tr th {\n",
       "        vertical-align: top;\n",
       "    }\n",
       "\n",
       "    .dataframe thead th {\n",
       "        text-align: right;\n",
       "    }\n",
       "</style>\n",
       "<table border=\"1\" class=\"dataframe\">\n",
       "  <thead>\n",
       "    <tr style=\"text-align: right;\">\n",
       "      <th></th>\n",
       "      <th>Year</th>\n",
       "      <th>Happiness_Score</th>\n",
       "      <th>GDP_per_Capita</th>\n",
       "      <th>Social_Support</th>\n",
       "      <th>Healthy_Life_Expectancy</th>\n",
       "      <th>Freedom</th>\n",
       "      <th>Generosity</th>\n",
       "      <th>Corruption_Perception</th>\n",
       "      <th>Unemployment_Rate</th>\n",
       "      <th>Education_Index</th>\n",
       "      <th>...</th>\n",
       "      <th>Public_Trust</th>\n",
       "      <th>Mental_Health_Index</th>\n",
       "      <th>Income_Inequality</th>\n",
       "      <th>Public_Health_Expenditure</th>\n",
       "      <th>Climate_Index</th>\n",
       "      <th>Work_Life_Balance</th>\n",
       "      <th>Internet_Access</th>\n",
       "      <th>Crime_Rate</th>\n",
       "      <th>Political_Stability</th>\n",
       "      <th>Employment_Rate</th>\n",
       "    </tr>\n",
       "  </thead>\n",
       "  <tbody>\n",
       "    <tr>\n",
       "      <th>count</th>\n",
       "      <td>4000.000000</td>\n",
       "      <td>4000.000000</td>\n",
       "      <td>4000.000000</td>\n",
       "      <td>4000.000000</td>\n",
       "      <td>4000.000000</td>\n",
       "      <td>4000.000000</td>\n",
       "      <td>4000.000000</td>\n",
       "      <td>4000.000000</td>\n",
       "      <td>4000.000000</td>\n",
       "      <td>4000.000000</td>\n",
       "      <td>...</td>\n",
       "      <td>4000.000000</td>\n",
       "      <td>4000.000000</td>\n",
       "      <td>4000.000000</td>\n",
       "      <td>4000.000000</td>\n",
       "      <td>4000.000000</td>\n",
       "      <td>4000.000000</td>\n",
       "      <td>4000.000000</td>\n",
       "      <td>4000.000000</td>\n",
       "      <td>4000.000000</td>\n",
       "      <td>4000.000000</td>\n",
       "    </tr>\n",
       "    <tr>\n",
       "      <th>mean</th>\n",
       "      <td>2014.670750</td>\n",
       "      <td>5.455005</td>\n",
       "      <td>30482.009953</td>\n",
       "      <td>0.505860</td>\n",
       "      <td>67.917605</td>\n",
       "      <td>0.502723</td>\n",
       "      <td>0.143960</td>\n",
       "      <td>0.498920</td>\n",
       "      <td>10.966748</td>\n",
       "      <td>0.750385</td>\n",
       "      <td>...</td>\n",
       "      <td>0.502812</td>\n",
       "      <td>69.976853</td>\n",
       "      <td>40.002648</td>\n",
       "      <td>6.009270</td>\n",
       "      <td>65.176380</td>\n",
       "      <td>5.987325</td>\n",
       "      <td>67.586327</td>\n",
       "      <td>45.526322</td>\n",
       "      <td>0.494105</td>\n",
       "      <td>74.021450</td>\n",
       "    </tr>\n",
       "    <tr>\n",
       "      <th>std</th>\n",
       "      <td>5.724075</td>\n",
       "      <td>1.427370</td>\n",
       "      <td>17216.122032</td>\n",
       "      <td>0.286202</td>\n",
       "      <td>10.172091</td>\n",
       "      <td>0.285219</td>\n",
       "      <td>0.200088</td>\n",
       "      <td>0.288866</td>\n",
       "      <td>5.210712</td>\n",
       "      <td>0.144819</td>\n",
       "      <td>...</td>\n",
       "      <td>0.289186</td>\n",
       "      <td>17.128536</td>\n",
       "      <td>11.634987</td>\n",
       "      <td>2.291172</td>\n",
       "      <td>19.981357</td>\n",
       "      <td>1.725363</td>\n",
       "      <td>15.769023</td>\n",
       "      <td>20.300069</td>\n",
       "      <td>0.293191</td>\n",
       "      <td>13.906888</td>\n",
       "    </tr>\n",
       "    <tr>\n",
       "      <th>min</th>\n",
       "      <td>2005.000000</td>\n",
       "      <td>3.000000</td>\n",
       "      <td>1009.310000</td>\n",
       "      <td>0.000000</td>\n",
       "      <td>50.000000</td>\n",
       "      <td>0.000000</td>\n",
       "      <td>-0.200000</td>\n",
       "      <td>0.000000</td>\n",
       "      <td>2.000000</td>\n",
       "      <td>0.500000</td>\n",
       "      <td>...</td>\n",
       "      <td>0.000000</td>\n",
       "      <td>40.000000</td>\n",
       "      <td>20.010000</td>\n",
       "      <td>2.010000</td>\n",
       "      <td>30.010000</td>\n",
       "      <td>3.000000</td>\n",
       "      <td>40.010000</td>\n",
       "      <td>10.030000</td>\n",
       "      <td>0.000000</td>\n",
       "      <td>50.000000</td>\n",
       "    </tr>\n",
       "    <tr>\n",
       "      <th>25%</th>\n",
       "      <td>2010.000000</td>\n",
       "      <td>4.237500</td>\n",
       "      <td>15425.125000</td>\n",
       "      <td>0.260000</td>\n",
       "      <td>59.177500</td>\n",
       "      <td>0.260000</td>\n",
       "      <td>-0.030000</td>\n",
       "      <td>0.240000</td>\n",
       "      <td>6.450000</td>\n",
       "      <td>0.630000</td>\n",
       "      <td>...</td>\n",
       "      <td>0.260000</td>\n",
       "      <td>55.580000</td>\n",
       "      <td>29.865000</td>\n",
       "      <td>4.040000</td>\n",
       "      <td>48.170000</td>\n",
       "      <td>4.460000</td>\n",
       "      <td>53.910000</td>\n",
       "      <td>27.840000</td>\n",
       "      <td>0.230000</td>\n",
       "      <td>61.867500</td>\n",
       "    </tr>\n",
       "    <tr>\n",
       "      <th>50%</th>\n",
       "      <td>2015.000000</td>\n",
       "      <td>5.430000</td>\n",
       "      <td>29991.255000</td>\n",
       "      <td>0.510000</td>\n",
       "      <td>68.015000</td>\n",
       "      <td>0.500000</td>\n",
       "      <td>0.140000</td>\n",
       "      <td>0.500000</td>\n",
       "      <td>10.995000</td>\n",
       "      <td>0.750000</td>\n",
       "      <td>...</td>\n",
       "      <td>0.500000</td>\n",
       "      <td>69.650000</td>\n",
       "      <td>40.015000</td>\n",
       "      <td>6.070000</td>\n",
       "      <td>64.755000</td>\n",
       "      <td>6.020000</td>\n",
       "      <td>68.015000</td>\n",
       "      <td>45.760000</td>\n",
       "      <td>0.490000</td>\n",
       "      <td>74.475000</td>\n",
       "    </tr>\n",
       "    <tr>\n",
       "      <th>75%</th>\n",
       "      <td>2020.000000</td>\n",
       "      <td>6.662500</td>\n",
       "      <td>45763.085000</td>\n",
       "      <td>0.750000</td>\n",
       "      <td>76.690000</td>\n",
       "      <td>0.750000</td>\n",
       "      <td>0.310000</td>\n",
       "      <td>0.742500</td>\n",
       "      <td>15.450000</td>\n",
       "      <td>0.880000</td>\n",
       "      <td>...</td>\n",
       "      <td>0.760000</td>\n",
       "      <td>84.582500</td>\n",
       "      <td>50.187500</td>\n",
       "      <td>8.010000</td>\n",
       "      <td>82.652500</td>\n",
       "      <td>7.490000</td>\n",
       "      <td>81.332500</td>\n",
       "      <td>63.197500</td>\n",
       "      <td>0.760000</td>\n",
       "      <td>85.912500</td>\n",
       "    </tr>\n",
       "    <tr>\n",
       "      <th>max</th>\n",
       "      <td>2024.000000</td>\n",
       "      <td>8.000000</td>\n",
       "      <td>59980.720000</td>\n",
       "      <td>1.000000</td>\n",
       "      <td>85.000000</td>\n",
       "      <td>1.000000</td>\n",
       "      <td>0.500000</td>\n",
       "      <td>1.000000</td>\n",
       "      <td>19.990000</td>\n",
       "      <td>1.000000</td>\n",
       "      <td>...</td>\n",
       "      <td>1.000000</td>\n",
       "      <td>100.000000</td>\n",
       "      <td>59.970000</td>\n",
       "      <td>10.000000</td>\n",
       "      <td>99.990000</td>\n",
       "      <td>9.000000</td>\n",
       "      <td>94.990000</td>\n",
       "      <td>79.990000</td>\n",
       "      <td>1.000000</td>\n",
       "      <td>98.000000</td>\n",
       "    </tr>\n",
       "  </tbody>\n",
       "</table>\n",
       "<p>8 rows × 23 columns</p>\n",
       "</div>"
      ],
      "text/plain": [
       "              Year  Happiness_Score  GDP_per_Capita  Social_Support  \\\n",
       "count  4000.000000      4000.000000     4000.000000     4000.000000   \n",
       "mean   2014.670750         5.455005    30482.009953        0.505860   \n",
       "std       5.724075         1.427370    17216.122032        0.286202   \n",
       "min    2005.000000         3.000000     1009.310000        0.000000   \n",
       "25%    2010.000000         4.237500    15425.125000        0.260000   \n",
       "50%    2015.000000         5.430000    29991.255000        0.510000   \n",
       "75%    2020.000000         6.662500    45763.085000        0.750000   \n",
       "max    2024.000000         8.000000    59980.720000        1.000000   \n",
       "\n",
       "       Healthy_Life_Expectancy      Freedom   Generosity  \\\n",
       "count              4000.000000  4000.000000  4000.000000   \n",
       "mean                 67.917605     0.502723     0.143960   \n",
       "std                  10.172091     0.285219     0.200088   \n",
       "min                  50.000000     0.000000    -0.200000   \n",
       "25%                  59.177500     0.260000    -0.030000   \n",
       "50%                  68.015000     0.500000     0.140000   \n",
       "75%                  76.690000     0.750000     0.310000   \n",
       "max                  85.000000     1.000000     0.500000   \n",
       "\n",
       "       Corruption_Perception  Unemployment_Rate  Education_Index  ...  \\\n",
       "count            4000.000000        4000.000000      4000.000000  ...   \n",
       "mean                0.498920          10.966748         0.750385  ...   \n",
       "std                 0.288866           5.210712         0.144819  ...   \n",
       "min                 0.000000           2.000000         0.500000  ...   \n",
       "25%                 0.240000           6.450000         0.630000  ...   \n",
       "50%                 0.500000          10.995000         0.750000  ...   \n",
       "75%                 0.742500          15.450000         0.880000  ...   \n",
       "max                 1.000000          19.990000         1.000000  ...   \n",
       "\n",
       "       Public_Trust  Mental_Health_Index  Income_Inequality  \\\n",
       "count   4000.000000          4000.000000        4000.000000   \n",
       "mean       0.502812            69.976853          40.002648   \n",
       "std        0.289186            17.128536          11.634987   \n",
       "min        0.000000            40.000000          20.010000   \n",
       "25%        0.260000            55.580000          29.865000   \n",
       "50%        0.500000            69.650000          40.015000   \n",
       "75%        0.760000            84.582500          50.187500   \n",
       "max        1.000000           100.000000          59.970000   \n",
       "\n",
       "       Public_Health_Expenditure  Climate_Index  Work_Life_Balance  \\\n",
       "count                4000.000000    4000.000000        4000.000000   \n",
       "mean                    6.009270      65.176380           5.987325   \n",
       "std                     2.291172      19.981357           1.725363   \n",
       "min                     2.010000      30.010000           3.000000   \n",
       "25%                     4.040000      48.170000           4.460000   \n",
       "50%                     6.070000      64.755000           6.020000   \n",
       "75%                     8.010000      82.652500           7.490000   \n",
       "max                    10.000000      99.990000           9.000000   \n",
       "\n",
       "       Internet_Access   Crime_Rate  Political_Stability  Employment_Rate  \n",
       "count      4000.000000  4000.000000          4000.000000      4000.000000  \n",
       "mean         67.586327    45.526322             0.494105        74.021450  \n",
       "std          15.769023    20.300069             0.293191        13.906888  \n",
       "min          40.010000    10.030000             0.000000        50.000000  \n",
       "25%          53.910000    27.840000             0.230000        61.867500  \n",
       "50%          68.015000    45.760000             0.490000        74.475000  \n",
       "75%          81.332500    63.197500             0.760000        85.912500  \n",
       "max          94.990000    79.990000             1.000000        98.000000  \n",
       "\n",
       "[8 rows x 23 columns]"
      ]
     },
     "execution_count": 35,
     "metadata": {},
     "output_type": "execute_result"
    }
   ],
   "source": [
    "happy.describe()"
   ]
  },
  {
   "cell_type": "markdown",
   "metadata": {},
   "source": [
    "### Setup my X and y "
   ]
  },
  {
   "cell_type": "code",
   "execution_count": 36,
   "metadata": {},
   "outputs": [],
   "source": [
    "happy = pd.get_dummies(happy, drop_first=True)"
   ]
  },
  {
   "cell_type": "code",
   "execution_count": 37,
   "metadata": {},
   "outputs": [],
   "source": [
    "X = happy.drop(columns=[\"Happiness_Score\"])\n",
    "y = happy[\"Happiness_Score\"]"
   ]
  },
  {
   "cell_type": "code",
   "execution_count": 38,
   "metadata": {},
   "outputs": [
    {
     "data": {
      "text/html": [
       "<div>\n",
       "<style scoped>\n",
       "    .dataframe tbody tr th:only-of-type {\n",
       "        vertical-align: middle;\n",
       "    }\n",
       "\n",
       "    .dataframe tbody tr th {\n",
       "        vertical-align: top;\n",
       "    }\n",
       "\n",
       "    .dataframe thead th {\n",
       "        text-align: right;\n",
       "    }\n",
       "</style>\n",
       "<table border=\"1\" class=\"dataframe\">\n",
       "  <thead>\n",
       "    <tr style=\"text-align: right;\">\n",
       "      <th></th>\n",
       "      <th>Year</th>\n",
       "      <th>GDP_per_Capita</th>\n",
       "      <th>Social_Support</th>\n",
       "      <th>Healthy_Life_Expectancy</th>\n",
       "      <th>Freedom</th>\n",
       "      <th>Generosity</th>\n",
       "      <th>Corruption_Perception</th>\n",
       "      <th>Unemployment_Rate</th>\n",
       "      <th>Education_Index</th>\n",
       "      <th>Population</th>\n",
       "      <th>...</th>\n",
       "      <th>Employment_Rate</th>\n",
       "      <th>Country_Brazil</th>\n",
       "      <th>Country_Canada</th>\n",
       "      <th>Country_China</th>\n",
       "      <th>Country_France</th>\n",
       "      <th>Country_Germany</th>\n",
       "      <th>Country_India</th>\n",
       "      <th>Country_South Africa</th>\n",
       "      <th>Country_UK</th>\n",
       "      <th>Country_USA</th>\n",
       "    </tr>\n",
       "  </thead>\n",
       "  <tbody>\n",
       "    <tr>\n",
       "      <th>0</th>\n",
       "      <td>2022</td>\n",
       "      <td>44984.68</td>\n",
       "      <td>0.53</td>\n",
       "      <td>71.11</td>\n",
       "      <td>0.41</td>\n",
       "      <td>-0.05</td>\n",
       "      <td>0.83</td>\n",
       "      <td>14.98</td>\n",
       "      <td>0.52</td>\n",
       "      <td>1311940760</td>\n",
       "      <td>...</td>\n",
       "      <td>61.38</td>\n",
       "      <td>False</td>\n",
       "      <td>False</td>\n",
       "      <td>True</td>\n",
       "      <td>False</td>\n",
       "      <td>False</td>\n",
       "      <td>False</td>\n",
       "      <td>False</td>\n",
       "      <td>False</td>\n",
       "      <td>False</td>\n",
       "    </tr>\n",
       "    <tr>\n",
       "      <th>1</th>\n",
       "      <td>2015</td>\n",
       "      <td>30814.59</td>\n",
       "      <td>0.93</td>\n",
       "      <td>63.14</td>\n",
       "      <td>0.89</td>\n",
       "      <td>0.04</td>\n",
       "      <td>0.84</td>\n",
       "      <td>19.46</td>\n",
       "      <td>0.83</td>\n",
       "      <td>1194240877</td>\n",
       "      <td>...</td>\n",
       "      <td>80.18</td>\n",
       "      <td>False</td>\n",
       "      <td>False</td>\n",
       "      <td>False</td>\n",
       "      <td>False</td>\n",
       "      <td>False</td>\n",
       "      <td>False</td>\n",
       "      <td>False</td>\n",
       "      <td>True</td>\n",
       "      <td>False</td>\n",
       "    </tr>\n",
       "    <tr>\n",
       "      <th>2</th>\n",
       "      <td>2009</td>\n",
       "      <td>39214.84</td>\n",
       "      <td>0.03</td>\n",
       "      <td>62.36</td>\n",
       "      <td>0.01</td>\n",
       "      <td>0.16</td>\n",
       "      <td>0.59</td>\n",
       "      <td>16.68</td>\n",
       "      <td>0.95</td>\n",
       "      <td>731100898</td>\n",
       "      <td>...</td>\n",
       "      <td>72.65</td>\n",
       "      <td>True</td>\n",
       "      <td>False</td>\n",
       "      <td>False</td>\n",
       "      <td>False</td>\n",
       "      <td>False</td>\n",
       "      <td>False</td>\n",
       "      <td>False</td>\n",
       "      <td>False</td>\n",
       "      <td>False</td>\n",
       "    </tr>\n",
       "    <tr>\n",
       "      <th>3</th>\n",
       "      <td>2019</td>\n",
       "      <td>30655.75</td>\n",
       "      <td>0.77</td>\n",
       "      <td>78.94</td>\n",
       "      <td>0.98</td>\n",
       "      <td>0.25</td>\n",
       "      <td>0.63</td>\n",
       "      <td>2.64</td>\n",
       "      <td>0.70</td>\n",
       "      <td>1293957314</td>\n",
       "      <td>...</td>\n",
       "      <td>55.14</td>\n",
       "      <td>False</td>\n",
       "      <td>False</td>\n",
       "      <td>False</td>\n",
       "      <td>True</td>\n",
       "      <td>False</td>\n",
       "      <td>False</td>\n",
       "      <td>False</td>\n",
       "      <td>False</td>\n",
       "      <td>False</td>\n",
       "    </tr>\n",
       "    <tr>\n",
       "      <th>4</th>\n",
       "      <td>2022</td>\n",
       "      <td>30016.87</td>\n",
       "      <td>0.05</td>\n",
       "      <td>50.33</td>\n",
       "      <td>0.62</td>\n",
       "      <td>0.18</td>\n",
       "      <td>0.92</td>\n",
       "      <td>7.70</td>\n",
       "      <td>0.92</td>\n",
       "      <td>1432971455</td>\n",
       "      <td>...</td>\n",
       "      <td>51.55</td>\n",
       "      <td>False</td>\n",
       "      <td>False</td>\n",
       "      <td>True</td>\n",
       "      <td>False</td>\n",
       "      <td>False</td>\n",
       "      <td>False</td>\n",
       "      <td>False</td>\n",
       "      <td>False</td>\n",
       "      <td>False</td>\n",
       "    </tr>\n",
       "    <tr>\n",
       "      <th>...</th>\n",
       "      <td>...</td>\n",
       "      <td>...</td>\n",
       "      <td>...</td>\n",
       "      <td>...</td>\n",
       "      <td>...</td>\n",
       "      <td>...</td>\n",
       "      <td>...</td>\n",
       "      <td>...</td>\n",
       "      <td>...</td>\n",
       "      <td>...</td>\n",
       "      <td>...</td>\n",
       "      <td>...</td>\n",
       "      <td>...</td>\n",
       "      <td>...</td>\n",
       "      <td>...</td>\n",
       "      <td>...</td>\n",
       "      <td>...</td>\n",
       "      <td>...</td>\n",
       "      <td>...</td>\n",
       "      <td>...</td>\n",
       "      <td>...</td>\n",
       "    </tr>\n",
       "    <tr>\n",
       "      <th>3995</th>\n",
       "      <td>2005</td>\n",
       "      <td>1504.73</td>\n",
       "      <td>0.17</td>\n",
       "      <td>50.20</td>\n",
       "      <td>0.99</td>\n",
       "      <td>0.27</td>\n",
       "      <td>0.69</td>\n",
       "      <td>2.16</td>\n",
       "      <td>0.70</td>\n",
       "      <td>934088568</td>\n",
       "      <td>...</td>\n",
       "      <td>85.95</td>\n",
       "      <td>False</td>\n",
       "      <td>False</td>\n",
       "      <td>False</td>\n",
       "      <td>False</td>\n",
       "      <td>False</td>\n",
       "      <td>False</td>\n",
       "      <td>True</td>\n",
       "      <td>False</td>\n",
       "      <td>False</td>\n",
       "    </tr>\n",
       "    <tr>\n",
       "      <th>3996</th>\n",
       "      <td>2018</td>\n",
       "      <td>50182.85</td>\n",
       "      <td>0.96</td>\n",
       "      <td>67.67</td>\n",
       "      <td>0.84</td>\n",
       "      <td>0.43</td>\n",
       "      <td>0.88</td>\n",
       "      <td>7.19</td>\n",
       "      <td>0.94</td>\n",
       "      <td>1143441630</td>\n",
       "      <td>...</td>\n",
       "      <td>91.96</td>\n",
       "      <td>False</td>\n",
       "      <td>False</td>\n",
       "      <td>False</td>\n",
       "      <td>False</td>\n",
       "      <td>False</td>\n",
       "      <td>True</td>\n",
       "      <td>False</td>\n",
       "      <td>False</td>\n",
       "      <td>False</td>\n",
       "    </tr>\n",
       "    <tr>\n",
       "      <th>3997</th>\n",
       "      <td>2021</td>\n",
       "      <td>6158.53</td>\n",
       "      <td>0.22</td>\n",
       "      <td>67.08</td>\n",
       "      <td>0.42</td>\n",
       "      <td>0.19</td>\n",
       "      <td>0.10</td>\n",
       "      <td>2.25</td>\n",
       "      <td>0.93</td>\n",
       "      <td>1175677845</td>\n",
       "      <td>...</td>\n",
       "      <td>89.19</td>\n",
       "      <td>False</td>\n",
       "      <td>False</td>\n",
       "      <td>False</td>\n",
       "      <td>False</td>\n",
       "      <td>False</td>\n",
       "      <td>False</td>\n",
       "      <td>True</td>\n",
       "      <td>False</td>\n",
       "      <td>False</td>\n",
       "    </tr>\n",
       "    <tr>\n",
       "      <th>3998</th>\n",
       "      <td>2014</td>\n",
       "      <td>38214.54</td>\n",
       "      <td>0.46</td>\n",
       "      <td>55.72</td>\n",
       "      <td>0.74</td>\n",
       "      <td>0.28</td>\n",
       "      <td>0.46</td>\n",
       "      <td>8.74</td>\n",
       "      <td>0.78</td>\n",
       "      <td>1163097834</td>\n",
       "      <td>...</td>\n",
       "      <td>85.44</td>\n",
       "      <td>True</td>\n",
       "      <td>False</td>\n",
       "      <td>False</td>\n",
       "      <td>False</td>\n",
       "      <td>False</td>\n",
       "      <td>False</td>\n",
       "      <td>False</td>\n",
       "      <td>False</td>\n",
       "      <td>False</td>\n",
       "    </tr>\n",
       "    <tr>\n",
       "      <th>3999</th>\n",
       "      <td>2016</td>\n",
       "      <td>30740.42</td>\n",
       "      <td>0.11</td>\n",
       "      <td>67.31</td>\n",
       "      <td>0.67</td>\n",
       "      <td>0.23</td>\n",
       "      <td>0.23</td>\n",
       "      <td>3.13</td>\n",
       "      <td>0.94</td>\n",
       "      <td>545310654</td>\n",
       "      <td>...</td>\n",
       "      <td>51.85</td>\n",
       "      <td>False</td>\n",
       "      <td>False</td>\n",
       "      <td>False</td>\n",
       "      <td>False</td>\n",
       "      <td>False</td>\n",
       "      <td>False</td>\n",
       "      <td>False</td>\n",
       "      <td>True</td>\n",
       "      <td>False</td>\n",
       "    </tr>\n",
       "  </tbody>\n",
       "</table>\n",
       "<p>4000 rows × 31 columns</p>\n",
       "</div>"
      ],
      "text/plain": [
       "      Year  GDP_per_Capita  Social_Support  Healthy_Life_Expectancy  Freedom  \\\n",
       "0     2022        44984.68            0.53                    71.11     0.41   \n",
       "1     2015        30814.59            0.93                    63.14     0.89   \n",
       "2     2009        39214.84            0.03                    62.36     0.01   \n",
       "3     2019        30655.75            0.77                    78.94     0.98   \n",
       "4     2022        30016.87            0.05                    50.33     0.62   \n",
       "...    ...             ...             ...                      ...      ...   \n",
       "3995  2005         1504.73            0.17                    50.20     0.99   \n",
       "3996  2018        50182.85            0.96                    67.67     0.84   \n",
       "3997  2021         6158.53            0.22                    67.08     0.42   \n",
       "3998  2014        38214.54            0.46                    55.72     0.74   \n",
       "3999  2016        30740.42            0.11                    67.31     0.67   \n",
       "\n",
       "      Generosity  Corruption_Perception  Unemployment_Rate  Education_Index  \\\n",
       "0          -0.05                   0.83              14.98             0.52   \n",
       "1           0.04                   0.84              19.46             0.83   \n",
       "2           0.16                   0.59              16.68             0.95   \n",
       "3           0.25                   0.63               2.64             0.70   \n",
       "4           0.18                   0.92               7.70             0.92   \n",
       "...          ...                    ...                ...              ...   \n",
       "3995        0.27                   0.69               2.16             0.70   \n",
       "3996        0.43                   0.88               7.19             0.94   \n",
       "3997        0.19                   0.10               2.25             0.93   \n",
       "3998        0.28                   0.46               8.74             0.78   \n",
       "3999        0.23                   0.23               3.13             0.94   \n",
       "\n",
       "      Population  ...  Employment_Rate  Country_Brazil  Country_Canada  \\\n",
       "0     1311940760  ...            61.38           False           False   \n",
       "1     1194240877  ...            80.18           False           False   \n",
       "2      731100898  ...            72.65            True           False   \n",
       "3     1293957314  ...            55.14           False           False   \n",
       "4     1432971455  ...            51.55           False           False   \n",
       "...          ...  ...              ...             ...             ...   \n",
       "3995   934088568  ...            85.95           False           False   \n",
       "3996  1143441630  ...            91.96           False           False   \n",
       "3997  1175677845  ...            89.19           False           False   \n",
       "3998  1163097834  ...            85.44            True           False   \n",
       "3999   545310654  ...            51.85           False           False   \n",
       "\n",
       "      Country_China  Country_France  Country_Germany  Country_India  \\\n",
       "0              True           False            False          False   \n",
       "1             False           False            False          False   \n",
       "2             False           False            False          False   \n",
       "3             False            True            False          False   \n",
       "4              True           False            False          False   \n",
       "...             ...             ...              ...            ...   \n",
       "3995          False           False            False          False   \n",
       "3996          False           False            False           True   \n",
       "3997          False           False            False          False   \n",
       "3998          False           False            False          False   \n",
       "3999          False           False            False          False   \n",
       "\n",
       "      Country_South Africa  Country_UK  Country_USA  \n",
       "0                    False       False        False  \n",
       "1                    False        True        False  \n",
       "2                    False       False        False  \n",
       "3                    False       False        False  \n",
       "4                    False       False        False  \n",
       "...                    ...         ...          ...  \n",
       "3995                  True       False        False  \n",
       "3996                 False       False        False  \n",
       "3997                  True       False        False  \n",
       "3998                 False       False        False  \n",
       "3999                 False        True        False  \n",
       "\n",
       "[4000 rows x 31 columns]"
      ]
     },
     "execution_count": 38,
     "metadata": {},
     "output_type": "execute_result"
    }
   ],
   "source": [
    "X"
   ]
  },
  {
   "cell_type": "markdown",
   "metadata": {},
   "source": [
    "### MLFlow"
   ]
  },
  {
   "cell_type": "code",
   "execution_count": 40,
   "metadata": {},
   "outputs": [
    {
     "name": "stderr",
     "output_type": "stream",
     "text": [
      "2025/04/16 22:43:09 INFO mlflow.tracking.fluent: Experiment with name 'lab5' does not exist. Creating a new experiment.\n"
     ]
    },
    {
     "data": {
      "text/plain": [
       "<Experiment: artifact_location='mlflow-artifacts:/4', creation_time=1744868589706, experiment_id='4', last_update_time=1744868589706, lifecycle_stage='active', name='lab5', tags={}>"
      ]
     },
     "execution_count": 40,
     "metadata": {},
     "output_type": "execute_result"
    }
   ],
   "source": [
    "mlflow.set_experiment('lab5')"
   ]
  },
  {
   "cell_type": "markdown",
   "metadata": {},
   "source": [
    "##### splitting our data"
   ]
  },
  {
   "cell_type": "code",
   "execution_count": 41,
   "metadata": {},
   "outputs": [],
   "source": [
    "X_train, X_test, y_train, y_test = train_test_split(X, y, test_size=0.2, random_state=0)"
   ]
  },
  {
   "cell_type": "code",
   "execution_count": 42,
   "metadata": {},
   "outputs": [
    {
     "data": {
      "text/plain": [
       "1161    3.94\n",
       "2355    6.05\n",
       "1831    4.80\n",
       "156     5.61\n",
       "195     5.27\n",
       "        ... \n",
       "835     3.05\n",
       "3264    7.09\n",
       "1653    7.35\n",
       "2607    6.62\n",
       "2732    6.01\n",
       "Name: Happiness_Score, Length: 3200, dtype: float64"
      ]
     },
     "execution_count": 42,
     "metadata": {},
     "output_type": "execute_result"
    }
   ],
   "source": [
    "y_train"
   ]
  },
  {
   "cell_type": "markdown",
   "metadata": {},
   "source": [
    "##### hyperparam grids for our models"
   ]
  },
  {
   "cell_type": "code",
   "execution_count": 43,
   "metadata": {},
   "outputs": [],
   "source": [
    "param_grids = {\n",
    "    \"RandomForest\": {\n",
    "        \"n_estimators\": [50, 100, 200],\n",
    "    },\n",
    "    \"DecisionTree\": {\n",
    "        \"max_depth\": [None, 5, 10, 20],\n",
    "    },\n",
    "    \"Ridge\": {\n",
    "        'alpha': [0.1, 1.0, 10.0],\n",
    "    }\n",
    "}"
   ]
  },
  {
   "cell_type": "code",
   "execution_count": 49,
   "metadata": {},
   "outputs": [
    {
     "name": "stdout",
     "output_type": "stream",
     "text": [
      "Tuning RandomForest...\n"
     ]
    },
    {
     "name": "stderr",
     "output_type": "stream",
     "text": [
      "/opt/homebrew/anaconda3/envs/mlops/lib/python3.12/site-packages/sklearn/model_selection/_search.py:317: UserWarning: The total space of parameters 3 is smaller than n_iter=5. Running 3 iterations. For exhaustive searches, use GridSearchCV.\n",
      "  warnings.warn(\n",
      "2025/04/16 22:58:45 INFO mlflow.tracking._tracking_service.client: 🏃 View run RandomForest_Trial_1 at: https://mlops-service-616366923242.us-west2.run.app/#/experiments/4/runs/73a4f8c3f01e468fb9b94c97d71f41d9.\n",
      "2025/04/16 22:58:45 INFO mlflow.tracking._tracking_service.client: 🧪 View experiment at: https://mlops-service-616366923242.us-west2.run.app/#/experiments/4.\n"
     ]
    },
    {
     "ename": "MlflowException",
     "evalue": "API request to https://mlops-service-616366923242.us-west2.run.app/api/2.0/mlflow/runs/log-batch failed with exception HTTPSConnectionPool(host='mlops-service-616366923242.us-west2.run.app', port=443): Max retries exceeded with url: /api/2.0/mlflow/runs/log-batch (Caused by ResponseError('too many 503 error responses'))",
     "output_type": "error",
     "traceback": [
      "\u001b[31m---------------------------------------------------------------------------\u001b[39m",
      "\u001b[31mResponseError\u001b[39m                             Traceback (most recent call last)",
      "\u001b[31mResponseError\u001b[39m: too many 503 error responses",
      "\nThe above exception was the direct cause of the following exception:\n",
      "\u001b[31mMaxRetryError\u001b[39m                             Traceback (most recent call last)",
      "\u001b[36mFile \u001b[39m\u001b[32m/opt/homebrew/anaconda3/envs/mlops/lib/python3.12/site-packages/requests/adapters.py:667\u001b[39m, in \u001b[36mHTTPAdapter.send\u001b[39m\u001b[34m(self, request, stream, timeout, verify, cert, proxies)\u001b[39m\n\u001b[32m    666\u001b[39m \u001b[38;5;28;01mtry\u001b[39;00m:\n\u001b[32m--> \u001b[39m\u001b[32m667\u001b[39m     resp = \u001b[43mconn\u001b[49m\u001b[43m.\u001b[49m\u001b[43murlopen\u001b[49m\u001b[43m(\u001b[49m\n\u001b[32m    668\u001b[39m \u001b[43m        \u001b[49m\u001b[43mmethod\u001b[49m\u001b[43m=\u001b[49m\u001b[43mrequest\u001b[49m\u001b[43m.\u001b[49m\u001b[43mmethod\u001b[49m\u001b[43m,\u001b[49m\n\u001b[32m    669\u001b[39m \u001b[43m        \u001b[49m\u001b[43murl\u001b[49m\u001b[43m=\u001b[49m\u001b[43murl\u001b[49m\u001b[43m,\u001b[49m\n\u001b[32m    670\u001b[39m \u001b[43m        \u001b[49m\u001b[43mbody\u001b[49m\u001b[43m=\u001b[49m\u001b[43mrequest\u001b[49m\u001b[43m.\u001b[49m\u001b[43mbody\u001b[49m\u001b[43m,\u001b[49m\n\u001b[32m    671\u001b[39m \u001b[43m        \u001b[49m\u001b[43mheaders\u001b[49m\u001b[43m=\u001b[49m\u001b[43mrequest\u001b[49m\u001b[43m.\u001b[49m\u001b[43mheaders\u001b[49m\u001b[43m,\u001b[49m\n\u001b[32m    672\u001b[39m \u001b[43m        \u001b[49m\u001b[43mredirect\u001b[49m\u001b[43m=\u001b[49m\u001b[38;5;28;43;01mFalse\u001b[39;49;00m\u001b[43m,\u001b[49m\n\u001b[32m    673\u001b[39m \u001b[43m        \u001b[49m\u001b[43massert_same_host\u001b[49m\u001b[43m=\u001b[49m\u001b[38;5;28;43;01mFalse\u001b[39;49;00m\u001b[43m,\u001b[49m\n\u001b[32m    674\u001b[39m \u001b[43m        \u001b[49m\u001b[43mpreload_content\u001b[49m\u001b[43m=\u001b[49m\u001b[38;5;28;43;01mFalse\u001b[39;49;00m\u001b[43m,\u001b[49m\n\u001b[32m    675\u001b[39m \u001b[43m        \u001b[49m\u001b[43mdecode_content\u001b[49m\u001b[43m=\u001b[49m\u001b[38;5;28;43;01mFalse\u001b[39;49;00m\u001b[43m,\u001b[49m\n\u001b[32m    676\u001b[39m \u001b[43m        \u001b[49m\u001b[43mretries\u001b[49m\u001b[43m=\u001b[49m\u001b[38;5;28;43mself\u001b[39;49m\u001b[43m.\u001b[49m\u001b[43mmax_retries\u001b[49m\u001b[43m,\u001b[49m\n\u001b[32m    677\u001b[39m \u001b[43m        \u001b[49m\u001b[43mtimeout\u001b[49m\u001b[43m=\u001b[49m\u001b[43mtimeout\u001b[49m\u001b[43m,\u001b[49m\n\u001b[32m    678\u001b[39m \u001b[43m        \u001b[49m\u001b[43mchunked\u001b[49m\u001b[43m=\u001b[49m\u001b[43mchunked\u001b[49m\u001b[43m,\u001b[49m\n\u001b[32m    679\u001b[39m \u001b[43m    \u001b[49m\u001b[43m)\u001b[49m\n\u001b[32m    681\u001b[39m \u001b[38;5;28;01mexcept\u001b[39;00m (ProtocolError, \u001b[38;5;167;01mOSError\u001b[39;00m) \u001b[38;5;28;01mas\u001b[39;00m err:\n",
      "\u001b[36mFile \u001b[39m\u001b[32m/opt/homebrew/anaconda3/envs/mlops/lib/python3.12/site-packages/urllib3/connectionpool.py:942\u001b[39m, in \u001b[36mHTTPConnectionPool.urlopen\u001b[39m\u001b[34m(self, method, url, body, headers, retries, redirect, assert_same_host, timeout, pool_timeout, release_conn, chunked, body_pos, preload_content, decode_content, **response_kw)\u001b[39m\n\u001b[32m    941\u001b[39m     log.debug(\u001b[33m\"\u001b[39m\u001b[33mRetry: \u001b[39m\u001b[38;5;132;01m%s\u001b[39;00m\u001b[33m\"\u001b[39m, url)\n\u001b[32m--> \u001b[39m\u001b[32m942\u001b[39m     \u001b[38;5;28;01mreturn\u001b[39;00m \u001b[38;5;28;43mself\u001b[39;49m\u001b[43m.\u001b[49m\u001b[43murlopen\u001b[49m\u001b[43m(\u001b[49m\n\u001b[32m    943\u001b[39m \u001b[43m        \u001b[49m\u001b[43mmethod\u001b[49m\u001b[43m,\u001b[49m\n\u001b[32m    944\u001b[39m \u001b[43m        \u001b[49m\u001b[43murl\u001b[49m\u001b[43m,\u001b[49m\n\u001b[32m    945\u001b[39m \u001b[43m        \u001b[49m\u001b[43mbody\u001b[49m\u001b[43m,\u001b[49m\n\u001b[32m    946\u001b[39m \u001b[43m        \u001b[49m\u001b[43mheaders\u001b[49m\u001b[43m,\u001b[49m\n\u001b[32m    947\u001b[39m \u001b[43m        \u001b[49m\u001b[43mretries\u001b[49m\u001b[43m=\u001b[49m\u001b[43mretries\u001b[49m\u001b[43m,\u001b[49m\n\u001b[32m    948\u001b[39m \u001b[43m        \u001b[49m\u001b[43mredirect\u001b[49m\u001b[43m=\u001b[49m\u001b[43mredirect\u001b[49m\u001b[43m,\u001b[49m\n\u001b[32m    949\u001b[39m \u001b[43m        \u001b[49m\u001b[43massert_same_host\u001b[49m\u001b[43m=\u001b[49m\u001b[43massert_same_host\u001b[49m\u001b[43m,\u001b[49m\n\u001b[32m    950\u001b[39m \u001b[43m        \u001b[49m\u001b[43mtimeout\u001b[49m\u001b[43m=\u001b[49m\u001b[43mtimeout\u001b[49m\u001b[43m,\u001b[49m\n\u001b[32m    951\u001b[39m \u001b[43m        \u001b[49m\u001b[43mpool_timeout\u001b[49m\u001b[43m=\u001b[49m\u001b[43mpool_timeout\u001b[49m\u001b[43m,\u001b[49m\n\u001b[32m    952\u001b[39m \u001b[43m        \u001b[49m\u001b[43mrelease_conn\u001b[49m\u001b[43m=\u001b[49m\u001b[43mrelease_conn\u001b[49m\u001b[43m,\u001b[49m\n\u001b[32m    953\u001b[39m \u001b[43m        \u001b[49m\u001b[43mchunked\u001b[49m\u001b[43m=\u001b[49m\u001b[43mchunked\u001b[49m\u001b[43m,\u001b[49m\n\u001b[32m    954\u001b[39m \u001b[43m        \u001b[49m\u001b[43mbody_pos\u001b[49m\u001b[43m=\u001b[49m\u001b[43mbody_pos\u001b[49m\u001b[43m,\u001b[49m\n\u001b[32m    955\u001b[39m \u001b[43m        \u001b[49m\u001b[43mpreload_content\u001b[49m\u001b[43m=\u001b[49m\u001b[43mpreload_content\u001b[49m\u001b[43m,\u001b[49m\n\u001b[32m    956\u001b[39m \u001b[43m        \u001b[49m\u001b[43mdecode_content\u001b[49m\u001b[43m=\u001b[49m\u001b[43mdecode_content\u001b[49m\u001b[43m,\u001b[49m\n\u001b[32m    957\u001b[39m \u001b[43m        \u001b[49m\u001b[43m*\u001b[49m\u001b[43m*\u001b[49m\u001b[43mresponse_kw\u001b[49m\u001b[43m,\u001b[49m\n\u001b[32m    958\u001b[39m \u001b[43m    \u001b[49m\u001b[43m)\u001b[49m\n\u001b[32m    960\u001b[39m \u001b[38;5;28;01mreturn\u001b[39;00m response\n",
      "\u001b[36mFile \u001b[39m\u001b[32m/opt/homebrew/anaconda3/envs/mlops/lib/python3.12/site-packages/urllib3/connectionpool.py:942\u001b[39m, in \u001b[36mHTTPConnectionPool.urlopen\u001b[39m\u001b[34m(self, method, url, body, headers, retries, redirect, assert_same_host, timeout, pool_timeout, release_conn, chunked, body_pos, preload_content, decode_content, **response_kw)\u001b[39m\n\u001b[32m    941\u001b[39m     log.debug(\u001b[33m\"\u001b[39m\u001b[33mRetry: \u001b[39m\u001b[38;5;132;01m%s\u001b[39;00m\u001b[33m\"\u001b[39m, url)\n\u001b[32m--> \u001b[39m\u001b[32m942\u001b[39m     \u001b[38;5;28;01mreturn\u001b[39;00m \u001b[38;5;28;43mself\u001b[39;49m\u001b[43m.\u001b[49m\u001b[43murlopen\u001b[49m\u001b[43m(\u001b[49m\n\u001b[32m    943\u001b[39m \u001b[43m        \u001b[49m\u001b[43mmethod\u001b[49m\u001b[43m,\u001b[49m\n\u001b[32m    944\u001b[39m \u001b[43m        \u001b[49m\u001b[43murl\u001b[49m\u001b[43m,\u001b[49m\n\u001b[32m    945\u001b[39m \u001b[43m        \u001b[49m\u001b[43mbody\u001b[49m\u001b[43m,\u001b[49m\n\u001b[32m    946\u001b[39m \u001b[43m        \u001b[49m\u001b[43mheaders\u001b[49m\u001b[43m,\u001b[49m\n\u001b[32m    947\u001b[39m \u001b[43m        \u001b[49m\u001b[43mretries\u001b[49m\u001b[43m=\u001b[49m\u001b[43mretries\u001b[49m\u001b[43m,\u001b[49m\n\u001b[32m    948\u001b[39m \u001b[43m        \u001b[49m\u001b[43mredirect\u001b[49m\u001b[43m=\u001b[49m\u001b[43mredirect\u001b[49m\u001b[43m,\u001b[49m\n\u001b[32m    949\u001b[39m \u001b[43m        \u001b[49m\u001b[43massert_same_host\u001b[49m\u001b[43m=\u001b[49m\u001b[43massert_same_host\u001b[49m\u001b[43m,\u001b[49m\n\u001b[32m    950\u001b[39m \u001b[43m        \u001b[49m\u001b[43mtimeout\u001b[49m\u001b[43m=\u001b[49m\u001b[43mtimeout\u001b[49m\u001b[43m,\u001b[49m\n\u001b[32m    951\u001b[39m \u001b[43m        \u001b[49m\u001b[43mpool_timeout\u001b[49m\u001b[43m=\u001b[49m\u001b[43mpool_timeout\u001b[49m\u001b[43m,\u001b[49m\n\u001b[32m    952\u001b[39m \u001b[43m        \u001b[49m\u001b[43mrelease_conn\u001b[49m\u001b[43m=\u001b[49m\u001b[43mrelease_conn\u001b[49m\u001b[43m,\u001b[49m\n\u001b[32m    953\u001b[39m \u001b[43m        \u001b[49m\u001b[43mchunked\u001b[49m\u001b[43m=\u001b[49m\u001b[43mchunked\u001b[49m\u001b[43m,\u001b[49m\n\u001b[32m    954\u001b[39m \u001b[43m        \u001b[49m\u001b[43mbody_pos\u001b[49m\u001b[43m=\u001b[49m\u001b[43mbody_pos\u001b[49m\u001b[43m,\u001b[49m\n\u001b[32m    955\u001b[39m \u001b[43m        \u001b[49m\u001b[43mpreload_content\u001b[49m\u001b[43m=\u001b[49m\u001b[43mpreload_content\u001b[49m\u001b[43m,\u001b[49m\n\u001b[32m    956\u001b[39m \u001b[43m        \u001b[49m\u001b[43mdecode_content\u001b[49m\u001b[43m=\u001b[49m\u001b[43mdecode_content\u001b[49m\u001b[43m,\u001b[49m\n\u001b[32m    957\u001b[39m \u001b[43m        \u001b[49m\u001b[43m*\u001b[49m\u001b[43m*\u001b[49m\u001b[43mresponse_kw\u001b[49m\u001b[43m,\u001b[49m\n\u001b[32m    958\u001b[39m \u001b[43m    \u001b[49m\u001b[43m)\u001b[49m\n\u001b[32m    960\u001b[39m \u001b[38;5;28;01mreturn\u001b[39;00m response\n",
      "    \u001b[31m[... skipping similar frames: HTTPConnectionPool.urlopen at line 942 (2 times)]\u001b[39m\n",
      "\u001b[36mFile \u001b[39m\u001b[32m/opt/homebrew/anaconda3/envs/mlops/lib/python3.12/site-packages/urllib3/connectionpool.py:942\u001b[39m, in \u001b[36mHTTPConnectionPool.urlopen\u001b[39m\u001b[34m(self, method, url, body, headers, retries, redirect, assert_same_host, timeout, pool_timeout, release_conn, chunked, body_pos, preload_content, decode_content, **response_kw)\u001b[39m\n\u001b[32m    941\u001b[39m     log.debug(\u001b[33m\"\u001b[39m\u001b[33mRetry: \u001b[39m\u001b[38;5;132;01m%s\u001b[39;00m\u001b[33m\"\u001b[39m, url)\n\u001b[32m--> \u001b[39m\u001b[32m942\u001b[39m     \u001b[38;5;28;01mreturn\u001b[39;00m \u001b[38;5;28;43mself\u001b[39;49m\u001b[43m.\u001b[49m\u001b[43murlopen\u001b[49m\u001b[43m(\u001b[49m\n\u001b[32m    943\u001b[39m \u001b[43m        \u001b[49m\u001b[43mmethod\u001b[49m\u001b[43m,\u001b[49m\n\u001b[32m    944\u001b[39m \u001b[43m        \u001b[49m\u001b[43murl\u001b[49m\u001b[43m,\u001b[49m\n\u001b[32m    945\u001b[39m \u001b[43m        \u001b[49m\u001b[43mbody\u001b[49m\u001b[43m,\u001b[49m\n\u001b[32m    946\u001b[39m \u001b[43m        \u001b[49m\u001b[43mheaders\u001b[49m\u001b[43m,\u001b[49m\n\u001b[32m    947\u001b[39m \u001b[43m        \u001b[49m\u001b[43mretries\u001b[49m\u001b[43m=\u001b[49m\u001b[43mretries\u001b[49m\u001b[43m,\u001b[49m\n\u001b[32m    948\u001b[39m \u001b[43m        \u001b[49m\u001b[43mredirect\u001b[49m\u001b[43m=\u001b[49m\u001b[43mredirect\u001b[49m\u001b[43m,\u001b[49m\n\u001b[32m    949\u001b[39m \u001b[43m        \u001b[49m\u001b[43massert_same_host\u001b[49m\u001b[43m=\u001b[49m\u001b[43massert_same_host\u001b[49m\u001b[43m,\u001b[49m\n\u001b[32m    950\u001b[39m \u001b[43m        \u001b[49m\u001b[43mtimeout\u001b[49m\u001b[43m=\u001b[49m\u001b[43mtimeout\u001b[49m\u001b[43m,\u001b[49m\n\u001b[32m    951\u001b[39m \u001b[43m        \u001b[49m\u001b[43mpool_timeout\u001b[49m\u001b[43m=\u001b[49m\u001b[43mpool_timeout\u001b[49m\u001b[43m,\u001b[49m\n\u001b[32m    952\u001b[39m \u001b[43m        \u001b[49m\u001b[43mrelease_conn\u001b[49m\u001b[43m=\u001b[49m\u001b[43mrelease_conn\u001b[49m\u001b[43m,\u001b[49m\n\u001b[32m    953\u001b[39m \u001b[43m        \u001b[49m\u001b[43mchunked\u001b[49m\u001b[43m=\u001b[49m\u001b[43mchunked\u001b[49m\u001b[43m,\u001b[49m\n\u001b[32m    954\u001b[39m \u001b[43m        \u001b[49m\u001b[43mbody_pos\u001b[49m\u001b[43m=\u001b[49m\u001b[43mbody_pos\u001b[49m\u001b[43m,\u001b[49m\n\u001b[32m    955\u001b[39m \u001b[43m        \u001b[49m\u001b[43mpreload_content\u001b[49m\u001b[43m=\u001b[49m\u001b[43mpreload_content\u001b[49m\u001b[43m,\u001b[49m\n\u001b[32m    956\u001b[39m \u001b[43m        \u001b[49m\u001b[43mdecode_content\u001b[49m\u001b[43m=\u001b[49m\u001b[43mdecode_content\u001b[49m\u001b[43m,\u001b[49m\n\u001b[32m    957\u001b[39m \u001b[43m        \u001b[49m\u001b[43m*\u001b[49m\u001b[43m*\u001b[49m\u001b[43mresponse_kw\u001b[49m\u001b[43m,\u001b[49m\n\u001b[32m    958\u001b[39m \u001b[43m    \u001b[49m\u001b[43m)\u001b[49m\n\u001b[32m    960\u001b[39m \u001b[38;5;28;01mreturn\u001b[39;00m response\n",
      "\u001b[36mFile \u001b[39m\u001b[32m/opt/homebrew/anaconda3/envs/mlops/lib/python3.12/site-packages/urllib3/connectionpool.py:932\u001b[39m, in \u001b[36mHTTPConnectionPool.urlopen\u001b[39m\u001b[34m(self, method, url, body, headers, retries, redirect, assert_same_host, timeout, pool_timeout, release_conn, chunked, body_pos, preload_content, decode_content, **response_kw)\u001b[39m\n\u001b[32m    931\u001b[39m \u001b[38;5;28;01mtry\u001b[39;00m:\n\u001b[32m--> \u001b[39m\u001b[32m932\u001b[39m     retries = \u001b[43mretries\u001b[49m\u001b[43m.\u001b[49m\u001b[43mincrement\u001b[49m\u001b[43m(\u001b[49m\u001b[43mmethod\u001b[49m\u001b[43m,\u001b[49m\u001b[43m \u001b[49m\u001b[43murl\u001b[49m\u001b[43m,\u001b[49m\u001b[43m \u001b[49m\u001b[43mresponse\u001b[49m\u001b[43m=\u001b[49m\u001b[43mresponse\u001b[49m\u001b[43m,\u001b[49m\u001b[43m \u001b[49m\u001b[43m_pool\u001b[49m\u001b[43m=\u001b[49m\u001b[38;5;28;43mself\u001b[39;49m\u001b[43m)\u001b[49m\n\u001b[32m    933\u001b[39m \u001b[38;5;28;01mexcept\u001b[39;00m MaxRetryError:\n",
      "\u001b[36mFile \u001b[39m\u001b[32m/opt/homebrew/anaconda3/envs/mlops/lib/python3.12/site-packages/urllib3/util/retry.py:519\u001b[39m, in \u001b[36mRetry.increment\u001b[39m\u001b[34m(self, method, url, response, error, _pool, _stacktrace)\u001b[39m\n\u001b[32m    518\u001b[39m     reason = error \u001b[38;5;129;01mor\u001b[39;00m ResponseError(cause)\n\u001b[32m--> \u001b[39m\u001b[32m519\u001b[39m     \u001b[38;5;28;01mraise\u001b[39;00m MaxRetryError(_pool, url, reason) \u001b[38;5;28;01mfrom\u001b[39;00m\u001b[38;5;250m \u001b[39m\u001b[34;01mreason\u001b[39;00m  \u001b[38;5;66;03m# type: ignore[arg-type]\u001b[39;00m\n\u001b[32m    521\u001b[39m log.debug(\u001b[33m\"\u001b[39m\u001b[33mIncremented Retry for (url=\u001b[39m\u001b[33m'\u001b[39m\u001b[38;5;132;01m%s\u001b[39;00m\u001b[33m'\u001b[39m\u001b[33m): \u001b[39m\u001b[38;5;132;01m%r\u001b[39;00m\u001b[33m\"\u001b[39m, url, new_retry)\n",
      "\u001b[31mMaxRetryError\u001b[39m: HTTPSConnectionPool(host='mlops-service-616366923242.us-west2.run.app', port=443): Max retries exceeded with url: /api/2.0/mlflow/runs/log-batch (Caused by ResponseError('too many 503 error responses'))",
      "\nDuring handling of the above exception, another exception occurred:\n",
      "\u001b[31mRetryError\u001b[39m                                Traceback (most recent call last)",
      "\u001b[36mFile \u001b[39m\u001b[32m/opt/homebrew/anaconda3/envs/mlops/lib/python3.12/site-packages/mlflow/utils/rest_utils.py:187\u001b[39m, in \u001b[36mhttp_request\u001b[39m\u001b[34m(host_creds, endpoint, method, max_retries, backoff_factor, backoff_jitter, extra_headers, retry_codes, timeout, raise_on_status, respect_retry_after_header, **kwargs)\u001b[39m\n\u001b[32m    186\u001b[39m \u001b[38;5;28;01mtry\u001b[39;00m:\n\u001b[32m--> \u001b[39m\u001b[32m187\u001b[39m     \u001b[38;5;28;01mreturn\u001b[39;00m \u001b[43m_get_http_response_with_retries\u001b[49m\u001b[43m(\u001b[49m\n\u001b[32m    188\u001b[39m \u001b[43m        \u001b[49m\u001b[43mmethod\u001b[49m\u001b[43m,\u001b[49m\n\u001b[32m    189\u001b[39m \u001b[43m        \u001b[49m\u001b[43murl\u001b[49m\u001b[43m,\u001b[49m\n\u001b[32m    190\u001b[39m \u001b[43m        \u001b[49m\u001b[43mmax_retries\u001b[49m\u001b[43m,\u001b[49m\n\u001b[32m    191\u001b[39m \u001b[43m        \u001b[49m\u001b[43mbackoff_factor\u001b[49m\u001b[43m,\u001b[49m\n\u001b[32m    192\u001b[39m \u001b[43m        \u001b[49m\u001b[43mbackoff_jitter\u001b[49m\u001b[43m,\u001b[49m\n\u001b[32m    193\u001b[39m \u001b[43m        \u001b[49m\u001b[43mretry_codes\u001b[49m\u001b[43m,\u001b[49m\n\u001b[32m    194\u001b[39m \u001b[43m        \u001b[49m\u001b[43mraise_on_status\u001b[49m\u001b[43m,\u001b[49m\n\u001b[32m    195\u001b[39m \u001b[43m        \u001b[49m\u001b[43mheaders\u001b[49m\u001b[43m=\u001b[49m\u001b[43mheaders\u001b[49m\u001b[43m,\u001b[49m\n\u001b[32m    196\u001b[39m \u001b[43m        \u001b[49m\u001b[43mverify\u001b[49m\u001b[43m=\u001b[49m\u001b[43mhost_creds\u001b[49m\u001b[43m.\u001b[49m\u001b[43mverify\u001b[49m\u001b[43m,\u001b[49m\n\u001b[32m    197\u001b[39m \u001b[43m        \u001b[49m\u001b[43mtimeout\u001b[49m\u001b[43m=\u001b[49m\u001b[43mtimeout\u001b[49m\u001b[43m,\u001b[49m\n\u001b[32m    198\u001b[39m \u001b[43m        \u001b[49m\u001b[43mrespect_retry_after_header\u001b[49m\u001b[43m=\u001b[49m\u001b[43mrespect_retry_after_header\u001b[49m\u001b[43m,\u001b[49m\n\u001b[32m    199\u001b[39m \u001b[43m        \u001b[49m\u001b[43m*\u001b[49m\u001b[43m*\u001b[49m\u001b[43mkwargs\u001b[49m\u001b[43m,\u001b[49m\n\u001b[32m    200\u001b[39m \u001b[43m    \u001b[49m\u001b[43m)\u001b[49m\n\u001b[32m    201\u001b[39m \u001b[38;5;28;01mexcept\u001b[39;00m requests.exceptions.Timeout \u001b[38;5;28;01mas\u001b[39;00m to:\n",
      "\u001b[36mFile \u001b[39m\u001b[32m/opt/homebrew/anaconda3/envs/mlops/lib/python3.12/site-packages/mlflow/utils/request_utils.py:237\u001b[39m, in \u001b[36m_get_http_response_with_retries\u001b[39m\u001b[34m(method, url, max_retries, backoff_factor, backoff_jitter, retry_codes, raise_on_status, allow_redirects, respect_retry_after_header, **kwargs)\u001b[39m\n\u001b[32m    235\u001b[39m allow_redirects = env_value \u001b[38;5;28;01mif\u001b[39;00m allow_redirects \u001b[38;5;129;01mis\u001b[39;00m \u001b[38;5;28;01mNone\u001b[39;00m \u001b[38;5;28;01melse\u001b[39;00m allow_redirects\n\u001b[32m--> \u001b[39m\u001b[32m237\u001b[39m \u001b[38;5;28;01mreturn\u001b[39;00m \u001b[43msession\u001b[49m\u001b[43m.\u001b[49m\u001b[43mrequest\u001b[49m\u001b[43m(\u001b[49m\u001b[43mmethod\u001b[49m\u001b[43m,\u001b[49m\u001b[43m \u001b[49m\u001b[43murl\u001b[49m\u001b[43m,\u001b[49m\u001b[43m \u001b[49m\u001b[43mallow_redirects\u001b[49m\u001b[43m=\u001b[49m\u001b[43mallow_redirects\u001b[49m\u001b[43m,\u001b[49m\u001b[43m \u001b[49m\u001b[43m*\u001b[49m\u001b[43m*\u001b[49m\u001b[43mkwargs\u001b[49m\u001b[43m)\u001b[49m\n",
      "\u001b[36mFile \u001b[39m\u001b[32m/opt/homebrew/anaconda3/envs/mlops/lib/python3.12/site-packages/requests/sessions.py:589\u001b[39m, in \u001b[36mSession.request\u001b[39m\u001b[34m(self, method, url, params, data, headers, cookies, files, auth, timeout, allow_redirects, proxies, hooks, stream, verify, cert, json)\u001b[39m\n\u001b[32m    588\u001b[39m send_kwargs.update(settings)\n\u001b[32m--> \u001b[39m\u001b[32m589\u001b[39m resp = \u001b[38;5;28;43mself\u001b[39;49m\u001b[43m.\u001b[49m\u001b[43msend\u001b[49m\u001b[43m(\u001b[49m\u001b[43mprep\u001b[49m\u001b[43m,\u001b[49m\u001b[43m \u001b[49m\u001b[43m*\u001b[49m\u001b[43m*\u001b[49m\u001b[43msend_kwargs\u001b[49m\u001b[43m)\u001b[49m\n\u001b[32m    591\u001b[39m \u001b[38;5;28;01mreturn\u001b[39;00m resp\n",
      "\u001b[36mFile \u001b[39m\u001b[32m/opt/homebrew/anaconda3/envs/mlops/lib/python3.12/site-packages/requests/sessions.py:703\u001b[39m, in \u001b[36mSession.send\u001b[39m\u001b[34m(self, request, **kwargs)\u001b[39m\n\u001b[32m    702\u001b[39m \u001b[38;5;66;03m# Send the request\u001b[39;00m\n\u001b[32m--> \u001b[39m\u001b[32m703\u001b[39m r = \u001b[43madapter\u001b[49m\u001b[43m.\u001b[49m\u001b[43msend\u001b[49m\u001b[43m(\u001b[49m\u001b[43mrequest\u001b[49m\u001b[43m,\u001b[49m\u001b[43m \u001b[49m\u001b[43m*\u001b[49m\u001b[43m*\u001b[49m\u001b[43mkwargs\u001b[49m\u001b[43m)\u001b[49m\n\u001b[32m    705\u001b[39m \u001b[38;5;66;03m# Total elapsed time of the request (approximately)\u001b[39;00m\n",
      "\u001b[36mFile \u001b[39m\u001b[32m/opt/homebrew/anaconda3/envs/mlops/lib/python3.12/site-packages/requests/adapters.py:691\u001b[39m, in \u001b[36mHTTPAdapter.send\u001b[39m\u001b[34m(self, request, stream, timeout, verify, cert, proxies)\u001b[39m\n\u001b[32m    690\u001b[39m \u001b[38;5;28;01mif\u001b[39;00m \u001b[38;5;28misinstance\u001b[39m(e.reason, ResponseError):\n\u001b[32m--> \u001b[39m\u001b[32m691\u001b[39m     \u001b[38;5;28;01mraise\u001b[39;00m RetryError(e, request=request)\n\u001b[32m    693\u001b[39m \u001b[38;5;28;01mif\u001b[39;00m \u001b[38;5;28misinstance\u001b[39m(e.reason, _ProxyError):\n",
      "\u001b[31mRetryError\u001b[39m: HTTPSConnectionPool(host='mlops-service-616366923242.us-west2.run.app', port=443): Max retries exceeded with url: /api/2.0/mlflow/runs/log-batch (Caused by ResponseError('too many 503 error responses'))",
      "\nDuring handling of the above exception, another exception occurred:\n",
      "\u001b[31mMlflowException\u001b[39m                           Traceback (most recent call last)",
      "\u001b[36mCell\u001b[39m\u001b[36m \u001b[39m\u001b[32mIn[49]\u001b[39m\u001b[32m, line 19\u001b[39m\n\u001b[32m     17\u001b[39m     \u001b[38;5;28;01mwith\u001b[39;00m mlflow.start_run(run_name=\u001b[33mf\u001b[39m\u001b[33m\"\u001b[39m\u001b[38;5;132;01m{\u001b[39;00mname\u001b[38;5;132;01m}\u001b[39;00m\u001b[33m_Trial_\u001b[39m\u001b[38;5;132;01m{\u001b[39;00mi\u001b[38;5;250m \u001b[39m+\u001b[38;5;250m \u001b[39m\u001b[32m1\u001b[39m\u001b[38;5;132;01m}\u001b[39;00m\u001b[33m\"\u001b[39m):\n\u001b[32m     18\u001b[39m         mlflow.set_tags({\u001b[33m\"\u001b[39m\u001b[33mModel\u001b[39m\u001b[33m\"\u001b[39m: name, \u001b[33m\"\u001b[39m\u001b[33mApproach\u001b[39m\u001b[33m\"\u001b[39m: \u001b[33m\"\u001b[39m\u001b[33mHyperparameter Tuning\u001b[39m\u001b[33m\"\u001b[39m})\n\u001b[32m---> \u001b[39m\u001b[32m19\u001b[39m         \u001b[43mmlflow\u001b[49m\u001b[43m.\u001b[49m\u001b[43mlog_params\u001b[49m\u001b[43m(\u001b[49m\u001b[43mparams\u001b[49m\u001b[43m)\u001b[49m\n\u001b[32m     20\u001b[39m         mlflow.log_metric(\u001b[33m\"\u001b[39m\u001b[33mMean_CV_Score\u001b[39m\u001b[33m\"\u001b[39m, mean_test_score)\n\u001b[32m     22\u001b[39m best_model = random_search.best_estimator_\n",
      "\u001b[36mFile \u001b[39m\u001b[32m/opt/homebrew/anaconda3/envs/mlops/lib/python3.12/site-packages/mlflow/tracking/fluent.py:962\u001b[39m, in \u001b[36mlog_params\u001b[39m\u001b[34m(params, synchronous, run_id)\u001b[39m\n\u001b[32m    960\u001b[39m params_arr = [Param(key, \u001b[38;5;28mstr\u001b[39m(value)) \u001b[38;5;28;01mfor\u001b[39;00m key, value \u001b[38;5;129;01min\u001b[39;00m params.items()]\n\u001b[32m    961\u001b[39m synchronous = synchronous \u001b[38;5;28;01mif\u001b[39;00m synchronous \u001b[38;5;129;01mis\u001b[39;00m \u001b[38;5;129;01mnot\u001b[39;00m \u001b[38;5;28;01mNone\u001b[39;00m \u001b[38;5;28;01melse\u001b[39;00m \u001b[38;5;129;01mnot\u001b[39;00m MLFLOW_ENABLE_ASYNC_LOGGING.get()\n\u001b[32m--> \u001b[39m\u001b[32m962\u001b[39m \u001b[38;5;28;01mreturn\u001b[39;00m \u001b[43mMlflowClient\u001b[49m\u001b[43m(\u001b[49m\u001b[43m)\u001b[49m\u001b[43m.\u001b[49m\u001b[43mlog_batch\u001b[49m\u001b[43m(\u001b[49m\n\u001b[32m    963\u001b[39m \u001b[43m    \u001b[49m\u001b[43mrun_id\u001b[49m\u001b[43m=\u001b[49m\u001b[43mrun_id\u001b[49m\u001b[43m,\u001b[49m\u001b[43m \u001b[49m\u001b[43mmetrics\u001b[49m\u001b[43m=\u001b[49m\u001b[43m[\u001b[49m\u001b[43m]\u001b[49m\u001b[43m,\u001b[49m\u001b[43m \u001b[49m\u001b[43mparams\u001b[49m\u001b[43m=\u001b[49m\u001b[43mparams_arr\u001b[49m\u001b[43m,\u001b[49m\u001b[43m \u001b[49m\u001b[43mtags\u001b[49m\u001b[43m=\u001b[49m\u001b[43m[\u001b[49m\u001b[43m]\u001b[49m\u001b[43m,\u001b[49m\u001b[43m \u001b[49m\u001b[43msynchronous\u001b[49m\u001b[43m=\u001b[49m\u001b[43msynchronous\u001b[49m\n\u001b[32m    964\u001b[39m \u001b[43m\u001b[49m\u001b[43m)\u001b[49m\n",
      "\u001b[36mFile \u001b[39m\u001b[32m/opt/homebrew/anaconda3/envs/mlops/lib/python3.12/site-packages/mlflow/tracking/client.py:1846\u001b[39m, in \u001b[36mMlflowClient.log_batch\u001b[39m\u001b[34m(self, run_id, metrics, params, tags, synchronous)\u001b[39m\n\u001b[32m   1777\u001b[39m \u001b[38;5;250m\u001b[39m\u001b[33;03m\"\"\"\u001b[39;00m\n\u001b[32m   1778\u001b[39m \u001b[33;03mLog multiple metrics, params, and/or tags.\u001b[39;00m\n\u001b[32m   1779\u001b[39m \n\u001b[32m   (...)\u001b[39m\u001b[32m   1841\u001b[39m \n\u001b[32m   1842\u001b[39m \u001b[33;03m\"\"\"\u001b[39;00m\n\u001b[32m   1843\u001b[39m synchronous = (\n\u001b[32m   1844\u001b[39m     synchronous \u001b[38;5;28;01mif\u001b[39;00m synchronous \u001b[38;5;129;01mis\u001b[39;00m \u001b[38;5;129;01mnot\u001b[39;00m \u001b[38;5;28;01mNone\u001b[39;00m \u001b[38;5;28;01melse\u001b[39;00m \u001b[38;5;129;01mnot\u001b[39;00m MLFLOW_ENABLE_ASYNC_LOGGING.get()\n\u001b[32m   1845\u001b[39m )\n\u001b[32m-> \u001b[39m\u001b[32m1846\u001b[39m \u001b[38;5;28;01mreturn\u001b[39;00m \u001b[38;5;28;43mself\u001b[39;49m\u001b[43m.\u001b[49m\u001b[43m_tracking_client\u001b[49m\u001b[43m.\u001b[49m\u001b[43mlog_batch\u001b[49m\u001b[43m(\u001b[49m\n\u001b[32m   1847\u001b[39m \u001b[43m    \u001b[49m\u001b[43mrun_id\u001b[49m\u001b[43m,\u001b[49m\u001b[43m \u001b[49m\u001b[43mmetrics\u001b[49m\u001b[43m,\u001b[49m\u001b[43m \u001b[49m\u001b[43mparams\u001b[49m\u001b[43m,\u001b[49m\u001b[43m \u001b[49m\u001b[43mtags\u001b[49m\u001b[43m,\u001b[49m\u001b[43m \u001b[49m\u001b[43msynchronous\u001b[49m\u001b[43m=\u001b[49m\u001b[43msynchronous\u001b[49m\n\u001b[32m   1848\u001b[39m \u001b[43m\u001b[49m\u001b[43m)\u001b[49m\n",
      "\u001b[36mFile \u001b[39m\u001b[32m/opt/homebrew/anaconda3/envs/mlops/lib/python3.12/site-packages/mlflow/tracking/_tracking_service/client.py:718\u001b[39m, in \u001b[36mTrackingServiceClient.log_batch\u001b[39m\u001b[34m(self, run_id, metrics, params, tags, synchronous)\u001b[39m\n\u001b[32m    715\u001b[39m metrics = metrics[metrics_batch_size:]\n\u001b[32m    717\u001b[39m \u001b[38;5;28;01mif\u001b[39;00m synchronous:\n\u001b[32m--> \u001b[39m\u001b[32m718\u001b[39m     \u001b[38;5;28;43mself\u001b[39;49m\u001b[43m.\u001b[49m\u001b[43mstore\u001b[49m\u001b[43m.\u001b[49m\u001b[43mlog_batch\u001b[49m\u001b[43m(\u001b[49m\n\u001b[32m    719\u001b[39m \u001b[43m        \u001b[49m\u001b[43mrun_id\u001b[49m\u001b[43m=\u001b[49m\u001b[43mrun_id\u001b[49m\u001b[43m,\u001b[49m\u001b[43m \u001b[49m\u001b[43mmetrics\u001b[49m\u001b[43m=\u001b[49m\u001b[43mmetrics_batch\u001b[49m\u001b[43m,\u001b[49m\u001b[43m \u001b[49m\u001b[43mparams\u001b[49m\u001b[43m=\u001b[49m\u001b[43mparams_batch\u001b[49m\u001b[43m,\u001b[49m\u001b[43m \u001b[49m\u001b[43mtags\u001b[49m\u001b[43m=\u001b[49m\u001b[43mtags_batch\u001b[49m\n\u001b[32m    720\u001b[39m \u001b[43m    \u001b[49m\u001b[43m)\u001b[49m\n\u001b[32m    721\u001b[39m \u001b[38;5;28;01melse\u001b[39;00m:\n\u001b[32m    722\u001b[39m     run_operations_list.append(\n\u001b[32m    723\u001b[39m         \u001b[38;5;28mself\u001b[39m.store.log_batch_async(\n\u001b[32m    724\u001b[39m             run_id=run_id,\n\u001b[32m   (...)\u001b[39m\u001b[32m    728\u001b[39m         )\n\u001b[32m    729\u001b[39m     )\n",
      "\u001b[36mFile \u001b[39m\u001b[32m/opt/homebrew/anaconda3/envs/mlops/lib/python3.12/site-packages/mlflow/store/tracking/rest_store.py:535\u001b[39m, in \u001b[36mRestStore.log_batch\u001b[39m\u001b[34m(self, run_id, metrics, params, tags)\u001b[39m\n\u001b[32m    531\u001b[39m tag_protos = [tag.to_proto() \u001b[38;5;28;01mfor\u001b[39;00m tag \u001b[38;5;129;01min\u001b[39;00m tags]\n\u001b[32m    532\u001b[39m req_body = message_to_json(\n\u001b[32m    533\u001b[39m     LogBatch(metrics=metric_protos, params=param_protos, tags=tag_protos, run_id=run_id)\n\u001b[32m    534\u001b[39m )\n\u001b[32m--> \u001b[39m\u001b[32m535\u001b[39m \u001b[38;5;28;43mself\u001b[39;49m\u001b[43m.\u001b[49m\u001b[43m_call_endpoint\u001b[49m\u001b[43m(\u001b[49m\u001b[43mLogBatch\u001b[49m\u001b[43m,\u001b[49m\u001b[43m \u001b[49m\u001b[43mreq_body\u001b[49m\u001b[43m)\u001b[49m\n",
      "\u001b[36mFile \u001b[39m\u001b[32m/opt/homebrew/anaconda3/envs/mlops/lib/python3.12/site-packages/mlflow/store/tracking/rest_store.py:81\u001b[39m, in \u001b[36mRestStore._call_endpoint\u001b[39m\u001b[34m(self, api, json_body, endpoint)\u001b[39m\n\u001b[32m     79\u001b[39m     endpoint, method = _METHOD_TO_INFO[api]\n\u001b[32m     80\u001b[39m response_proto = api.Response()\n\u001b[32m---> \u001b[39m\u001b[32m81\u001b[39m \u001b[38;5;28;01mreturn\u001b[39;00m \u001b[43mcall_endpoint\u001b[49m\u001b[43m(\u001b[49m\u001b[38;5;28;43mself\u001b[39;49m\u001b[43m.\u001b[49m\u001b[43mget_host_creds\u001b[49m\u001b[43m(\u001b[49m\u001b[43m)\u001b[49m\u001b[43m,\u001b[49m\u001b[43m \u001b[49m\u001b[43mendpoint\u001b[49m\u001b[43m,\u001b[49m\u001b[43m \u001b[49m\u001b[43mmethod\u001b[49m\u001b[43m,\u001b[49m\u001b[43m \u001b[49m\u001b[43mjson_body\u001b[49m\u001b[43m,\u001b[49m\u001b[43m \u001b[49m\u001b[43mresponse_proto\u001b[49m\u001b[43m)\u001b[49m\n",
      "\u001b[36mFile \u001b[39m\u001b[32m/opt/homebrew/anaconda3/envs/mlops/lib/python3.12/site-packages/mlflow/utils/rest_utils.py:360\u001b[39m, in \u001b[36mcall_endpoint\u001b[39m\u001b[34m(host_creds, endpoint, method, json_body, response_proto, extra_headers)\u001b[39m\n\u001b[32m    358\u001b[39m \u001b[38;5;28;01melse\u001b[39;00m:\n\u001b[32m    359\u001b[39m     call_kwargs[\u001b[33m\"\u001b[39m\u001b[33mjson\u001b[39m\u001b[33m\"\u001b[39m] = json_body\n\u001b[32m--> \u001b[39m\u001b[32m360\u001b[39m     response = \u001b[43mhttp_request\u001b[49m\u001b[43m(\u001b[49m\u001b[43m*\u001b[49m\u001b[43m*\u001b[49m\u001b[43mcall_kwargs\u001b[49m\u001b[43m)\u001b[49m\n\u001b[32m    362\u001b[39m response = verify_rest_response(response, endpoint)\n\u001b[32m    363\u001b[39m js_dict = json.loads(response.text)\n",
      "\u001b[36mFile \u001b[39m\u001b[32m/opt/homebrew/anaconda3/envs/mlops/lib/python3.12/site-packages/mlflow/utils/rest_utils.py:210\u001b[39m, in \u001b[36mhttp_request\u001b[39m\u001b[34m(host_creds, endpoint, method, max_retries, backoff_factor, backoff_jitter, extra_headers, retry_codes, timeout, raise_on_status, respect_retry_after_header, **kwargs)\u001b[39m\n\u001b[32m    208\u001b[39m     \u001b[38;5;28;01mraise\u001b[39;00m InvalidUrlException(\u001b[33mf\u001b[39m\u001b[33m\"\u001b[39m\u001b[33mInvalid url: \u001b[39m\u001b[38;5;132;01m{\u001b[39;00murl\u001b[38;5;132;01m}\u001b[39;00m\u001b[33m\"\u001b[39m) \u001b[38;5;28;01mfrom\u001b[39;00m\u001b[38;5;250m \u001b[39m\u001b[34;01miu\u001b[39;00m\n\u001b[32m    209\u001b[39m \u001b[38;5;28;01mexcept\u001b[39;00m \u001b[38;5;167;01mException\u001b[39;00m \u001b[38;5;28;01mas\u001b[39;00m e:\n\u001b[32m--> \u001b[39m\u001b[32m210\u001b[39m     \u001b[38;5;28;01mraise\u001b[39;00m MlflowException(\u001b[33mf\u001b[39m\u001b[33m\"\u001b[39m\u001b[33mAPI request to \u001b[39m\u001b[38;5;132;01m{\u001b[39;00murl\u001b[38;5;132;01m}\u001b[39;00m\u001b[33m failed with exception \u001b[39m\u001b[38;5;132;01m{\u001b[39;00me\u001b[38;5;132;01m}\u001b[39;00m\u001b[33m\"\u001b[39m)\n",
      "\u001b[31mMlflowException\u001b[39m: API request to https://mlops-service-616366923242.us-west2.run.app/api/2.0/mlflow/runs/log-batch failed with exception HTTPSConnectionPool(host='mlops-service-616366923242.us-west2.run.app', port=443): Max retries exceeded with url: /api/2.0/mlflow/runs/log-batch (Caused by ResponseError('too many 503 error responses'))"
     ]
    }
   ],
   "source": [
    "models = {\n",
    "    \"RandomForest\": RandomForestRegressor(random_state=0),\n",
    "    \"DecisionTree\": DecisionTreeRegressor(random_state=0),\n",
    "    \"Ridge\": Ridge(random_state=0)\n",
    "}\n",
    "\n",
    "for name, model in models.items():\n",
    "    print(f\"Tuning {name}...\")\n",
    "    \n",
    "    random_search = RandomizedSearchCV(model, param_grids[name], n_iter=5, cv=3, random_state=0, n_jobs=-1)\n",
    "    random_search.fit(X_train, y_train)\n",
    "\n",
    "    for i in range(len(random_search.cv_results_['params'])):\n",
    "        params = random_search.cv_results_['params'][i]\n",
    "        mean_test_score = random_search.cv_results_['mean_test_score'][i]\n",
    "\n",
    "        with mlflow.start_run(run_name=f\"{name}_Trial_{i + 1}\"):\n",
    "            mlflow.set_tags({\"Model\": name, \"Approach\": \"Hyperparameter Tuning\"})\n",
    "            mlflow.log_params(params)\n",
    "            mlflow.log_metric(\"Mean_CV_Score\", mean_test_score)\n",
    "\n",
    "    best_model = random_search.best_estimator_\n",
    "    y_pred = best_model.predict(X_test)\n",
    "    mse = mean_squared_error(y_test, y_pred)\n",
    "    r2 = r2_score(y_test, y_pred)\n",
    "\n",
    "    with mlflow.start_run(run_name=f\"{name}_Best_Model\"):\n",
    "        mlflow.set_tags({\"Model\": name, \"Approach\": \"Best Model Logging\"})\n",
    "        mlflow.log_params(random_search.best_params_)\n",
    "        mlflow.log_metric(\"MSE\", mse)\n",
    "        mlflow.log_metric(\"R2_Score\", r2)\n",
    "        mlflow.sklearn.log_model(best_model, f\"{name}_Best_Model\")\n",
    "    \n",
    "    print(f\"{name} - Best Params: {random_search.best_params_}\")\n",
    "    print(f\"{name} - MSE: {mse:.2f}, R²: {r2:.2f}\\n\")"
   ]
  },
  {
   "cell_type": "markdown",
   "metadata": {},
   "source": [
    "### Feature Selection"
   ]
  },
  {
   "cell_type": "code",
   "execution_count": 45,
   "metadata": {},
   "outputs": [
    {
     "data": {
      "text/plain": [
       "Index(['Year', 'GDP_per_Capita', 'Social_Support', 'Healthy_Life_Expectancy',\n",
       "       'Freedom', 'Generosity', 'Corruption_Perception', 'Unemployment_Rate',\n",
       "       'Education_Index', 'Population', 'Urbanization_Rate',\n",
       "       'Life_Satisfaction', 'Public_Trust', 'Mental_Health_Index',\n",
       "       'Income_Inequality', 'Public_Health_Expenditure', 'Climate_Index',\n",
       "       'Work_Life_Balance', 'Internet_Access', 'Crime_Rate',\n",
       "       'Political_Stability', 'Employment_Rate', 'Country_Brazil',\n",
       "       'Country_Canada', 'Country_China', 'Country_France', 'Country_Germany',\n",
       "       'Country_India', 'Country_South Africa', 'Country_UK', 'Country_USA'],\n",
       "      dtype='object')"
      ]
     },
     "execution_count": 45,
     "metadata": {},
     "output_type": "execute_result"
    }
   ],
   "source": [
    "X.columns"
   ]
  },
  {
   "cell_type": "code",
   "execution_count": 46,
   "metadata": {},
   "outputs": [
    {
     "data": {
      "text/html": [
       "<div>\n",
       "<style scoped>\n",
       "    .dataframe tbody tr th:only-of-type {\n",
       "        vertical-align: middle;\n",
       "    }\n",
       "\n",
       "    .dataframe tbody tr th {\n",
       "        vertical-align: top;\n",
       "    }\n",
       "\n",
       "    .dataframe thead th {\n",
       "        text-align: right;\n",
       "    }\n",
       "</style>\n",
       "<table border=\"1\" class=\"dataframe\">\n",
       "  <thead>\n",
       "    <tr style=\"text-align: right;\">\n",
       "      <th></th>\n",
       "      <th>Freedom</th>\n",
       "      <th>Crime_Rate</th>\n",
       "      <th>Unemployment_Rate</th>\n",
       "      <th>Work_Life_Balance</th>\n",
       "    </tr>\n",
       "  </thead>\n",
       "  <tbody>\n",
       "    <tr>\n",
       "      <th>0</th>\n",
       "      <td>0.41</td>\n",
       "      <td>70.30</td>\n",
       "      <td>14.98</td>\n",
       "      <td>8.59</td>\n",
       "    </tr>\n",
       "    <tr>\n",
       "      <th>1</th>\n",
       "      <td>0.89</td>\n",
       "      <td>73.32</td>\n",
       "      <td>19.46</td>\n",
       "      <td>8.76</td>\n",
       "    </tr>\n",
       "    <tr>\n",
       "      <th>2</th>\n",
       "      <td>0.01</td>\n",
       "      <td>28.99</td>\n",
       "      <td>16.68</td>\n",
       "      <td>6.06</td>\n",
       "    </tr>\n",
       "    <tr>\n",
       "      <th>3</th>\n",
       "      <td>0.98</td>\n",
       "      <td>45.76</td>\n",
       "      <td>2.64</td>\n",
       "      <td>6.36</td>\n",
       "    </tr>\n",
       "    <tr>\n",
       "      <th>4</th>\n",
       "      <td>0.62</td>\n",
       "      <td>65.67</td>\n",
       "      <td>7.70</td>\n",
       "      <td>3.00</td>\n",
       "    </tr>\n",
       "    <tr>\n",
       "      <th>...</th>\n",
       "      <td>...</td>\n",
       "      <td>...</td>\n",
       "      <td>...</td>\n",
       "      <td>...</td>\n",
       "    </tr>\n",
       "    <tr>\n",
       "      <th>3995</th>\n",
       "      <td>0.99</td>\n",
       "      <td>28.88</td>\n",
       "      <td>2.16</td>\n",
       "      <td>8.18</td>\n",
       "    </tr>\n",
       "    <tr>\n",
       "      <th>3996</th>\n",
       "      <td>0.84</td>\n",
       "      <td>55.50</td>\n",
       "      <td>7.19</td>\n",
       "      <td>8.42</td>\n",
       "    </tr>\n",
       "    <tr>\n",
       "      <th>3997</th>\n",
       "      <td>0.42</td>\n",
       "      <td>61.16</td>\n",
       "      <td>2.25</td>\n",
       "      <td>6.97</td>\n",
       "    </tr>\n",
       "    <tr>\n",
       "      <th>3998</th>\n",
       "      <td>0.74</td>\n",
       "      <td>49.50</td>\n",
       "      <td>8.74</td>\n",
       "      <td>4.67</td>\n",
       "    </tr>\n",
       "    <tr>\n",
       "      <th>3999</th>\n",
       "      <td>0.67</td>\n",
       "      <td>56.39</td>\n",
       "      <td>3.13</td>\n",
       "      <td>4.30</td>\n",
       "    </tr>\n",
       "  </tbody>\n",
       "</table>\n",
       "<p>4000 rows × 4 columns</p>\n",
       "</div>"
      ],
      "text/plain": [
       "      Freedom  Crime_Rate  Unemployment_Rate  Work_Life_Balance\n",
       "0        0.41       70.30              14.98               8.59\n",
       "1        0.89       73.32              19.46               8.76\n",
       "2        0.01       28.99              16.68               6.06\n",
       "3        0.98       45.76               2.64               6.36\n",
       "4        0.62       65.67               7.70               3.00\n",
       "...       ...         ...                ...                ...\n",
       "3995     0.99       28.88               2.16               8.18\n",
       "3996     0.84       55.50               7.19               8.42\n",
       "3997     0.42       61.16               2.25               6.97\n",
       "3998     0.74       49.50               8.74               4.67\n",
       "3999     0.67       56.39               3.13               4.30\n",
       "\n",
       "[4000 rows x 4 columns]"
      ]
     },
     "execution_count": 46,
     "metadata": {},
     "output_type": "execute_result"
    }
   ],
   "source": [
    "selected_features = [\"Freedom\", \"Crime_Rate\", \"Unemployment_Rate\", \"Work_Life_Balance\"]\n",
    "\n",
    "X_filtered = X[selected_features]\n",
    "\n",
    "X_filtered"
   ]
  },
  {
   "cell_type": "code",
   "execution_count": 47,
   "metadata": {},
   "outputs": [],
   "source": [
    "X_train2, X_test2, y_train2, y_test2 = train_test_split(X_filtered, y, test_size=0.2, random_state=0)"
   ]
  },
  {
   "cell_type": "markdown",
   "metadata": {},
   "source": [
    "- same code as above"
   ]
  },
  {
   "cell_type": "code",
   "execution_count": 50,
   "metadata": {},
   "outputs": [
    {
     "name": "stdout",
     "output_type": "stream",
     "text": [
      "Tuning RandomForest...\n"
     ]
    },
    {
     "name": "stderr",
     "output_type": "stream",
     "text": [
      "/opt/homebrew/anaconda3/envs/mlops/lib/python3.12/site-packages/sklearn/model_selection/_search.py:317: UserWarning: The total space of parameters 3 is smaller than n_iter=5. Running 3 iterations. For exhaustive searches, use GridSearchCV.\n",
      "  warnings.warn(\n",
      "2025/04/16 22:59:07 INFO mlflow.tracking._tracking_service.client: 🏃 View run RandomForest_Trial_1_subset_features at: https://mlops-service-616366923242.us-west2.run.app/#/experiments/4/runs/72d883e530a748b4baf49c1d93a02b62.\n",
      "2025/04/16 22:59:07 INFO mlflow.tracking._tracking_service.client: 🧪 View experiment at: https://mlops-service-616366923242.us-west2.run.app/#/experiments/4.\n",
      "2025/04/16 23:00:09 INFO mlflow.tracking._tracking_service.client: 🏃 View run RandomForest_Trial_2_subset_features at: https://mlops-service-616366923242.us-west2.run.app/#/experiments/4/runs/313aa2433b954a51ab1e69b55b836fe3.\n",
      "2025/04/16 23:00:09 INFO mlflow.tracking._tracking_service.client: 🧪 View experiment at: https://mlops-service-616366923242.us-west2.run.app/#/experiments/4.\n"
     ]
    },
    {
     "ename": "MlflowException",
     "evalue": "API request to https://mlops-service-616366923242.us-west2.run.app/api/2.0/mlflow/runs/log-batch failed with exception HTTPSConnectionPool(host='mlops-service-616366923242.us-west2.run.app', port=443): Max retries exceeded with url: /api/2.0/mlflow/runs/log-batch (Caused by ResponseError('too many 503 error responses'))",
     "output_type": "error",
     "traceback": [
      "\u001b[31m---------------------------------------------------------------------------\u001b[39m",
      "\u001b[31mResponseError\u001b[39m                             Traceback (most recent call last)",
      "\u001b[31mResponseError\u001b[39m: too many 503 error responses",
      "\nThe above exception was the direct cause of the following exception:\n",
      "\u001b[31mMaxRetryError\u001b[39m                             Traceback (most recent call last)",
      "\u001b[36mFile \u001b[39m\u001b[32m/opt/homebrew/anaconda3/envs/mlops/lib/python3.12/site-packages/requests/adapters.py:667\u001b[39m, in \u001b[36mHTTPAdapter.send\u001b[39m\u001b[34m(self, request, stream, timeout, verify, cert, proxies)\u001b[39m\n\u001b[32m    666\u001b[39m \u001b[38;5;28;01mtry\u001b[39;00m:\n\u001b[32m--> \u001b[39m\u001b[32m667\u001b[39m     resp = \u001b[43mconn\u001b[49m\u001b[43m.\u001b[49m\u001b[43murlopen\u001b[49m\u001b[43m(\u001b[49m\n\u001b[32m    668\u001b[39m \u001b[43m        \u001b[49m\u001b[43mmethod\u001b[49m\u001b[43m=\u001b[49m\u001b[43mrequest\u001b[49m\u001b[43m.\u001b[49m\u001b[43mmethod\u001b[49m\u001b[43m,\u001b[49m\n\u001b[32m    669\u001b[39m \u001b[43m        \u001b[49m\u001b[43murl\u001b[49m\u001b[43m=\u001b[49m\u001b[43murl\u001b[49m\u001b[43m,\u001b[49m\n\u001b[32m    670\u001b[39m \u001b[43m        \u001b[49m\u001b[43mbody\u001b[49m\u001b[43m=\u001b[49m\u001b[43mrequest\u001b[49m\u001b[43m.\u001b[49m\u001b[43mbody\u001b[49m\u001b[43m,\u001b[49m\n\u001b[32m    671\u001b[39m \u001b[43m        \u001b[49m\u001b[43mheaders\u001b[49m\u001b[43m=\u001b[49m\u001b[43mrequest\u001b[49m\u001b[43m.\u001b[49m\u001b[43mheaders\u001b[49m\u001b[43m,\u001b[49m\n\u001b[32m    672\u001b[39m \u001b[43m        \u001b[49m\u001b[43mredirect\u001b[49m\u001b[43m=\u001b[49m\u001b[38;5;28;43;01mFalse\u001b[39;49;00m\u001b[43m,\u001b[49m\n\u001b[32m    673\u001b[39m \u001b[43m        \u001b[49m\u001b[43massert_same_host\u001b[49m\u001b[43m=\u001b[49m\u001b[38;5;28;43;01mFalse\u001b[39;49;00m\u001b[43m,\u001b[49m\n\u001b[32m    674\u001b[39m \u001b[43m        \u001b[49m\u001b[43mpreload_content\u001b[49m\u001b[43m=\u001b[49m\u001b[38;5;28;43;01mFalse\u001b[39;49;00m\u001b[43m,\u001b[49m\n\u001b[32m    675\u001b[39m \u001b[43m        \u001b[49m\u001b[43mdecode_content\u001b[49m\u001b[43m=\u001b[49m\u001b[38;5;28;43;01mFalse\u001b[39;49;00m\u001b[43m,\u001b[49m\n\u001b[32m    676\u001b[39m \u001b[43m        \u001b[49m\u001b[43mretries\u001b[49m\u001b[43m=\u001b[49m\u001b[38;5;28;43mself\u001b[39;49m\u001b[43m.\u001b[49m\u001b[43mmax_retries\u001b[49m\u001b[43m,\u001b[49m\n\u001b[32m    677\u001b[39m \u001b[43m        \u001b[49m\u001b[43mtimeout\u001b[49m\u001b[43m=\u001b[49m\u001b[43mtimeout\u001b[49m\u001b[43m,\u001b[49m\n\u001b[32m    678\u001b[39m \u001b[43m        \u001b[49m\u001b[43mchunked\u001b[49m\u001b[43m=\u001b[49m\u001b[43mchunked\u001b[49m\u001b[43m,\u001b[49m\n\u001b[32m    679\u001b[39m \u001b[43m    \u001b[49m\u001b[43m)\u001b[49m\n\u001b[32m    681\u001b[39m \u001b[38;5;28;01mexcept\u001b[39;00m (ProtocolError, \u001b[38;5;167;01mOSError\u001b[39;00m) \u001b[38;5;28;01mas\u001b[39;00m err:\n",
      "\u001b[36mFile \u001b[39m\u001b[32m/opt/homebrew/anaconda3/envs/mlops/lib/python3.12/site-packages/urllib3/connectionpool.py:942\u001b[39m, in \u001b[36mHTTPConnectionPool.urlopen\u001b[39m\u001b[34m(self, method, url, body, headers, retries, redirect, assert_same_host, timeout, pool_timeout, release_conn, chunked, body_pos, preload_content, decode_content, **response_kw)\u001b[39m\n\u001b[32m    941\u001b[39m     log.debug(\u001b[33m\"\u001b[39m\u001b[33mRetry: \u001b[39m\u001b[38;5;132;01m%s\u001b[39;00m\u001b[33m\"\u001b[39m, url)\n\u001b[32m--> \u001b[39m\u001b[32m942\u001b[39m     \u001b[38;5;28;01mreturn\u001b[39;00m \u001b[38;5;28;43mself\u001b[39;49m\u001b[43m.\u001b[49m\u001b[43murlopen\u001b[49m\u001b[43m(\u001b[49m\n\u001b[32m    943\u001b[39m \u001b[43m        \u001b[49m\u001b[43mmethod\u001b[49m\u001b[43m,\u001b[49m\n\u001b[32m    944\u001b[39m \u001b[43m        \u001b[49m\u001b[43murl\u001b[49m\u001b[43m,\u001b[49m\n\u001b[32m    945\u001b[39m \u001b[43m        \u001b[49m\u001b[43mbody\u001b[49m\u001b[43m,\u001b[49m\n\u001b[32m    946\u001b[39m \u001b[43m        \u001b[49m\u001b[43mheaders\u001b[49m\u001b[43m,\u001b[49m\n\u001b[32m    947\u001b[39m \u001b[43m        \u001b[49m\u001b[43mretries\u001b[49m\u001b[43m=\u001b[49m\u001b[43mretries\u001b[49m\u001b[43m,\u001b[49m\n\u001b[32m    948\u001b[39m \u001b[43m        \u001b[49m\u001b[43mredirect\u001b[49m\u001b[43m=\u001b[49m\u001b[43mredirect\u001b[49m\u001b[43m,\u001b[49m\n\u001b[32m    949\u001b[39m \u001b[43m        \u001b[49m\u001b[43massert_same_host\u001b[49m\u001b[43m=\u001b[49m\u001b[43massert_same_host\u001b[49m\u001b[43m,\u001b[49m\n\u001b[32m    950\u001b[39m \u001b[43m        \u001b[49m\u001b[43mtimeout\u001b[49m\u001b[43m=\u001b[49m\u001b[43mtimeout\u001b[49m\u001b[43m,\u001b[49m\n\u001b[32m    951\u001b[39m \u001b[43m        \u001b[49m\u001b[43mpool_timeout\u001b[49m\u001b[43m=\u001b[49m\u001b[43mpool_timeout\u001b[49m\u001b[43m,\u001b[49m\n\u001b[32m    952\u001b[39m \u001b[43m        \u001b[49m\u001b[43mrelease_conn\u001b[49m\u001b[43m=\u001b[49m\u001b[43mrelease_conn\u001b[49m\u001b[43m,\u001b[49m\n\u001b[32m    953\u001b[39m \u001b[43m        \u001b[49m\u001b[43mchunked\u001b[49m\u001b[43m=\u001b[49m\u001b[43mchunked\u001b[49m\u001b[43m,\u001b[49m\n\u001b[32m    954\u001b[39m \u001b[43m        \u001b[49m\u001b[43mbody_pos\u001b[49m\u001b[43m=\u001b[49m\u001b[43mbody_pos\u001b[49m\u001b[43m,\u001b[49m\n\u001b[32m    955\u001b[39m \u001b[43m        \u001b[49m\u001b[43mpreload_content\u001b[49m\u001b[43m=\u001b[49m\u001b[43mpreload_content\u001b[49m\u001b[43m,\u001b[49m\n\u001b[32m    956\u001b[39m \u001b[43m        \u001b[49m\u001b[43mdecode_content\u001b[49m\u001b[43m=\u001b[49m\u001b[43mdecode_content\u001b[49m\u001b[43m,\u001b[49m\n\u001b[32m    957\u001b[39m \u001b[43m        \u001b[49m\u001b[43m*\u001b[49m\u001b[43m*\u001b[49m\u001b[43mresponse_kw\u001b[49m\u001b[43m,\u001b[49m\n\u001b[32m    958\u001b[39m \u001b[43m    \u001b[49m\u001b[43m)\u001b[49m\n\u001b[32m    960\u001b[39m \u001b[38;5;28;01mreturn\u001b[39;00m response\n",
      "\u001b[36mFile \u001b[39m\u001b[32m/opt/homebrew/anaconda3/envs/mlops/lib/python3.12/site-packages/urllib3/connectionpool.py:942\u001b[39m, in \u001b[36mHTTPConnectionPool.urlopen\u001b[39m\u001b[34m(self, method, url, body, headers, retries, redirect, assert_same_host, timeout, pool_timeout, release_conn, chunked, body_pos, preload_content, decode_content, **response_kw)\u001b[39m\n\u001b[32m    941\u001b[39m     log.debug(\u001b[33m\"\u001b[39m\u001b[33mRetry: \u001b[39m\u001b[38;5;132;01m%s\u001b[39;00m\u001b[33m\"\u001b[39m, url)\n\u001b[32m--> \u001b[39m\u001b[32m942\u001b[39m     \u001b[38;5;28;01mreturn\u001b[39;00m \u001b[38;5;28;43mself\u001b[39;49m\u001b[43m.\u001b[49m\u001b[43murlopen\u001b[49m\u001b[43m(\u001b[49m\n\u001b[32m    943\u001b[39m \u001b[43m        \u001b[49m\u001b[43mmethod\u001b[49m\u001b[43m,\u001b[49m\n\u001b[32m    944\u001b[39m \u001b[43m        \u001b[49m\u001b[43murl\u001b[49m\u001b[43m,\u001b[49m\n\u001b[32m    945\u001b[39m \u001b[43m        \u001b[49m\u001b[43mbody\u001b[49m\u001b[43m,\u001b[49m\n\u001b[32m    946\u001b[39m \u001b[43m        \u001b[49m\u001b[43mheaders\u001b[49m\u001b[43m,\u001b[49m\n\u001b[32m    947\u001b[39m \u001b[43m        \u001b[49m\u001b[43mretries\u001b[49m\u001b[43m=\u001b[49m\u001b[43mretries\u001b[49m\u001b[43m,\u001b[49m\n\u001b[32m    948\u001b[39m \u001b[43m        \u001b[49m\u001b[43mredirect\u001b[49m\u001b[43m=\u001b[49m\u001b[43mredirect\u001b[49m\u001b[43m,\u001b[49m\n\u001b[32m    949\u001b[39m \u001b[43m        \u001b[49m\u001b[43massert_same_host\u001b[49m\u001b[43m=\u001b[49m\u001b[43massert_same_host\u001b[49m\u001b[43m,\u001b[49m\n\u001b[32m    950\u001b[39m \u001b[43m        \u001b[49m\u001b[43mtimeout\u001b[49m\u001b[43m=\u001b[49m\u001b[43mtimeout\u001b[49m\u001b[43m,\u001b[49m\n\u001b[32m    951\u001b[39m \u001b[43m        \u001b[49m\u001b[43mpool_timeout\u001b[49m\u001b[43m=\u001b[49m\u001b[43mpool_timeout\u001b[49m\u001b[43m,\u001b[49m\n\u001b[32m    952\u001b[39m \u001b[43m        \u001b[49m\u001b[43mrelease_conn\u001b[49m\u001b[43m=\u001b[49m\u001b[43mrelease_conn\u001b[49m\u001b[43m,\u001b[49m\n\u001b[32m    953\u001b[39m \u001b[43m        \u001b[49m\u001b[43mchunked\u001b[49m\u001b[43m=\u001b[49m\u001b[43mchunked\u001b[49m\u001b[43m,\u001b[49m\n\u001b[32m    954\u001b[39m \u001b[43m        \u001b[49m\u001b[43mbody_pos\u001b[49m\u001b[43m=\u001b[49m\u001b[43mbody_pos\u001b[49m\u001b[43m,\u001b[49m\n\u001b[32m    955\u001b[39m \u001b[43m        \u001b[49m\u001b[43mpreload_content\u001b[49m\u001b[43m=\u001b[49m\u001b[43mpreload_content\u001b[49m\u001b[43m,\u001b[49m\n\u001b[32m    956\u001b[39m \u001b[43m        \u001b[49m\u001b[43mdecode_content\u001b[49m\u001b[43m=\u001b[49m\u001b[43mdecode_content\u001b[49m\u001b[43m,\u001b[49m\n\u001b[32m    957\u001b[39m \u001b[43m        \u001b[49m\u001b[43m*\u001b[49m\u001b[43m*\u001b[49m\u001b[43mresponse_kw\u001b[49m\u001b[43m,\u001b[49m\n\u001b[32m    958\u001b[39m \u001b[43m    \u001b[49m\u001b[43m)\u001b[49m\n\u001b[32m    960\u001b[39m \u001b[38;5;28;01mreturn\u001b[39;00m response\n",
      "    \u001b[31m[... skipping similar frames: HTTPConnectionPool.urlopen at line 942 (2 times)]\u001b[39m\n",
      "\u001b[36mFile \u001b[39m\u001b[32m/opt/homebrew/anaconda3/envs/mlops/lib/python3.12/site-packages/urllib3/connectionpool.py:942\u001b[39m, in \u001b[36mHTTPConnectionPool.urlopen\u001b[39m\u001b[34m(self, method, url, body, headers, retries, redirect, assert_same_host, timeout, pool_timeout, release_conn, chunked, body_pos, preload_content, decode_content, **response_kw)\u001b[39m\n\u001b[32m    941\u001b[39m     log.debug(\u001b[33m\"\u001b[39m\u001b[33mRetry: \u001b[39m\u001b[38;5;132;01m%s\u001b[39;00m\u001b[33m\"\u001b[39m, url)\n\u001b[32m--> \u001b[39m\u001b[32m942\u001b[39m     \u001b[38;5;28;01mreturn\u001b[39;00m \u001b[38;5;28;43mself\u001b[39;49m\u001b[43m.\u001b[49m\u001b[43murlopen\u001b[49m\u001b[43m(\u001b[49m\n\u001b[32m    943\u001b[39m \u001b[43m        \u001b[49m\u001b[43mmethod\u001b[49m\u001b[43m,\u001b[49m\n\u001b[32m    944\u001b[39m \u001b[43m        \u001b[49m\u001b[43murl\u001b[49m\u001b[43m,\u001b[49m\n\u001b[32m    945\u001b[39m \u001b[43m        \u001b[49m\u001b[43mbody\u001b[49m\u001b[43m,\u001b[49m\n\u001b[32m    946\u001b[39m \u001b[43m        \u001b[49m\u001b[43mheaders\u001b[49m\u001b[43m,\u001b[49m\n\u001b[32m    947\u001b[39m \u001b[43m        \u001b[49m\u001b[43mretries\u001b[49m\u001b[43m=\u001b[49m\u001b[43mretries\u001b[49m\u001b[43m,\u001b[49m\n\u001b[32m    948\u001b[39m \u001b[43m        \u001b[49m\u001b[43mredirect\u001b[49m\u001b[43m=\u001b[49m\u001b[43mredirect\u001b[49m\u001b[43m,\u001b[49m\n\u001b[32m    949\u001b[39m \u001b[43m        \u001b[49m\u001b[43massert_same_host\u001b[49m\u001b[43m=\u001b[49m\u001b[43massert_same_host\u001b[49m\u001b[43m,\u001b[49m\n\u001b[32m    950\u001b[39m \u001b[43m        \u001b[49m\u001b[43mtimeout\u001b[49m\u001b[43m=\u001b[49m\u001b[43mtimeout\u001b[49m\u001b[43m,\u001b[49m\n\u001b[32m    951\u001b[39m \u001b[43m        \u001b[49m\u001b[43mpool_timeout\u001b[49m\u001b[43m=\u001b[49m\u001b[43mpool_timeout\u001b[49m\u001b[43m,\u001b[49m\n\u001b[32m    952\u001b[39m \u001b[43m        \u001b[49m\u001b[43mrelease_conn\u001b[49m\u001b[43m=\u001b[49m\u001b[43mrelease_conn\u001b[49m\u001b[43m,\u001b[49m\n\u001b[32m    953\u001b[39m \u001b[43m        \u001b[49m\u001b[43mchunked\u001b[49m\u001b[43m=\u001b[49m\u001b[43mchunked\u001b[49m\u001b[43m,\u001b[49m\n\u001b[32m    954\u001b[39m \u001b[43m        \u001b[49m\u001b[43mbody_pos\u001b[49m\u001b[43m=\u001b[49m\u001b[43mbody_pos\u001b[49m\u001b[43m,\u001b[49m\n\u001b[32m    955\u001b[39m \u001b[43m        \u001b[49m\u001b[43mpreload_content\u001b[49m\u001b[43m=\u001b[49m\u001b[43mpreload_content\u001b[49m\u001b[43m,\u001b[49m\n\u001b[32m    956\u001b[39m \u001b[43m        \u001b[49m\u001b[43mdecode_content\u001b[49m\u001b[43m=\u001b[49m\u001b[43mdecode_content\u001b[49m\u001b[43m,\u001b[49m\n\u001b[32m    957\u001b[39m \u001b[43m        \u001b[49m\u001b[43m*\u001b[49m\u001b[43m*\u001b[49m\u001b[43mresponse_kw\u001b[49m\u001b[43m,\u001b[49m\n\u001b[32m    958\u001b[39m \u001b[43m    \u001b[49m\u001b[43m)\u001b[49m\n\u001b[32m    960\u001b[39m \u001b[38;5;28;01mreturn\u001b[39;00m response\n",
      "\u001b[36mFile \u001b[39m\u001b[32m/opt/homebrew/anaconda3/envs/mlops/lib/python3.12/site-packages/urllib3/connectionpool.py:932\u001b[39m, in \u001b[36mHTTPConnectionPool.urlopen\u001b[39m\u001b[34m(self, method, url, body, headers, retries, redirect, assert_same_host, timeout, pool_timeout, release_conn, chunked, body_pos, preload_content, decode_content, **response_kw)\u001b[39m\n\u001b[32m    931\u001b[39m \u001b[38;5;28;01mtry\u001b[39;00m:\n\u001b[32m--> \u001b[39m\u001b[32m932\u001b[39m     retries = \u001b[43mretries\u001b[49m\u001b[43m.\u001b[49m\u001b[43mincrement\u001b[49m\u001b[43m(\u001b[49m\u001b[43mmethod\u001b[49m\u001b[43m,\u001b[49m\u001b[43m \u001b[49m\u001b[43murl\u001b[49m\u001b[43m,\u001b[49m\u001b[43m \u001b[49m\u001b[43mresponse\u001b[49m\u001b[43m=\u001b[49m\u001b[43mresponse\u001b[49m\u001b[43m,\u001b[49m\u001b[43m \u001b[49m\u001b[43m_pool\u001b[49m\u001b[43m=\u001b[49m\u001b[38;5;28;43mself\u001b[39;49m\u001b[43m)\u001b[49m\n\u001b[32m    933\u001b[39m \u001b[38;5;28;01mexcept\u001b[39;00m MaxRetryError:\n",
      "\u001b[36mFile \u001b[39m\u001b[32m/opt/homebrew/anaconda3/envs/mlops/lib/python3.12/site-packages/urllib3/util/retry.py:519\u001b[39m, in \u001b[36mRetry.increment\u001b[39m\u001b[34m(self, method, url, response, error, _pool, _stacktrace)\u001b[39m\n\u001b[32m    518\u001b[39m     reason = error \u001b[38;5;129;01mor\u001b[39;00m ResponseError(cause)\n\u001b[32m--> \u001b[39m\u001b[32m519\u001b[39m     \u001b[38;5;28;01mraise\u001b[39;00m MaxRetryError(_pool, url, reason) \u001b[38;5;28;01mfrom\u001b[39;00m\u001b[38;5;250m \u001b[39m\u001b[34;01mreason\u001b[39;00m  \u001b[38;5;66;03m# type: ignore[arg-type]\u001b[39;00m\n\u001b[32m    521\u001b[39m log.debug(\u001b[33m\"\u001b[39m\u001b[33mIncremented Retry for (url=\u001b[39m\u001b[33m'\u001b[39m\u001b[38;5;132;01m%s\u001b[39;00m\u001b[33m'\u001b[39m\u001b[33m): \u001b[39m\u001b[38;5;132;01m%r\u001b[39;00m\u001b[33m\"\u001b[39m, url, new_retry)\n",
      "\u001b[31mMaxRetryError\u001b[39m: HTTPSConnectionPool(host='mlops-service-616366923242.us-west2.run.app', port=443): Max retries exceeded with url: /api/2.0/mlflow/runs/log-batch (Caused by ResponseError('too many 503 error responses'))",
      "\nDuring handling of the above exception, another exception occurred:\n",
      "\u001b[31mRetryError\u001b[39m                                Traceback (most recent call last)",
      "\u001b[36mFile \u001b[39m\u001b[32m/opt/homebrew/anaconda3/envs/mlops/lib/python3.12/site-packages/mlflow/utils/rest_utils.py:187\u001b[39m, in \u001b[36mhttp_request\u001b[39m\u001b[34m(host_creds, endpoint, method, max_retries, backoff_factor, backoff_jitter, extra_headers, retry_codes, timeout, raise_on_status, respect_retry_after_header, **kwargs)\u001b[39m\n\u001b[32m    186\u001b[39m \u001b[38;5;28;01mtry\u001b[39;00m:\n\u001b[32m--> \u001b[39m\u001b[32m187\u001b[39m     \u001b[38;5;28;01mreturn\u001b[39;00m \u001b[43m_get_http_response_with_retries\u001b[49m\u001b[43m(\u001b[49m\n\u001b[32m    188\u001b[39m \u001b[43m        \u001b[49m\u001b[43mmethod\u001b[49m\u001b[43m,\u001b[49m\n\u001b[32m    189\u001b[39m \u001b[43m        \u001b[49m\u001b[43murl\u001b[49m\u001b[43m,\u001b[49m\n\u001b[32m    190\u001b[39m \u001b[43m        \u001b[49m\u001b[43mmax_retries\u001b[49m\u001b[43m,\u001b[49m\n\u001b[32m    191\u001b[39m \u001b[43m        \u001b[49m\u001b[43mbackoff_factor\u001b[49m\u001b[43m,\u001b[49m\n\u001b[32m    192\u001b[39m \u001b[43m        \u001b[49m\u001b[43mbackoff_jitter\u001b[49m\u001b[43m,\u001b[49m\n\u001b[32m    193\u001b[39m \u001b[43m        \u001b[49m\u001b[43mretry_codes\u001b[49m\u001b[43m,\u001b[49m\n\u001b[32m    194\u001b[39m \u001b[43m        \u001b[49m\u001b[43mraise_on_status\u001b[49m\u001b[43m,\u001b[49m\n\u001b[32m    195\u001b[39m \u001b[43m        \u001b[49m\u001b[43mheaders\u001b[49m\u001b[43m=\u001b[49m\u001b[43mheaders\u001b[49m\u001b[43m,\u001b[49m\n\u001b[32m    196\u001b[39m \u001b[43m        \u001b[49m\u001b[43mverify\u001b[49m\u001b[43m=\u001b[49m\u001b[43mhost_creds\u001b[49m\u001b[43m.\u001b[49m\u001b[43mverify\u001b[49m\u001b[43m,\u001b[49m\n\u001b[32m    197\u001b[39m \u001b[43m        \u001b[49m\u001b[43mtimeout\u001b[49m\u001b[43m=\u001b[49m\u001b[43mtimeout\u001b[49m\u001b[43m,\u001b[49m\n\u001b[32m    198\u001b[39m \u001b[43m        \u001b[49m\u001b[43mrespect_retry_after_header\u001b[49m\u001b[43m=\u001b[49m\u001b[43mrespect_retry_after_header\u001b[49m\u001b[43m,\u001b[49m\n\u001b[32m    199\u001b[39m \u001b[43m        \u001b[49m\u001b[43m*\u001b[49m\u001b[43m*\u001b[49m\u001b[43mkwargs\u001b[49m\u001b[43m,\u001b[49m\n\u001b[32m    200\u001b[39m \u001b[43m    \u001b[49m\u001b[43m)\u001b[49m\n\u001b[32m    201\u001b[39m \u001b[38;5;28;01mexcept\u001b[39;00m requests.exceptions.Timeout \u001b[38;5;28;01mas\u001b[39;00m to:\n",
      "\u001b[36mFile \u001b[39m\u001b[32m/opt/homebrew/anaconda3/envs/mlops/lib/python3.12/site-packages/mlflow/utils/request_utils.py:237\u001b[39m, in \u001b[36m_get_http_response_with_retries\u001b[39m\u001b[34m(method, url, max_retries, backoff_factor, backoff_jitter, retry_codes, raise_on_status, allow_redirects, respect_retry_after_header, **kwargs)\u001b[39m\n\u001b[32m    235\u001b[39m allow_redirects = env_value \u001b[38;5;28;01mif\u001b[39;00m allow_redirects \u001b[38;5;129;01mis\u001b[39;00m \u001b[38;5;28;01mNone\u001b[39;00m \u001b[38;5;28;01melse\u001b[39;00m allow_redirects\n\u001b[32m--> \u001b[39m\u001b[32m237\u001b[39m \u001b[38;5;28;01mreturn\u001b[39;00m \u001b[43msession\u001b[49m\u001b[43m.\u001b[49m\u001b[43mrequest\u001b[49m\u001b[43m(\u001b[49m\u001b[43mmethod\u001b[49m\u001b[43m,\u001b[49m\u001b[43m \u001b[49m\u001b[43murl\u001b[49m\u001b[43m,\u001b[49m\u001b[43m \u001b[49m\u001b[43mallow_redirects\u001b[49m\u001b[43m=\u001b[49m\u001b[43mallow_redirects\u001b[49m\u001b[43m,\u001b[49m\u001b[43m \u001b[49m\u001b[43m*\u001b[49m\u001b[43m*\u001b[49m\u001b[43mkwargs\u001b[49m\u001b[43m)\u001b[49m\n",
      "\u001b[36mFile \u001b[39m\u001b[32m/opt/homebrew/anaconda3/envs/mlops/lib/python3.12/site-packages/requests/sessions.py:589\u001b[39m, in \u001b[36mSession.request\u001b[39m\u001b[34m(self, method, url, params, data, headers, cookies, files, auth, timeout, allow_redirects, proxies, hooks, stream, verify, cert, json)\u001b[39m\n\u001b[32m    588\u001b[39m send_kwargs.update(settings)\n\u001b[32m--> \u001b[39m\u001b[32m589\u001b[39m resp = \u001b[38;5;28;43mself\u001b[39;49m\u001b[43m.\u001b[49m\u001b[43msend\u001b[49m\u001b[43m(\u001b[49m\u001b[43mprep\u001b[49m\u001b[43m,\u001b[49m\u001b[43m \u001b[49m\u001b[43m*\u001b[49m\u001b[43m*\u001b[49m\u001b[43msend_kwargs\u001b[49m\u001b[43m)\u001b[49m\n\u001b[32m    591\u001b[39m \u001b[38;5;28;01mreturn\u001b[39;00m resp\n",
      "\u001b[36mFile \u001b[39m\u001b[32m/opt/homebrew/anaconda3/envs/mlops/lib/python3.12/site-packages/requests/sessions.py:703\u001b[39m, in \u001b[36mSession.send\u001b[39m\u001b[34m(self, request, **kwargs)\u001b[39m\n\u001b[32m    702\u001b[39m \u001b[38;5;66;03m# Send the request\u001b[39;00m\n\u001b[32m--> \u001b[39m\u001b[32m703\u001b[39m r = \u001b[43madapter\u001b[49m\u001b[43m.\u001b[49m\u001b[43msend\u001b[49m\u001b[43m(\u001b[49m\u001b[43mrequest\u001b[49m\u001b[43m,\u001b[49m\u001b[43m \u001b[49m\u001b[43m*\u001b[49m\u001b[43m*\u001b[49m\u001b[43mkwargs\u001b[49m\u001b[43m)\u001b[49m\n\u001b[32m    705\u001b[39m \u001b[38;5;66;03m# Total elapsed time of the request (approximately)\u001b[39;00m\n",
      "\u001b[36mFile \u001b[39m\u001b[32m/opt/homebrew/anaconda3/envs/mlops/lib/python3.12/site-packages/requests/adapters.py:691\u001b[39m, in \u001b[36mHTTPAdapter.send\u001b[39m\u001b[34m(self, request, stream, timeout, verify, cert, proxies)\u001b[39m\n\u001b[32m    690\u001b[39m \u001b[38;5;28;01mif\u001b[39;00m \u001b[38;5;28misinstance\u001b[39m(e.reason, ResponseError):\n\u001b[32m--> \u001b[39m\u001b[32m691\u001b[39m     \u001b[38;5;28;01mraise\u001b[39;00m RetryError(e, request=request)\n\u001b[32m    693\u001b[39m \u001b[38;5;28;01mif\u001b[39;00m \u001b[38;5;28misinstance\u001b[39m(e.reason, _ProxyError):\n",
      "\u001b[31mRetryError\u001b[39m: HTTPSConnectionPool(host='mlops-service-616366923242.us-west2.run.app', port=443): Max retries exceeded with url: /api/2.0/mlflow/runs/log-batch (Caused by ResponseError('too many 503 error responses'))",
      "\nDuring handling of the above exception, another exception occurred:\n",
      "\u001b[31mMlflowException\u001b[39m                           Traceback (most recent call last)",
      "\u001b[36mCell\u001b[39m\u001b[36m \u001b[39m\u001b[32mIn[50]\u001b[39m\u001b[32m, line 12\u001b[39m\n\u001b[32m      9\u001b[39m mean_test_score = random_search.cv_results_[\u001b[33m'\u001b[39m\u001b[33mmean_test_score\u001b[39m\u001b[33m'\u001b[39m][i]\n\u001b[32m     11\u001b[39m \u001b[38;5;28;01mwith\u001b[39;00m mlflow.start_run(run_name=\u001b[33mf\u001b[39m\u001b[33m\"\u001b[39m\u001b[38;5;132;01m{\u001b[39;00mname\u001b[38;5;132;01m}\u001b[39;00m\u001b[33m_Trial_\u001b[39m\u001b[38;5;132;01m{\u001b[39;00mi\u001b[38;5;250m \u001b[39m+\u001b[38;5;250m \u001b[39m\u001b[32m1\u001b[39m\u001b[38;5;132;01m}\u001b[39;00m\u001b[33m_subset_features\u001b[39m\u001b[33m\"\u001b[39m):\n\u001b[32m---> \u001b[39m\u001b[32m12\u001b[39m     \u001b[43mmlflow\u001b[49m\u001b[43m.\u001b[49m\u001b[43mset_tags\u001b[49m\u001b[43m(\u001b[49m\u001b[43m{\u001b[49m\u001b[33;43m\"\u001b[39;49m\u001b[33;43mModel\u001b[39;49m\u001b[33;43m\"\u001b[39;49m\u001b[43m:\u001b[49m\u001b[43m \u001b[49m\u001b[43mname\u001b[49m\u001b[43m,\u001b[49m\u001b[43m \u001b[49m\u001b[33;43m\"\u001b[39;49m\u001b[33;43mApproach\u001b[39;49m\u001b[33;43m\"\u001b[39;49m\u001b[43m:\u001b[49m\u001b[43m \u001b[49m\u001b[33;43m\"\u001b[39;49m\u001b[33;43mHyperparameter Tuning\u001b[39;49m\u001b[33;43m\"\u001b[39;49m\u001b[43m}\u001b[49m\u001b[43m)\u001b[49m\n\u001b[32m     13\u001b[39m     mlflow.log_params(params)\n\u001b[32m     14\u001b[39m     mlflow.log_metric(\u001b[33m\"\u001b[39m\u001b[33mMean_CV_Score\u001b[39m\u001b[33m\"\u001b[39m, mean_test_score)\n",
      "\u001b[36mFile \u001b[39m\u001b[32m/opt/homebrew/anaconda3/envs/mlops/lib/python3.12/site-packages/mlflow/tracking/fluent.py:1073\u001b[39m, in \u001b[36mset_tags\u001b[39m\u001b[34m(tags, synchronous)\u001b[39m\n\u001b[32m   1071\u001b[39m tags_arr = [RunTag(key, \u001b[38;5;28mstr\u001b[39m(value)) \u001b[38;5;28;01mfor\u001b[39;00m key, value \u001b[38;5;129;01min\u001b[39;00m tags.items()]\n\u001b[32m   1072\u001b[39m synchronous = synchronous \u001b[38;5;28;01mif\u001b[39;00m synchronous \u001b[38;5;129;01mis\u001b[39;00m \u001b[38;5;129;01mnot\u001b[39;00m \u001b[38;5;28;01mNone\u001b[39;00m \u001b[38;5;28;01melse\u001b[39;00m \u001b[38;5;129;01mnot\u001b[39;00m MLFLOW_ENABLE_ASYNC_LOGGING.get()\n\u001b[32m-> \u001b[39m\u001b[32m1073\u001b[39m \u001b[38;5;28;01mreturn\u001b[39;00m \u001b[43mMlflowClient\u001b[49m\u001b[43m(\u001b[49m\u001b[43m)\u001b[49m\u001b[43m.\u001b[49m\u001b[43mlog_batch\u001b[49m\u001b[43m(\u001b[49m\n\u001b[32m   1074\u001b[39m \u001b[43m    \u001b[49m\u001b[43mrun_id\u001b[49m\u001b[43m=\u001b[49m\u001b[43mrun_id\u001b[49m\u001b[43m,\u001b[49m\u001b[43m \u001b[49m\u001b[43mmetrics\u001b[49m\u001b[43m=\u001b[49m\u001b[43m[\u001b[49m\u001b[43m]\u001b[49m\u001b[43m,\u001b[49m\u001b[43m \u001b[49m\u001b[43mparams\u001b[49m\u001b[43m=\u001b[49m\u001b[43m[\u001b[49m\u001b[43m]\u001b[49m\u001b[43m,\u001b[49m\u001b[43m \u001b[49m\u001b[43mtags\u001b[49m\u001b[43m=\u001b[49m\u001b[43mtags_arr\u001b[49m\u001b[43m,\u001b[49m\u001b[43m \u001b[49m\u001b[43msynchronous\u001b[49m\u001b[43m=\u001b[49m\u001b[43msynchronous\u001b[49m\n\u001b[32m   1075\u001b[39m \u001b[43m\u001b[49m\u001b[43m)\u001b[49m\n",
      "\u001b[36mFile \u001b[39m\u001b[32m/opt/homebrew/anaconda3/envs/mlops/lib/python3.12/site-packages/mlflow/tracking/client.py:1846\u001b[39m, in \u001b[36mMlflowClient.log_batch\u001b[39m\u001b[34m(self, run_id, metrics, params, tags, synchronous)\u001b[39m\n\u001b[32m   1777\u001b[39m \u001b[38;5;250m\u001b[39m\u001b[33;03m\"\"\"\u001b[39;00m\n\u001b[32m   1778\u001b[39m \u001b[33;03mLog multiple metrics, params, and/or tags.\u001b[39;00m\n\u001b[32m   1779\u001b[39m \n\u001b[32m   (...)\u001b[39m\u001b[32m   1841\u001b[39m \n\u001b[32m   1842\u001b[39m \u001b[33;03m\"\"\"\u001b[39;00m\n\u001b[32m   1843\u001b[39m synchronous = (\n\u001b[32m   1844\u001b[39m     synchronous \u001b[38;5;28;01mif\u001b[39;00m synchronous \u001b[38;5;129;01mis\u001b[39;00m \u001b[38;5;129;01mnot\u001b[39;00m \u001b[38;5;28;01mNone\u001b[39;00m \u001b[38;5;28;01melse\u001b[39;00m \u001b[38;5;129;01mnot\u001b[39;00m MLFLOW_ENABLE_ASYNC_LOGGING.get()\n\u001b[32m   1845\u001b[39m )\n\u001b[32m-> \u001b[39m\u001b[32m1846\u001b[39m \u001b[38;5;28;01mreturn\u001b[39;00m \u001b[38;5;28;43mself\u001b[39;49m\u001b[43m.\u001b[49m\u001b[43m_tracking_client\u001b[49m\u001b[43m.\u001b[49m\u001b[43mlog_batch\u001b[49m\u001b[43m(\u001b[49m\n\u001b[32m   1847\u001b[39m \u001b[43m    \u001b[49m\u001b[43mrun_id\u001b[49m\u001b[43m,\u001b[49m\u001b[43m \u001b[49m\u001b[43mmetrics\u001b[49m\u001b[43m,\u001b[49m\u001b[43m \u001b[49m\u001b[43mparams\u001b[49m\u001b[43m,\u001b[49m\u001b[43m \u001b[49m\u001b[43mtags\u001b[49m\u001b[43m,\u001b[49m\u001b[43m \u001b[49m\u001b[43msynchronous\u001b[49m\u001b[43m=\u001b[49m\u001b[43msynchronous\u001b[49m\n\u001b[32m   1848\u001b[39m \u001b[43m\u001b[49m\u001b[43m)\u001b[49m\n",
      "\u001b[36mFile \u001b[39m\u001b[32m/opt/homebrew/anaconda3/envs/mlops/lib/python3.12/site-packages/mlflow/tracking/_tracking_service/client.py:718\u001b[39m, in \u001b[36mTrackingServiceClient.log_batch\u001b[39m\u001b[34m(self, run_id, metrics, params, tags, synchronous)\u001b[39m\n\u001b[32m    715\u001b[39m metrics = metrics[metrics_batch_size:]\n\u001b[32m    717\u001b[39m \u001b[38;5;28;01mif\u001b[39;00m synchronous:\n\u001b[32m--> \u001b[39m\u001b[32m718\u001b[39m     \u001b[38;5;28;43mself\u001b[39;49m\u001b[43m.\u001b[49m\u001b[43mstore\u001b[49m\u001b[43m.\u001b[49m\u001b[43mlog_batch\u001b[49m\u001b[43m(\u001b[49m\n\u001b[32m    719\u001b[39m \u001b[43m        \u001b[49m\u001b[43mrun_id\u001b[49m\u001b[43m=\u001b[49m\u001b[43mrun_id\u001b[49m\u001b[43m,\u001b[49m\u001b[43m \u001b[49m\u001b[43mmetrics\u001b[49m\u001b[43m=\u001b[49m\u001b[43mmetrics_batch\u001b[49m\u001b[43m,\u001b[49m\u001b[43m \u001b[49m\u001b[43mparams\u001b[49m\u001b[43m=\u001b[49m\u001b[43mparams_batch\u001b[49m\u001b[43m,\u001b[49m\u001b[43m \u001b[49m\u001b[43mtags\u001b[49m\u001b[43m=\u001b[49m\u001b[43mtags_batch\u001b[49m\n\u001b[32m    720\u001b[39m \u001b[43m    \u001b[49m\u001b[43m)\u001b[49m\n\u001b[32m    721\u001b[39m \u001b[38;5;28;01melse\u001b[39;00m:\n\u001b[32m    722\u001b[39m     run_operations_list.append(\n\u001b[32m    723\u001b[39m         \u001b[38;5;28mself\u001b[39m.store.log_batch_async(\n\u001b[32m    724\u001b[39m             run_id=run_id,\n\u001b[32m   (...)\u001b[39m\u001b[32m    728\u001b[39m         )\n\u001b[32m    729\u001b[39m     )\n",
      "\u001b[36mFile \u001b[39m\u001b[32m/opt/homebrew/anaconda3/envs/mlops/lib/python3.12/site-packages/mlflow/store/tracking/rest_store.py:535\u001b[39m, in \u001b[36mRestStore.log_batch\u001b[39m\u001b[34m(self, run_id, metrics, params, tags)\u001b[39m\n\u001b[32m    531\u001b[39m tag_protos = [tag.to_proto() \u001b[38;5;28;01mfor\u001b[39;00m tag \u001b[38;5;129;01min\u001b[39;00m tags]\n\u001b[32m    532\u001b[39m req_body = message_to_json(\n\u001b[32m    533\u001b[39m     LogBatch(metrics=metric_protos, params=param_protos, tags=tag_protos, run_id=run_id)\n\u001b[32m    534\u001b[39m )\n\u001b[32m--> \u001b[39m\u001b[32m535\u001b[39m \u001b[38;5;28;43mself\u001b[39;49m\u001b[43m.\u001b[49m\u001b[43m_call_endpoint\u001b[49m\u001b[43m(\u001b[49m\u001b[43mLogBatch\u001b[49m\u001b[43m,\u001b[49m\u001b[43m \u001b[49m\u001b[43mreq_body\u001b[49m\u001b[43m)\u001b[49m\n",
      "\u001b[36mFile \u001b[39m\u001b[32m/opt/homebrew/anaconda3/envs/mlops/lib/python3.12/site-packages/mlflow/store/tracking/rest_store.py:81\u001b[39m, in \u001b[36mRestStore._call_endpoint\u001b[39m\u001b[34m(self, api, json_body, endpoint)\u001b[39m\n\u001b[32m     79\u001b[39m     endpoint, method = _METHOD_TO_INFO[api]\n\u001b[32m     80\u001b[39m response_proto = api.Response()\n\u001b[32m---> \u001b[39m\u001b[32m81\u001b[39m \u001b[38;5;28;01mreturn\u001b[39;00m \u001b[43mcall_endpoint\u001b[49m\u001b[43m(\u001b[49m\u001b[38;5;28;43mself\u001b[39;49m\u001b[43m.\u001b[49m\u001b[43mget_host_creds\u001b[49m\u001b[43m(\u001b[49m\u001b[43m)\u001b[49m\u001b[43m,\u001b[49m\u001b[43m \u001b[49m\u001b[43mendpoint\u001b[49m\u001b[43m,\u001b[49m\u001b[43m \u001b[49m\u001b[43mmethod\u001b[49m\u001b[43m,\u001b[49m\u001b[43m \u001b[49m\u001b[43mjson_body\u001b[49m\u001b[43m,\u001b[49m\u001b[43m \u001b[49m\u001b[43mresponse_proto\u001b[49m\u001b[43m)\u001b[49m\n",
      "\u001b[36mFile \u001b[39m\u001b[32m/opt/homebrew/anaconda3/envs/mlops/lib/python3.12/site-packages/mlflow/utils/rest_utils.py:360\u001b[39m, in \u001b[36mcall_endpoint\u001b[39m\u001b[34m(host_creds, endpoint, method, json_body, response_proto, extra_headers)\u001b[39m\n\u001b[32m    358\u001b[39m \u001b[38;5;28;01melse\u001b[39;00m:\n\u001b[32m    359\u001b[39m     call_kwargs[\u001b[33m\"\u001b[39m\u001b[33mjson\u001b[39m\u001b[33m\"\u001b[39m] = json_body\n\u001b[32m--> \u001b[39m\u001b[32m360\u001b[39m     response = \u001b[43mhttp_request\u001b[49m\u001b[43m(\u001b[49m\u001b[43m*\u001b[49m\u001b[43m*\u001b[49m\u001b[43mcall_kwargs\u001b[49m\u001b[43m)\u001b[49m\n\u001b[32m    362\u001b[39m response = verify_rest_response(response, endpoint)\n\u001b[32m    363\u001b[39m js_dict = json.loads(response.text)\n",
      "\u001b[36mFile \u001b[39m\u001b[32m/opt/homebrew/anaconda3/envs/mlops/lib/python3.12/site-packages/mlflow/utils/rest_utils.py:210\u001b[39m, in \u001b[36mhttp_request\u001b[39m\u001b[34m(host_creds, endpoint, method, max_retries, backoff_factor, backoff_jitter, extra_headers, retry_codes, timeout, raise_on_status, respect_retry_after_header, **kwargs)\u001b[39m\n\u001b[32m    208\u001b[39m     \u001b[38;5;28;01mraise\u001b[39;00m InvalidUrlException(\u001b[33mf\u001b[39m\u001b[33m\"\u001b[39m\u001b[33mInvalid url: \u001b[39m\u001b[38;5;132;01m{\u001b[39;00murl\u001b[38;5;132;01m}\u001b[39;00m\u001b[33m\"\u001b[39m) \u001b[38;5;28;01mfrom\u001b[39;00m\u001b[38;5;250m \u001b[39m\u001b[34;01miu\u001b[39;00m\n\u001b[32m    209\u001b[39m \u001b[38;5;28;01mexcept\u001b[39;00m \u001b[38;5;167;01mException\u001b[39;00m \u001b[38;5;28;01mas\u001b[39;00m e:\n\u001b[32m--> \u001b[39m\u001b[32m210\u001b[39m     \u001b[38;5;28;01mraise\u001b[39;00m MlflowException(\u001b[33mf\u001b[39m\u001b[33m\"\u001b[39m\u001b[33mAPI request to \u001b[39m\u001b[38;5;132;01m{\u001b[39;00murl\u001b[38;5;132;01m}\u001b[39;00m\u001b[33m failed with exception \u001b[39m\u001b[38;5;132;01m{\u001b[39;00me\u001b[38;5;132;01m}\u001b[39;00m\u001b[33m\"\u001b[39m)\n",
      "\u001b[31mMlflowException\u001b[39m: API request to https://mlops-service-616366923242.us-west2.run.app/api/2.0/mlflow/runs/log-batch failed with exception HTTPSConnectionPool(host='mlops-service-616366923242.us-west2.run.app', port=443): Max retries exceeded with url: /api/2.0/mlflow/runs/log-batch (Caused by ResponseError('too many 503 error responses'))"
     ]
    }
   ],
   "source": [
    "\n",
    "for name, model in models.items():\n",
    "    print(f\"Tuning {name}...\")\n",
    "    \n",
    "    random_search = RandomizedSearchCV(model, param_grids[name], n_iter=5, cv=3, random_state=0, n_jobs=-1)\n",
    "    random_search.fit(X_train2, y_train2)\n",
    "\n",
    "    for i in range(len(random_search.cv_results_['params'])):\n",
    "        params = random_search.cv_results_['params'][i]\n",
    "        mean_test_score = random_search.cv_results_['mean_test_score'][i]\n",
    "\n",
    "        with mlflow.start_run(run_name=f\"{name}_Trial_{i + 1}_subset_features\"):\n",
    "            mlflow.set_tags({\"Model\": name, \"Approach\": \"Hyperparameter Tuning\"})\n",
    "            mlflow.log_params(params)\n",
    "            mlflow.log_metric(\"Mean_CV_Score\", mean_test_score)\n",
    "\n",
    "    best_model = random_search.best_estimator_\n",
    "    y_pred2 = best_model.predict(X_test2)\n",
    "    mse = mean_squared_error(y_test2, y_pred2)\n",
    "    r2 = r2_score(y_test2, y_pred2)\n",
    "\n",
    "    with mlflow.start_run(run_name=f\"{name}_Best_Model_subset_features\"):\n",
    "        mlflow.set_tags({\"Model\": name, \"Approach\": \"Best Model Logging\"})\n",
    "        mlflow.log_params(random_search.best_params_)\n",
    "        mlflow.log_metric(\"MSE\", mse)\n",
    "        mlflow.log_metric(\"R2_Score\", r2)\n",
    "        mlflow.sklearn.log_model(best_model, f\"{name}_Best_Model\")\n",
    "    \n",
    "    print(f\"{name} - Best Params: {random_search.best_params_}\")\n",
    "    print(f\"{name} - MSE: {mse:.2f}, R²: {r2:.2f}\\n\")"
   ]
  },
  {
   "cell_type": "markdown",
   "metadata": {},
   "source": [
    "### registry best model"
   ]
  },
  {
   "cell_type": "code",
   "execution_count": 51,
   "metadata": {},
   "outputs": [
    {
     "name": "stderr",
     "output_type": "stream",
     "text": [
      "Successfully registered model 'world_happy_dataset'.\n",
      "2025/04/16 23:02:17 INFO mlflow.store.model_registry.abstract_store: Waiting up to 300 seconds for model version to finish creation. Model name: world_happy_dataset, version 1\n",
      "Created version '1' of model 'world_happy_dataset'.\n"
     ]
    },
    {
     "data": {
      "text/plain": [
       "<ModelVersion: aliases=[], creation_timestamp=1744869737748, current_stage='None', description='', last_updated_timestamp=1744869737748, name='world_happy_dataset', run_id='87663a24c43c4ffbb0f6a6d761350128', run_link='', source='mlflow-artifacts:/4/87663a24c43c4ffbb0f6a6d761350128/artifacts/artifacts/better_models', status='READY', status_message='', tags={}, user_id='', version='1'>"
      ]
     },
     "execution_count": 51,
     "metadata": {},
     "output_type": "execute_result"
    }
   ],
   "source": [
    "runid = '87663a24c43c4ffbb0f6a6d761350128'\n",
    "mod_path = f'runs:/{runid}/artifacts/better_models'\n",
    "mlflow.register_model(model_uri = mod_path, name = 'world_happy_dataset')"
   ]
  }
 ],
 "metadata": {
  "kernelspec": {
   "display_name": "mlops",
   "language": "python",
   "name": "python3"
  },
  "language_info": {
   "codemirror_mode": {
    "name": "ipython",
    "version": 3
   },
   "file_extension": ".py",
   "mimetype": "text/x-python",
   "name": "python",
   "nbconvert_exporter": "python",
   "pygments_lexer": "ipython3",
   "version": "3.12.9"
  }
 },
 "nbformat": 4,
 "nbformat_minor": 2
}
